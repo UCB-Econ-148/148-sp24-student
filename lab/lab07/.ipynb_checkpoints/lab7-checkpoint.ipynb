{
 "cells": [
  {
   "cell_type": "code",
   "execution_count": 1,
   "id": "e7ab05bf-774f-4c01-b974-3ec136bbc95c",
   "metadata": {
    "tags": []
   },
   "outputs": [],
   "source": [
    "import pandas as pd\n",
    "import numpy as np\n",
    "import statsmodels.api as sm\n",
    "from sklearn.model_selection import train_test_split\n",
    "import warnings\n",
    "warnings.filterwarnings('ignore')"
   ]
  },
  {
   "cell_type": "markdown",
   "id": "7f6641a1-a0d9-4cdd-8753-c6222618c97a",
   "metadata": {},
   "source": [
    "# Lab 7: Study Replication: The Impact of Minimum Wage on Employment\n",
    "\n",
    "## Overview\n",
    "\n",
    "We are going to replicate a study conducted by **[Card and Krueger in 1994](https://davidcard.berkeley.edu/papers/njmin-aer.pdf)** that investigates the relationship between a rise in the minimum wage and employment.\n",
    "\n",
    "## Background\n",
    "\n",
    "[Economic theories](https://www.frbsf.org/research-and-insights/publications/economic-letter/2015/12/effects-of-minimum-wage-on-employment/) have long suggested that increases in the minimum wage lead to a reduction in employment for at least two reasons:\n",
    "\n",
    "1. **Businesses are less likely to hire** and will rather invest in other resources that are now cheaper because of the wage increase.\n",
    "2. **Higher salaries will induce businesses to raise their prices** to compensate for their greater costs; as prices increase, we expect fewer buyers, which will lead to lower demand and employment.\n",
    "\n",
    "These theories have found [mixed support](https://www.nber.org/papers/w12663), but the discussion is still very much open within the policy world, as states discuss the opportunity to raise their minimum wage to help local populations to face increasing living costs. Discussions are currently occurring in **[New Jersey](https://www.nytimes.com/2019/01/17/nyregion/nj-minimum-wage.html)** and **[Illinois](https://kmox.radio.com/articles/discussions-underway-raise-illinois-minimum-wage-15hour)** to raise the minimum wage to **$15/hour** ([New York](https://www.nytimes.com/2018/12/31/nyregion/15-minimum-wage-new-york.html?module=inline) has successfully passed this same raise in 2018).\n",
    "\n",
    "## The Original Study\n",
    "\n",
    "One of the first studies looking at this policy problem was **Card and Krueger’s**. They applied a difference-in-difference design to look at two groups of fast-food restaurants:\n",
    "\n",
    "- Fast-food restaurants in **New Jersey** where the minimum wage increased from **$4.25 to $5.05 per hour** (treatment group)\n",
    "- Fast-food restaurants in **Pennsylvania** where the minimum wage did not increase (control group).\n",
    "\n",
    "They collected data before and after the minimum wage was approved. Data used in the study can be downloaded [here](https://github.com/DS4PS/PROG-EVAL-III/blob/master/TEXTBOOK/DATA/DID_Example.csv).\n",
    "\n",
    "## Research Question\n",
    "\n",
    "- **Do increases in the minimum wage affect employment?**\n",
    "\n",
    "## Hypothesis\n",
    "\n",
    "- **An increase in the minimum wage is negatively correlated with employment.**\n"
   ]
  },
  {
   "cell_type": "markdown",
   "id": "d4e7375f-5e6b-4b08-b059-adb2990a8f9b",
   "metadata": {},
   "source": [
    "## Part 1: Diff-in-Diff Conceptual"
   ]
  },
  {
   "cell_type": "raw",
   "id": "e3de3342-83d0-4666-85ff-c587a20a3951",
   "metadata": {},
   "source": [
    "# BEGIN QUESTION\n",
    "name: q1_1\n",
    "points: 2\n",
    "manual: true"
   ]
  },
  {
   "cell_type": "markdown",
   "id": "b593df83-f513-453d-982c-327c3ad6708b",
   "metadata": {},
   "source": [
    "**Question 1.1:** How does the choice of research design, specifically a difference-in-differences approach, influence the validity and reliability of conclusions drawn from empirical studies examining the impact of policy changes, such as minimum wage increases, on economic outcomes like employment? Hint: Think about the parallell trend assumption."
   ]
  },
  {
   "cell_type": "raw",
   "id": "61054290-1fc1-4222-8262-a5fb18ed4eb3",
   "metadata": {},
   "source": [
    "# BEGIN SOLUTION"
   ]
  },
  {
   "cell_type": "markdown",
   "id": "b1318d34-8661-463c-9638-b7a2351dab7e",
   "metadata": {
    "tags": []
   },
   "source": [
    "<div class=\"alert alert-block alert-danger\">\n",
    "\n",
    "<b>SOLUTION:</b>The choice of research design, particularly a difference-in-differences (DiD) approach, critically influences the validity and reliability of conclusions in studies examining the effects of policy changes on economic outcomes. The DiD method allows researchers to control for unobserved factors that might vary over time but not across groups, by comparing the changes in outcomes over time between a treatment group affected by the policy and a control group that is not. This design is particularly effective in isolating the causal impact of policy changes, such as minimum wage increases, on outcomes like employment levels, by mitigating the effects of confounding variables and reducing bias. However, the reliability of the conclusions drawn from such studies hinges on the assumption that, in the absence of the policy change, the trends in outcomes for the treatment and control groups would have been parallel. Violations of this assumption can lead to erroneous causal inferences. Therefore, a thorough understanding and careful implementation of the DiD methodology are crucial for deriving valid and reliable insights from empirical research on policy impacts.</div>"
   ]
  },
  {
   "cell_type": "raw",
   "id": "6d91ad90-f25d-4f16-b787-0f81ffe4ab75",
   "metadata": {},
   "source": [
    "# END SOLUTION"
   ]
  },
  {
   "cell_type": "raw",
   "id": "7ddc9ea8-5e40-446e-89ab-ceda07108fe7",
   "metadata": {},
   "source": [
    "# END QUESTION"
   ]
  },
  {
   "cell_type": "markdown",
   "id": "02d59644-683c-4557-98c2-9a48f36fa798",
   "metadata": {},
   "source": [
    "## Part 2: Working with the Data"
   ]
  },
  {
   "cell_type": "markdown",
   "id": "e7e90158-ba10-45b6-a453-a0c343b0933c",
   "metadata": {},
   "source": [
    "We now proceed with loading in the data used in the original 1994 study. It cointains the following variables:"
   ]
  },
  {
   "cell_type": "markdown",
   "id": "9f10fd88-63fb-4639-ad5d-226c3ebde600",
   "metadata": {},
   "source": [
    "| Variable Name | Description                                          |\n",
    "|---------------|------------------------------------------------------|\n",
    "| ID            | Unique identifier for fast food                     |\n",
    "| Treatment     | Pre-treatment (=0) and post-treatment (=1)          |\n",
    "| Group         | 1 if NJ (treatment); 0 if PA (Control)              |\n",
    "| Empl          | # of full time employees                             |\n",
    "| C.Owned       | If owned by a company (=1) or not (=0)               |\n",
    "| Hours.Opening | Number hours open per day                            |\n",
    "| Soda          | Price of medium soda, including tax                  |\n",
    "| Fries         | Price of small fries, including tax                  |\n",
    "| Chain         | 1 = BK, 2 = KFC, 3 = Roys, 4 = Wendys                |\n",
    "| SouthJ        | South New Jersey                                     |\n",
    "| CentralJ      | Central New Jersey                                   |\n",
    "| NorthJ        | North New Jersey                                     |\n",
    "| PA1           | Northeast suburbs of Philadelphia                    |\n",
    "| PA2           | Easton and other PA areas                            |\n",
    "| Shore         | New Jersey Shore                                     |\n"
   ]
  },
  {
   "cell_type": "code",
   "execution_count": 2,
   "id": "c92240bf-450f-4405-8784-5be3946163b7",
   "metadata": {},
   "outputs": [
    {
     "data": {
      "text/html": [
       "<div>\n",
       "<style scoped>\n",
       "    .dataframe tbody tr th:only-of-type {\n",
       "        vertical-align: middle;\n",
       "    }\n",
       "\n",
       "    .dataframe tbody tr th {\n",
       "        vertical-align: top;\n",
       "    }\n",
       "\n",
       "    .dataframe thead th {\n",
       "        text-align: right;\n",
       "    }\n",
       "</style>\n",
       "<table border=\"1\" class=\"dataframe\">\n",
       "  <thead>\n",
       "    <tr style=\"text-align: right;\">\n",
       "      <th></th>\n",
       "      <th>ID</th>\n",
       "      <th>Chain</th>\n",
       "      <th>SouthJ</th>\n",
       "      <th>CentralJ</th>\n",
       "      <th>NorthJ</th>\n",
       "      <th>PA1</th>\n",
       "      <th>PA2</th>\n",
       "      <th>Shore</th>\n",
       "      <th>Group</th>\n",
       "      <th>Empl</th>\n",
       "      <th>C.Owned</th>\n",
       "      <th>Hours.Opening</th>\n",
       "      <th>Soda</th>\n",
       "      <th>Fries</th>\n",
       "      <th>Treatment</th>\n",
       "    </tr>\n",
       "  </thead>\n",
       "  <tbody>\n",
       "    <tr>\n",
       "      <th>0</th>\n",
       "      <td>46</td>\n",
       "      <td>1</td>\n",
       "      <td>0</td>\n",
       "      <td>0</td>\n",
       "      <td>0</td>\n",
       "      <td>1</td>\n",
       "      <td>0</td>\n",
       "      <td>0</td>\n",
       "      <td>0</td>\n",
       "      <td>30.0</td>\n",
       "      <td>0</td>\n",
       "      <td>16.5</td>\n",
       "      <td>1.03</td>\n",
       "      <td>1.03</td>\n",
       "      <td>0</td>\n",
       "    </tr>\n",
       "    <tr>\n",
       "      <th>1</th>\n",
       "      <td>49</td>\n",
       "      <td>2</td>\n",
       "      <td>0</td>\n",
       "      <td>0</td>\n",
       "      <td>0</td>\n",
       "      <td>1</td>\n",
       "      <td>0</td>\n",
       "      <td>0</td>\n",
       "      <td>0</td>\n",
       "      <td>6.5</td>\n",
       "      <td>0</td>\n",
       "      <td>13.0</td>\n",
       "      <td>1.01</td>\n",
       "      <td>0.90</td>\n",
       "      <td>0</td>\n",
       "    </tr>\n",
       "    <tr>\n",
       "      <th>2</th>\n",
       "      <td>506</td>\n",
       "      <td>2</td>\n",
       "      <td>0</td>\n",
       "      <td>0</td>\n",
       "      <td>0</td>\n",
       "      <td>1</td>\n",
       "      <td>0</td>\n",
       "      <td>0</td>\n",
       "      <td>0</td>\n",
       "      <td>3.0</td>\n",
       "      <td>1</td>\n",
       "      <td>10.0</td>\n",
       "      <td>0.95</td>\n",
       "      <td>0.74</td>\n",
       "      <td>0</td>\n",
       "    </tr>\n",
       "    <tr>\n",
       "      <th>3</th>\n",
       "      <td>56</td>\n",
       "      <td>4</td>\n",
       "      <td>0</td>\n",
       "      <td>0</td>\n",
       "      <td>0</td>\n",
       "      <td>1</td>\n",
       "      <td>0</td>\n",
       "      <td>0</td>\n",
       "      <td>0</td>\n",
       "      <td>20.0</td>\n",
       "      <td>1</td>\n",
       "      <td>12.0</td>\n",
       "      <td>0.87</td>\n",
       "      <td>0.82</td>\n",
       "      <td>0</td>\n",
       "    </tr>\n",
       "    <tr>\n",
       "      <th>4</th>\n",
       "      <td>61</td>\n",
       "      <td>4</td>\n",
       "      <td>0</td>\n",
       "      <td>0</td>\n",
       "      <td>0</td>\n",
       "      <td>1</td>\n",
       "      <td>0</td>\n",
       "      <td>0</td>\n",
       "      <td>0</td>\n",
       "      <td>6.0</td>\n",
       "      <td>1</td>\n",
       "      <td>12.0</td>\n",
       "      <td>0.87</td>\n",
       "      <td>0.77</td>\n",
       "      <td>0</td>\n",
       "    </tr>\n",
       "    <tr>\n",
       "      <th>...</th>\n",
       "      <td>...</td>\n",
       "      <td>...</td>\n",
       "      <td>...</td>\n",
       "      <td>...</td>\n",
       "      <td>...</td>\n",
       "      <td>...</td>\n",
       "      <td>...</td>\n",
       "      <td>...</td>\n",
       "      <td>...</td>\n",
       "      <td>...</td>\n",
       "      <td>...</td>\n",
       "      <td>...</td>\n",
       "      <td>...</td>\n",
       "      <td>...</td>\n",
       "      <td>...</td>\n",
       "    </tr>\n",
       "    <tr>\n",
       "      <th>815</th>\n",
       "      <td>423</td>\n",
       "      <td>2</td>\n",
       "      <td>0</td>\n",
       "      <td>0</td>\n",
       "      <td>1</td>\n",
       "      <td>0</td>\n",
       "      <td>0</td>\n",
       "      <td>0</td>\n",
       "      <td>1</td>\n",
       "      <td>19.0</td>\n",
       "      <td>1</td>\n",
       "      <td>4.0</td>\n",
       "      <td>1.05</td>\n",
       "      <td>0.84</td>\n",
       "      <td>1</td>\n",
       "    </tr>\n",
       "    <tr>\n",
       "      <th>816</th>\n",
       "      <td>424</td>\n",
       "      <td>2</td>\n",
       "      <td>0</td>\n",
       "      <td>0</td>\n",
       "      <td>1</td>\n",
       "      <td>0</td>\n",
       "      <td>0</td>\n",
       "      <td>0</td>\n",
       "      <td>1</td>\n",
       "      <td>12.0</td>\n",
       "      <td>1</td>\n",
       "      <td>10.0</td>\n",
       "      <td>1.05</td>\n",
       "      <td>0.94</td>\n",
       "      <td>1</td>\n",
       "    </tr>\n",
       "    <tr>\n",
       "      <th>817</th>\n",
       "      <td>426</td>\n",
       "      <td>3</td>\n",
       "      <td>0</td>\n",
       "      <td>0</td>\n",
       "      <td>1</td>\n",
       "      <td>0</td>\n",
       "      <td>0</td>\n",
       "      <td>0</td>\n",
       "      <td>1</td>\n",
       "      <td>5.0</td>\n",
       "      <td>1</td>\n",
       "      <td>19.0</td>\n",
       "      <td>1.11</td>\n",
       "      <td>1.05</td>\n",
       "      <td>1</td>\n",
       "    </tr>\n",
       "    <tr>\n",
       "      <th>818</th>\n",
       "      <td>427</td>\n",
       "      <td>4</td>\n",
       "      <td>0</td>\n",
       "      <td>0</td>\n",
       "      <td>1</td>\n",
       "      <td>0</td>\n",
       "      <td>0</td>\n",
       "      <td>0</td>\n",
       "      <td>1</td>\n",
       "      <td>0.0</td>\n",
       "      <td>0</td>\n",
       "      <td>7.0</td>\n",
       "      <td>1.11</td>\n",
       "      <td>1.09</td>\n",
       "      <td>1</td>\n",
       "    </tr>\n",
       "    <tr>\n",
       "      <th>819</th>\n",
       "      <td>428</td>\n",
       "      <td>4</td>\n",
       "      <td>0</td>\n",
       "      <td>0</td>\n",
       "      <td>1</td>\n",
       "      <td>0</td>\n",
       "      <td>0</td>\n",
       "      <td>0</td>\n",
       "      <td>1</td>\n",
       "      <td>10.0</td>\n",
       "      <td>0</td>\n",
       "      <td>7.0</td>\n",
       "      <td>1.05</td>\n",
       "      <td>0.89</td>\n",
       "      <td>1</td>\n",
       "    </tr>\n",
       "  </tbody>\n",
       "</table>\n",
       "<p>820 rows × 15 columns</p>\n",
       "</div>"
      ],
      "text/plain": [
       "      ID  Chain  SouthJ  CentralJ  NorthJ  PA1  PA2  Shore  Group  Empl  \\\n",
       "0     46      1       0         0       0    1    0      0      0  30.0   \n",
       "1     49      2       0         0       0    1    0      0      0   6.5   \n",
       "2    506      2       0         0       0    1    0      0      0   3.0   \n",
       "3     56      4       0         0       0    1    0      0      0  20.0   \n",
       "4     61      4       0         0       0    1    0      0      0   6.0   \n",
       "..   ...    ...     ...       ...     ...  ...  ...    ...    ...   ...   \n",
       "815  423      2       0         0       1    0    0      0      1  19.0   \n",
       "816  424      2       0         0       1    0    0      0      1  12.0   \n",
       "817  426      3       0         0       1    0    0      0      1   5.0   \n",
       "818  427      4       0         0       1    0    0      0      1   0.0   \n",
       "819  428      4       0         0       1    0    0      0      1  10.0   \n",
       "\n",
       "     C.Owned  Hours.Opening  Soda  Fries  Treatment  \n",
       "0          0           16.5  1.03   1.03          0  \n",
       "1          0           13.0  1.01   0.90          0  \n",
       "2          1           10.0  0.95   0.74          0  \n",
       "3          1           12.0  0.87   0.82          0  \n",
       "4          1           12.0  0.87   0.77          0  \n",
       "..       ...            ...   ...    ...        ...  \n",
       "815        1            4.0  1.05   0.84          1  \n",
       "816        1           10.0  1.05   0.94          1  \n",
       "817        1           19.0  1.11   1.05          1  \n",
       "818        0            7.0  1.11   1.09          1  \n",
       "819        0            7.0  1.05   0.89          1  \n",
       "\n",
       "[820 rows x 15 columns]"
      ]
     },
     "execution_count": 2,
     "metadata": {},
     "output_type": "execute_result"
    }
   ],
   "source": [
    "dd_df = pd.read_csv('data/DID_example.csv')\n",
    "dd_df"
   ]
  },
  {
   "cell_type": "raw",
   "id": "fed50117-285d-4a75-b84a-d0f9e88585b5",
   "metadata": {},
   "source": [
    "# BEGIN QUESTION\n",
    "name: q2_1\n",
    "points: 1"
   ]
  },
  {
   "cell_type": "markdown",
   "id": "d6e67644-f271-42ef-8527-e47cf402511b",
   "metadata": {},
   "source": [
    "**Question 2.1:** Summarize the data above using the `.describe()` Pandas function."
   ]
  },
  {
   "cell_type": "raw",
   "id": "8a33aad8-b734-4497-bddd-efc47df9a0f7",
   "metadata": {},
   "source": [
    "# BEGIN SOLUTION"
   ]
  },
  {
   "cell_type": "code",
   "execution_count": 3,
   "id": "4b039922-7d83-4154-a152-f03f0c292f38",
   "metadata": {},
   "outputs": [],
   "source": [
    "\"\"\" # BEGIN PROMPT\n",
    "\n",
    "dd_df_summarized = ...\n",
    "\"\"\" # END PROMPT\n",
    "\n",
    "# BEGIN SOLUTION NO PROMPT\n",
    "dd_df_summarized = dd_df.describe()\n",
    "# END SOLUTION"
   ]
  },
  {
   "cell_type": "code",
   "execution_count": 234,
   "id": "3d96ff26-babd-4202-a0e0-6a9bbc0669df",
   "metadata": {
    "tags": []
   },
   "outputs": [
    {
     "data": {
      "text/html": [
       "<div>\n",
       "<style scoped>\n",
       "    .dataframe tbody tr th:only-of-type {\n",
       "        vertical-align: middle;\n",
       "    }\n",
       "\n",
       "    .dataframe tbody tr th {\n",
       "        vertical-align: top;\n",
       "    }\n",
       "\n",
       "    .dataframe thead th {\n",
       "        text-align: right;\n",
       "    }\n",
       "</style>\n",
       "<table border=\"1\" class=\"dataframe\">\n",
       "  <thead>\n",
       "    <tr style=\"text-align: right;\">\n",
       "      <th></th>\n",
       "      <th>ID</th>\n",
       "      <th>Chain</th>\n",
       "      <th>SouthJ</th>\n",
       "      <th>CentralJ</th>\n",
       "      <th>NorthJ</th>\n",
       "      <th>PA1</th>\n",
       "      <th>PA2</th>\n",
       "      <th>Shore</th>\n",
       "      <th>Group</th>\n",
       "      <th>Empl</th>\n",
       "      <th>C.Owned</th>\n",
       "      <th>Hours.Opening</th>\n",
       "      <th>Soda</th>\n",
       "      <th>Fries</th>\n",
       "      <th>Treatment</th>\n",
       "    </tr>\n",
       "  </thead>\n",
       "  <tbody>\n",
       "    <tr>\n",
       "      <th>count</th>\n",
       "      <td>820.000000</td>\n",
       "      <td>820.000000</td>\n",
       "      <td>820.000000</td>\n",
       "      <td>820.000000</td>\n",
       "      <td>820.000000</td>\n",
       "      <td>820.000000</td>\n",
       "      <td>820.000000</td>\n",
       "      <td>820.000000</td>\n",
       "      <td>820.000000</td>\n",
       "      <td>802.000000</td>\n",
       "      <td>820.000000</td>\n",
       "      <td>820.000000</td>\n",
       "      <td>790.000000</td>\n",
       "      <td>775.000000</td>\n",
       "      <td>820.000000</td>\n",
       "    </tr>\n",
       "    <tr>\n",
       "      <th>mean</th>\n",
       "      <td>246.507317</td>\n",
       "      <td>2.117073</td>\n",
       "      <td>0.226829</td>\n",
       "      <td>0.153659</td>\n",
       "      <td>0.426829</td>\n",
       "      <td>0.087805</td>\n",
       "      <td>0.104878</td>\n",
       "      <td>0.085366</td>\n",
       "      <td>0.807317</td>\n",
       "      <td>8.238778</td>\n",
       "      <td>0.343902</td>\n",
       "      <td>12.650000</td>\n",
       "      <td>1.044911</td>\n",
       "      <td>0.931471</td>\n",
       "      <td>0.500000</td>\n",
       "    </tr>\n",
       "    <tr>\n",
       "      <th>std</th>\n",
       "      <td>148.141276</td>\n",
       "      <td>1.109819</td>\n",
       "      <td>0.419037</td>\n",
       "      <td>0.360841</td>\n",
       "      <td>0.494919</td>\n",
       "      <td>0.283184</td>\n",
       "      <td>0.306583</td>\n",
       "      <td>0.279596</td>\n",
       "      <td>0.394647</td>\n",
       "      <td>8.298807</td>\n",
       "      <td>0.475299</td>\n",
       "      <td>4.763907</td>\n",
       "      <td>0.091059</td>\n",
       "      <td>0.107942</td>\n",
       "      <td>0.500305</td>\n",
       "    </tr>\n",
       "    <tr>\n",
       "      <th>min</th>\n",
       "      <td>1.000000</td>\n",
       "      <td>1.000000</td>\n",
       "      <td>0.000000</td>\n",
       "      <td>0.000000</td>\n",
       "      <td>0.000000</td>\n",
       "      <td>0.000000</td>\n",
       "      <td>0.000000</td>\n",
       "      <td>0.000000</td>\n",
       "      <td>0.000000</td>\n",
       "      <td>0.000000</td>\n",
       "      <td>0.000000</td>\n",
       "      <td>1.000000</td>\n",
       "      <td>0.410000</td>\n",
       "      <td>0.670000</td>\n",
       "      <td>0.000000</td>\n",
       "    </tr>\n",
       "    <tr>\n",
       "      <th>25%</th>\n",
       "      <td>119.000000</td>\n",
       "      <td>1.000000</td>\n",
       "      <td>0.000000</td>\n",
       "      <td>0.000000</td>\n",
       "      <td>0.000000</td>\n",
       "      <td>0.000000</td>\n",
       "      <td>0.000000</td>\n",
       "      <td>0.000000</td>\n",
       "      <td>1.000000</td>\n",
       "      <td>2.000000</td>\n",
       "      <td>0.000000</td>\n",
       "      <td>10.000000</td>\n",
       "      <td>1.000000</td>\n",
       "      <td>0.850000</td>\n",
       "      <td>0.000000</td>\n",
       "    </tr>\n",
       "    <tr>\n",
       "      <th>50%</th>\n",
       "      <td>237.500000</td>\n",
       "      <td>2.000000</td>\n",
       "      <td>0.000000</td>\n",
       "      <td>0.000000</td>\n",
       "      <td>0.000000</td>\n",
       "      <td>0.000000</td>\n",
       "      <td>0.000000</td>\n",
       "      <td>0.000000</td>\n",
       "      <td>1.000000</td>\n",
       "      <td>6.000000</td>\n",
       "      <td>0.000000</td>\n",
       "      <td>14.000000</td>\n",
       "      <td>1.050000</td>\n",
       "      <td>0.940000</td>\n",
       "      <td>0.500000</td>\n",
       "    </tr>\n",
       "    <tr>\n",
       "      <th>75%</th>\n",
       "      <td>372.000000</td>\n",
       "      <td>3.000000</td>\n",
       "      <td>0.000000</td>\n",
       "      <td>0.000000</td>\n",
       "      <td>1.000000</td>\n",
       "      <td>0.000000</td>\n",
       "      <td>0.000000</td>\n",
       "      <td>0.000000</td>\n",
       "      <td>1.000000</td>\n",
       "      <td>12.000000</td>\n",
       "      <td>1.000000</td>\n",
       "      <td>16.000000</td>\n",
       "      <td>1.090000</td>\n",
       "      <td>1.010000</td>\n",
       "      <td>1.000000</td>\n",
       "    </tr>\n",
       "    <tr>\n",
       "      <th>max</th>\n",
       "      <td>522.000000</td>\n",
       "      <td>4.000000</td>\n",
       "      <td>1.000000</td>\n",
       "      <td>1.000000</td>\n",
       "      <td>1.000000</td>\n",
       "      <td>1.000000</td>\n",
       "      <td>1.000000</td>\n",
       "      <td>1.000000</td>\n",
       "      <td>1.000000</td>\n",
       "      <td>60.000000</td>\n",
       "      <td>1.000000</td>\n",
       "      <td>24.000000</td>\n",
       "      <td>1.490000</td>\n",
       "      <td>1.370000</td>\n",
       "      <td>1.000000</td>\n",
       "    </tr>\n",
       "  </tbody>\n",
       "</table>\n",
       "</div>"
      ],
      "text/plain": [
       "               ID       Chain      SouthJ    CentralJ      NorthJ         PA1  \\\n",
       "count  820.000000  820.000000  820.000000  820.000000  820.000000  820.000000   \n",
       "mean   246.507317    2.117073    0.226829    0.153659    0.426829    0.087805   \n",
       "std    148.141276    1.109819    0.419037    0.360841    0.494919    0.283184   \n",
       "min      1.000000    1.000000    0.000000    0.000000    0.000000    0.000000   \n",
       "25%    119.000000    1.000000    0.000000    0.000000    0.000000    0.000000   \n",
       "50%    237.500000    2.000000    0.000000    0.000000    0.000000    0.000000   \n",
       "75%    372.000000    3.000000    0.000000    0.000000    1.000000    0.000000   \n",
       "max    522.000000    4.000000    1.000000    1.000000    1.000000    1.000000   \n",
       "\n",
       "              PA2       Shore       Group        Empl     C.Owned  \\\n",
       "count  820.000000  820.000000  820.000000  802.000000  820.000000   \n",
       "mean     0.104878    0.085366    0.807317    8.238778    0.343902   \n",
       "std      0.306583    0.279596    0.394647    8.298807    0.475299   \n",
       "min      0.000000    0.000000    0.000000    0.000000    0.000000   \n",
       "25%      0.000000    0.000000    1.000000    2.000000    0.000000   \n",
       "50%      0.000000    0.000000    1.000000    6.000000    0.000000   \n",
       "75%      0.000000    0.000000    1.000000   12.000000    1.000000   \n",
       "max      1.000000    1.000000    1.000000   60.000000    1.000000   \n",
       "\n",
       "       Hours.Opening        Soda       Fries   Treatment  \n",
       "count     820.000000  790.000000  775.000000  820.000000  \n",
       "mean       12.650000    1.044911    0.931471    0.500000  \n",
       "std         4.763907    0.091059    0.107942    0.500305  \n",
       "min         1.000000    0.410000    0.670000    0.000000  \n",
       "25%        10.000000    1.000000    0.850000    0.000000  \n",
       "50%        14.000000    1.050000    0.940000    0.500000  \n",
       "75%        16.000000    1.090000    1.010000    1.000000  \n",
       "max        24.000000    1.490000    1.370000    1.000000  "
      ]
     },
     "execution_count": 234,
     "metadata": {},
     "output_type": "execute_result"
    }
   ],
   "source": [
    "dd_df_summarized"
   ]
  },
  {
   "cell_type": "raw",
   "id": "53e7e8d9-ecf3-4d15-ace1-f19441ca69e3",
   "metadata": {},
   "source": [
    "# END SOLUTION"
   ]
  },
  {
   "cell_type": "raw",
   "id": "7911fdc3-c3e8-49b8-af65-0926fda1f1de",
   "metadata": {},
   "source": [
    "# BEGIN TESTS"
   ]
  },
  {
   "cell_type": "code",
   "execution_count": 235,
   "id": "924b8b55-c6d5-4591-b011-7ed09f15224c",
   "metadata": {
    "tags": []
   },
   "outputs": [],
   "source": [
    "assert dd_df_summarized.shape == (8, 15)"
   ]
  },
  {
   "cell_type": "raw",
   "id": "428e8f9f-04c6-4134-8923-46668b786413",
   "metadata": {},
   "source": [
    "# END TESTS"
   ]
  },
  {
   "cell_type": "raw",
   "id": "4df8c6d7-9a2c-44bb-91b5-385e1c92cc89",
   "metadata": {},
   "source": [
    "# END QUESTION"
   ]
  },
  {
   "cell_type": "raw",
   "id": "606aad52-1510-410b-8229-5a21a06324ce",
   "metadata": {},
   "source": [
    "# BEGIN QUESTION\n",
    "name: q2_2\n",
    "points: 1\n",
    "manual: true"
   ]
  },
  {
   "cell_type": "markdown",
   "id": "8842efcb-3e60-4cf6-9558-5b76f6c2a6ab",
   "metadata": {},
   "source": [
    "**Question 2.2:** What does each row in `dd_df` represent?"
   ]
  },
  {
   "cell_type": "raw",
   "id": "4eef39f0-bc38-4a2e-9283-7a5194700a9c",
   "metadata": {},
   "source": [
    "# BEGIN SOLUTION"
   ]
  },
  {
   "cell_type": "markdown",
   "id": "33d6e296-d986-4ef0-9733-012e05a0a504",
   "metadata": {},
   "source": [
    "<div class=\"alert alert-block alert-danger\">\n",
    "\n",
    "<b>SOLUTION:</b>A fast food restaurant in a given state at a given point in time.</div>"
   ]
  },
  {
   "cell_type": "raw",
   "id": "73c94b2c-22df-40ad-9f79-6e468f9735cf",
   "metadata": {},
   "source": [
    "# END SOLUTION"
   ]
  },
  {
   "cell_type": "raw",
   "id": "4bd3554e-13ce-4df9-bd59-8ad85baab342",
   "metadata": {},
   "source": [
    "# END QUESTION"
   ]
  },
  {
   "cell_type": "raw",
   "id": "a18859da-00bd-4b8c-9bab-6b44a3b742d0",
   "metadata": {},
   "source": [
    "# BEGIN QUESTION\n",
    "name: q2_3\n",
    "points: 1"
   ]
  },
  {
   "cell_type": "markdown",
   "id": "d9aad16b-4f42-4090-92b3-a322acf1bf3b",
   "metadata": {},
   "source": [
    "**Question 2.3:** What's the average number of employees per fast-food restaurant?"
   ]
  },
  {
   "cell_type": "raw",
   "id": "cf0a7803-affc-4432-b5cc-ad109aaf4be0",
   "metadata": {},
   "source": [
    "# BEGIN SOLUTION"
   ]
  },
  {
   "cell_type": "code",
   "execution_count": 236,
   "id": "5d2666f6-bdc6-4569-a9fe-d6f131e43551",
   "metadata": {
    "tags": []
   },
   "outputs": [],
   "source": [
    "\"\"\" # BEGIN PROMPT\n",
    "mean_employees = ...\n",
    "\"\"\" # END PROMPT\n",
    "\n",
    "# BEGIN SOLUTION NO PROMPT\n",
    "mean_employees = dd_df_summarized.loc['mean','Empl']\n",
    "# END SOLUTION"
   ]
  },
  {
   "cell_type": "raw",
   "id": "21789ff9-a0d1-4599-87e6-afe3e99d2366",
   "metadata": {},
   "source": [
    "# END SOLUTION"
   ]
  },
  {
   "cell_type": "raw",
   "id": "c07524d7-f7f6-4535-ba01-676cb77c57b0",
   "metadata": {},
   "source": [
    "# BEGIN TESTS"
   ]
  },
  {
   "cell_type": "code",
   "execution_count": 237,
   "id": "e6f9a376-91e3-45b1-baae-222f5fefb701",
   "metadata": {},
   "outputs": [],
   "source": [
    "assert np.isclose(mean_employees, 8.238778054862843)"
   ]
  },
  {
   "cell_type": "raw",
   "id": "df94887f-700b-49c1-906c-f3c5c8a7b57d",
   "metadata": {},
   "source": [
    "# END TESTS"
   ]
  },
  {
   "cell_type": "raw",
   "id": "ff6397f6-0104-4678-b2e7-37192707dd01",
   "metadata": {},
   "source": [
    "# END QUESTION"
   ]
  },
  {
   "cell_type": "raw",
   "id": "2425548a-878e-499c-b2ce-313ab0656403",
   "metadata": {},
   "source": [
    "# BEGIN QUESTION\n",
    "name: q2_4\n",
    "points: 1"
   ]
  },
  {
   "cell_type": "markdown",
   "id": "97fc8eab-e02a-4950-bd0b-5d83137df84b",
   "metadata": {},
   "source": [
    "**Question 2.4:** What percentage of fast-food restaurants are part of the treatment group?"
   ]
  },
  {
   "cell_type": "raw",
   "id": "6816dd0c-4dcf-412c-9dc6-fa82ad0a5d0a",
   "metadata": {},
   "source": [
    "# BEGIN SOLUTION"
   ]
  },
  {
   "cell_type": "code",
   "execution_count": 238,
   "id": "3ccd3dcb-41e1-445e-b935-559aab97200b",
   "metadata": {
    "tags": []
   },
   "outputs": [
    {
     "data": {
      "text/plain": [
       "80.73170731707317"
      ]
     },
     "execution_count": 238,
     "metadata": {},
     "output_type": "execute_result"
    }
   ],
   "source": [
    "\"\"\" # BEGIN PROMPT\n",
    "per_treatment = ...\n",
    "\"\"\" # END PROMPT\n",
    "\n",
    "# BEGIN SOLUTION NO PROMPT\n",
    "per_treatment = 100 * dd_df_summarized.loc['mean','Group']\n",
    "per_treatment\n",
    "# END SOLUTION"
   ]
  },
  {
   "cell_type": "raw",
   "id": "b2c0c574-2414-4ca4-8896-a3315d2d9e72",
   "metadata": {},
   "source": [
    "# END SOLUTION"
   ]
  },
  {
   "cell_type": "raw",
   "id": "9e69796a-f4f5-4bad-b17a-72fec484efc0",
   "metadata": {},
   "source": [
    "# BEGIN TESTS"
   ]
  },
  {
   "cell_type": "code",
   "execution_count": 239,
   "id": "a5c88f30-9d0e-4618-9452-dcb1eb17be20",
   "metadata": {
    "tags": []
   },
   "outputs": [],
   "source": [
    "assert np.isclose(per_treatment, 80.73170731707317)"
   ]
  },
  {
   "cell_type": "raw",
   "id": "e5747df2-43bc-4001-b01d-e4e2f4fc44c1",
   "metadata": {},
   "source": [
    "# END TESTS"
   ]
  },
  {
   "cell_type": "raw",
   "id": "8a92b1cb-82bd-452b-beb0-6bcb5e42fd1c",
   "metadata": {},
   "source": [
    "# END QUESTION"
   ]
  },
  {
   "cell_type": "raw",
   "id": "04302d0f-fe3b-48ab-9cdb-c2c0871c50a3",
   "metadata": {
    "tags": []
   },
   "source": [
    "# BEGIN QUESTION\n",
    "name: q2_5\n",
    "points: 1\n",
    "manual: true"
   ]
  },
  {
   "cell_type": "markdown",
   "id": "82004748-cc00-49d7-b0e8-1503b5651dcc",
   "metadata": {},
   "source": [
    "**Question 2.5:** What's the difference between the `Group` the `Treatment` columns?"
   ]
  },
  {
   "cell_type": "raw",
   "id": "4bccb241-6306-4e3d-b9f4-8840b4f3d20e",
   "metadata": {},
   "source": [
    "# BEGIN SOLUTION"
   ]
  },
  {
   "cell_type": "markdown",
   "id": "ee86938d-fbce-4635-b334-16d9d75f5334",
   "metadata": {},
   "source": [
    "<div class=\"alert alert-block alert-danger\">\n",
    "\n",
    "<b>SOLUTION:</b>Treatment says whether or not observation is in Pre-treatment (=0) and post-treatment (=1) while Group says if NJ (treatment); 0 if PA (Control).</div>"
   ]
  },
  {
   "cell_type": "raw",
   "id": "416e576e-8432-493d-b030-9b8369dcf7ad",
   "metadata": {},
   "source": [
    "# END SOLUTION"
   ]
  },
  {
   "cell_type": "raw",
   "id": "d948ed18-593d-4af6-9ea7-28cb0beff432",
   "metadata": {},
   "source": [
    "# END QUESTION"
   ]
  },
  {
   "cell_type": "raw",
   "id": "ae23a866-a3e3-4549-aae8-9ef7347a6b73",
   "metadata": {},
   "source": [
    "# BEGIN QUESTION\n",
    "name: q2_6\n",
    "points: 2"
   ]
  },
  {
   "cell_type": "markdown",
   "id": "1c166cb0-4010-4ba9-942e-9349d3c4be6f",
   "metadata": {},
   "source": [
    "**Question 2.6:** Notice that our `Chain` column is a categorical variable hidden as a numeric value! One-hot encode this column and save your result in `dd_df_encoded`. You should drop the original column and create 3 new columns: 'BK', KFC', and 'Wendys'. This is helpful for our analysis below."
   ]
  },
  {
   "cell_type": "raw",
   "id": "070024d0-a2a4-42ee-bebf-101c9da3a6ac",
   "metadata": {},
   "source": [
    "# BEGIN SOLUTION"
   ]
  },
  {
   "cell_type": "code",
   "execution_count": 240,
   "id": "b802e73d-b7d2-4c2b-a8c9-2419d3f8c970",
   "metadata": {
    "tags": []
   },
   "outputs": [
    {
     "data": {
      "text/html": [
       "<div>\n",
       "<style scoped>\n",
       "    .dataframe tbody tr th:only-of-type {\n",
       "        vertical-align: middle;\n",
       "    }\n",
       "\n",
       "    .dataframe tbody tr th {\n",
       "        vertical-align: top;\n",
       "    }\n",
       "\n",
       "    .dataframe thead th {\n",
       "        text-align: right;\n",
       "    }\n",
       "</style>\n",
       "<table border=\"1\" class=\"dataframe\">\n",
       "  <thead>\n",
       "    <tr style=\"text-align: right;\">\n",
       "      <th></th>\n",
       "      <th>ID</th>\n",
       "      <th>SouthJ</th>\n",
       "      <th>CentralJ</th>\n",
       "      <th>NorthJ</th>\n",
       "      <th>PA1</th>\n",
       "      <th>PA2</th>\n",
       "      <th>Shore</th>\n",
       "      <th>Group</th>\n",
       "      <th>Empl</th>\n",
       "      <th>C.Owned</th>\n",
       "      <th>Hours.Opening</th>\n",
       "      <th>Soda</th>\n",
       "      <th>Fries</th>\n",
       "      <th>Treatment</th>\n",
       "      <th>BK</th>\n",
       "      <th>KFC</th>\n",
       "      <th>Wendys</th>\n",
       "    </tr>\n",
       "  </thead>\n",
       "  <tbody>\n",
       "    <tr>\n",
       "      <th>0</th>\n",
       "      <td>46</td>\n",
       "      <td>0</td>\n",
       "      <td>0</td>\n",
       "      <td>0</td>\n",
       "      <td>1</td>\n",
       "      <td>0</td>\n",
       "      <td>0</td>\n",
       "      <td>0</td>\n",
       "      <td>30.0</td>\n",
       "      <td>0</td>\n",
       "      <td>16.5</td>\n",
       "      <td>1.03</td>\n",
       "      <td>1.03</td>\n",
       "      <td>0</td>\n",
       "      <td>1</td>\n",
       "      <td>0</td>\n",
       "      <td>0</td>\n",
       "    </tr>\n",
       "    <tr>\n",
       "      <th>1</th>\n",
       "      <td>49</td>\n",
       "      <td>0</td>\n",
       "      <td>0</td>\n",
       "      <td>0</td>\n",
       "      <td>1</td>\n",
       "      <td>0</td>\n",
       "      <td>0</td>\n",
       "      <td>0</td>\n",
       "      <td>6.5</td>\n",
       "      <td>0</td>\n",
       "      <td>13.0</td>\n",
       "      <td>1.01</td>\n",
       "      <td>0.90</td>\n",
       "      <td>0</td>\n",
       "      <td>0</td>\n",
       "      <td>1</td>\n",
       "      <td>0</td>\n",
       "    </tr>\n",
       "    <tr>\n",
       "      <th>2</th>\n",
       "      <td>506</td>\n",
       "      <td>0</td>\n",
       "      <td>0</td>\n",
       "      <td>0</td>\n",
       "      <td>1</td>\n",
       "      <td>0</td>\n",
       "      <td>0</td>\n",
       "      <td>0</td>\n",
       "      <td>3.0</td>\n",
       "      <td>1</td>\n",
       "      <td>10.0</td>\n",
       "      <td>0.95</td>\n",
       "      <td>0.74</td>\n",
       "      <td>0</td>\n",
       "      <td>0</td>\n",
       "      <td>1</td>\n",
       "      <td>0</td>\n",
       "    </tr>\n",
       "    <tr>\n",
       "      <th>3</th>\n",
       "      <td>56</td>\n",
       "      <td>0</td>\n",
       "      <td>0</td>\n",
       "      <td>0</td>\n",
       "      <td>1</td>\n",
       "      <td>0</td>\n",
       "      <td>0</td>\n",
       "      <td>0</td>\n",
       "      <td>20.0</td>\n",
       "      <td>1</td>\n",
       "      <td>12.0</td>\n",
       "      <td>0.87</td>\n",
       "      <td>0.82</td>\n",
       "      <td>0</td>\n",
       "      <td>0</td>\n",
       "      <td>0</td>\n",
       "      <td>1</td>\n",
       "    </tr>\n",
       "    <tr>\n",
       "      <th>4</th>\n",
       "      <td>61</td>\n",
       "      <td>0</td>\n",
       "      <td>0</td>\n",
       "      <td>0</td>\n",
       "      <td>1</td>\n",
       "      <td>0</td>\n",
       "      <td>0</td>\n",
       "      <td>0</td>\n",
       "      <td>6.0</td>\n",
       "      <td>1</td>\n",
       "      <td>12.0</td>\n",
       "      <td>0.87</td>\n",
       "      <td>0.77</td>\n",
       "      <td>0</td>\n",
       "      <td>0</td>\n",
       "      <td>0</td>\n",
       "      <td>1</td>\n",
       "    </tr>\n",
       "    <tr>\n",
       "      <th>...</th>\n",
       "      <td>...</td>\n",
       "      <td>...</td>\n",
       "      <td>...</td>\n",
       "      <td>...</td>\n",
       "      <td>...</td>\n",
       "      <td>...</td>\n",
       "      <td>...</td>\n",
       "      <td>...</td>\n",
       "      <td>...</td>\n",
       "      <td>...</td>\n",
       "      <td>...</td>\n",
       "      <td>...</td>\n",
       "      <td>...</td>\n",
       "      <td>...</td>\n",
       "      <td>...</td>\n",
       "      <td>...</td>\n",
       "      <td>...</td>\n",
       "    </tr>\n",
       "    <tr>\n",
       "      <th>815</th>\n",
       "      <td>423</td>\n",
       "      <td>0</td>\n",
       "      <td>0</td>\n",
       "      <td>1</td>\n",
       "      <td>0</td>\n",
       "      <td>0</td>\n",
       "      <td>0</td>\n",
       "      <td>1</td>\n",
       "      <td>19.0</td>\n",
       "      <td>1</td>\n",
       "      <td>4.0</td>\n",
       "      <td>1.05</td>\n",
       "      <td>0.84</td>\n",
       "      <td>1</td>\n",
       "      <td>0</td>\n",
       "      <td>1</td>\n",
       "      <td>0</td>\n",
       "    </tr>\n",
       "    <tr>\n",
       "      <th>816</th>\n",
       "      <td>424</td>\n",
       "      <td>0</td>\n",
       "      <td>0</td>\n",
       "      <td>1</td>\n",
       "      <td>0</td>\n",
       "      <td>0</td>\n",
       "      <td>0</td>\n",
       "      <td>1</td>\n",
       "      <td>12.0</td>\n",
       "      <td>1</td>\n",
       "      <td>10.0</td>\n",
       "      <td>1.05</td>\n",
       "      <td>0.94</td>\n",
       "      <td>1</td>\n",
       "      <td>0</td>\n",
       "      <td>1</td>\n",
       "      <td>0</td>\n",
       "    </tr>\n",
       "    <tr>\n",
       "      <th>817</th>\n",
       "      <td>426</td>\n",
       "      <td>0</td>\n",
       "      <td>0</td>\n",
       "      <td>1</td>\n",
       "      <td>0</td>\n",
       "      <td>0</td>\n",
       "      <td>0</td>\n",
       "      <td>1</td>\n",
       "      <td>5.0</td>\n",
       "      <td>1</td>\n",
       "      <td>19.0</td>\n",
       "      <td>1.11</td>\n",
       "      <td>1.05</td>\n",
       "      <td>1</td>\n",
       "      <td>0</td>\n",
       "      <td>0</td>\n",
       "      <td>0</td>\n",
       "    </tr>\n",
       "    <tr>\n",
       "      <th>818</th>\n",
       "      <td>427</td>\n",
       "      <td>0</td>\n",
       "      <td>0</td>\n",
       "      <td>1</td>\n",
       "      <td>0</td>\n",
       "      <td>0</td>\n",
       "      <td>0</td>\n",
       "      <td>1</td>\n",
       "      <td>0.0</td>\n",
       "      <td>0</td>\n",
       "      <td>7.0</td>\n",
       "      <td>1.11</td>\n",
       "      <td>1.09</td>\n",
       "      <td>1</td>\n",
       "      <td>0</td>\n",
       "      <td>0</td>\n",
       "      <td>1</td>\n",
       "    </tr>\n",
       "    <tr>\n",
       "      <th>819</th>\n",
       "      <td>428</td>\n",
       "      <td>0</td>\n",
       "      <td>0</td>\n",
       "      <td>1</td>\n",
       "      <td>0</td>\n",
       "      <td>0</td>\n",
       "      <td>0</td>\n",
       "      <td>1</td>\n",
       "      <td>10.0</td>\n",
       "      <td>0</td>\n",
       "      <td>7.0</td>\n",
       "      <td>1.05</td>\n",
       "      <td>0.89</td>\n",
       "      <td>1</td>\n",
       "      <td>0</td>\n",
       "      <td>0</td>\n",
       "      <td>1</td>\n",
       "    </tr>\n",
       "  </tbody>\n",
       "</table>\n",
       "<p>820 rows × 17 columns</p>\n",
       "</div>"
      ],
      "text/plain": [
       "      ID  SouthJ  CentralJ  NorthJ  PA1  PA2  Shore  Group  Empl  C.Owned  \\\n",
       "0     46       0         0       0    1    0      0      0  30.0        0   \n",
       "1     49       0         0       0    1    0      0      0   6.5        0   \n",
       "2    506       0         0       0    1    0      0      0   3.0        1   \n",
       "3     56       0         0       0    1    0      0      0  20.0        1   \n",
       "4     61       0         0       0    1    0      0      0   6.0        1   \n",
       "..   ...     ...       ...     ...  ...  ...    ...    ...   ...      ...   \n",
       "815  423       0         0       1    0    0      0      1  19.0        1   \n",
       "816  424       0         0       1    0    0      0      1  12.0        1   \n",
       "817  426       0         0       1    0    0      0      1   5.0        1   \n",
       "818  427       0         0       1    0    0      0      1   0.0        0   \n",
       "819  428       0         0       1    0    0      0      1  10.0        0   \n",
       "\n",
       "     Hours.Opening  Soda  Fries  Treatment  BK  KFC  Wendys  \n",
       "0             16.5  1.03   1.03          0   1    0       0  \n",
       "1             13.0  1.01   0.90          0   0    1       0  \n",
       "2             10.0  0.95   0.74          0   0    1       0  \n",
       "3             12.0  0.87   0.82          0   0    0       1  \n",
       "4             12.0  0.87   0.77          0   0    0       1  \n",
       "..             ...   ...    ...        ...  ..  ...     ...  \n",
       "815            4.0  1.05   0.84          1   0    1       0  \n",
       "816           10.0  1.05   0.94          1   0    1       0  \n",
       "817           19.0  1.11   1.05          1   0    0       0  \n",
       "818            7.0  1.11   1.09          1   0    0       1  \n",
       "819            7.0  1.05   0.89          1   0    0       1  \n",
       "\n",
       "[820 rows x 17 columns]"
      ]
     },
     "execution_count": 240,
     "metadata": {},
     "output_type": "execute_result"
    }
   ],
   "source": [
    "\"\"\" # BEGIN PROMPT\n",
    "chain_dummies = ...\n",
    "\n",
    "...\n",
    "\n",
    "dd_df_encoded = ...\n",
    "\"\"\" # END PROMPT\n",
    "\n",
    "# BEGIN SOLUTION NO PROMPT\n",
    "# One-hot encode the 'Chain' column\n",
    "chain_dummies = pd.get_dummies(dd_df['Chain'])\n",
    "\n",
    "# Rename the columns of the one-hot encoded DataFrame\n",
    "chain_dummies.columns = ['BK', 'KFC', 'Roys', 'Wendys']\n",
    "\n",
    "# Concatenate the original DataFrame with the new one-hot encoded columns\n",
    "dd_df_encoded = pd.concat([dd_df, chain_dummies], axis=1)\n",
    "\n",
    "# Optionally, you can drop the original 'Chain' column if you no longer need it\n",
    "dd_df_encoded.drop('Chain', axis=1, inplace=True)\n",
    "dd_df_encoded.drop('Roys', axis=1, inplace=True)\n",
    "\n",
    "# Now dd_df_encoded has the original data with 'Chain' replaced by the one-hot encoded columns named 'BK', 'KFC', 'Roys', 'Wendys'\n",
    "dd_df_encoded\n",
    "# END SOLUTION"
   ]
  },
  {
   "cell_type": "raw",
   "id": "3562ac25-e715-4cb0-bbcf-9752f2471091",
   "metadata": {},
   "source": [
    "# END SOLUTION"
   ]
  },
  {
   "cell_type": "raw",
   "id": "ddc94a95-383c-4595-bea0-8b02c7f88899",
   "metadata": {},
   "source": [
    "# BEGIN TESTS"
   ]
  },
  {
   "cell_type": "code",
   "execution_count": 241,
   "id": "9ddd4987-d527-4f6d-a1b0-a6190dc11372",
   "metadata": {
    "tags": []
   },
   "outputs": [],
   "source": [
    "assert dd_df_encoded.shape == (820, 17), 'Incorrect shape'"
   ]
  },
  {
   "cell_type": "code",
   "execution_count": 242,
   "id": "91f06c49-fda2-415a-af0a-2c3dee032db2",
   "metadata": {
    "tags": []
   },
   "outputs": [],
   "source": [
    "expected_columns = ['BK', 'KFC', 'Wendys']\n",
    "assert all(column in dd_df_encoded.columns for column in expected_columns), \"Not all specified columns are in the DataFrame\""
   ]
  },
  {
   "cell_type": "raw",
   "id": "e88517fe-419e-4159-9054-6d84bc24d41d",
   "metadata": {},
   "source": [
    "# END TESTS"
   ]
  },
  {
   "cell_type": "raw",
   "id": "0f15e611-a3f1-42f8-beaa-932328ceb8f4",
   "metadata": {},
   "source": [
    "# END QUESTION"
   ]
  },
  {
   "cell_type": "markdown",
   "id": "2d961d68-e65a-4988-8c4b-58162bfac7a2",
   "metadata": {},
   "source": [
    "## Part 3: Analysis: Estimating the Difference-in-Differences Model\n",
    "\n",
    "We now estimate the difference-in-differences model based on the model below. Along with the **Group** and **Treatment** variables, we also include a set of control variables to account for differences across restaurants. For instance, we consider the variable **opening hours**—suggesting that fast-food restaurants open for more hours might need more employees. Similarly, we account for the prices of **fries and sodas**, under the assumption that more expensive fast food might have more resources to hire additional staff.\n"
   ]
  },
  {
   "cell_type": "raw",
   "id": "4fa90ca3-2d61-4ef1-808c-3c18ca49834b",
   "metadata": {},
   "source": [
    "# BEGIN QUESTION\n",
    "name: q3_1\n",
    "points: 1\n",
    "manual: true"
   ]
  },
  {
   "cell_type": "markdown",
   "id": "8ed23810-3871-43a2-90aa-f54740b557e0",
   "metadata": {},
   "source": [
    "**Question 3.1:** Using the general diff-in-diff model below, specify the model we're about to estimate using $\\LaTeX$. Hint: Don't forget to add your controls."
   ]
  },
  {
   "cell_type": "markdown",
   "id": "886602d4-2add-45b1-827f-dca9fe97a825",
   "metadata": {},
   "source": [
    "$(1.1)$ \n",
    "\n",
    "$$Y = \\beta_0 + \\beta_1 \\cdot \\text{Treatment} + \\beta_2 \\cdot \\text{Post} + \\beta_3 \\cdot \\text{Treatment} \\times \\text{Post} + \\text{Controls} + e$$\n"
   ]
  },
  {
   "cell_type": "raw",
   "id": "4e64c0c3-1187-4bb6-999e-57e96d854c43",
   "metadata": {},
   "source": [
    "# BEGIN SOLUTION"
   ]
  },
  {
   "cell_type": "markdown",
   "id": "aed9021f-81e9-460d-9e2e-7db4d8867761",
   "metadata": {},
   "source": [
    "<div class=\"alert alert-block alert-danger\">\n",
    "\n",
    "<b>SOLUTION:</b>$$Y = \\beta_0 + \\beta_1 \\cdot \\text{Group (actual treatment)} + \\beta_2 \\cdot \\text{Treatment (actual post)} + \\beta_3 \\cdot \\text{Group} \\times \\text{Treatment} + \\beta_4 \\cdot \\text{Hours.Opening} + \\beta_5 \\cdot \\text{Fries} + \\beta_6 \\cdot \\text{Soda} + e$$</div>"
   ]
  },
  {
   "cell_type": "raw",
   "id": "229f8de4-c78d-474a-99ce-51185d1dca44",
   "metadata": {},
   "source": [
    "# END SOLUTION"
   ]
  },
  {
   "cell_type": "raw",
   "id": "8efeac45-c623-420e-a343-0f25f733b188",
   "metadata": {},
   "source": [
    "# END QUESTION"
   ]
  },
  {
   "cell_type": "raw",
   "id": "4a32cabd-c3af-40f8-9999-86a426a62318",
   "metadata": {},
   "source": [
    "# BEGIN QUESTION\n",
    "name: q3_2\n",
    "points: 1"
   ]
  },
  {
   "cell_type": "markdown",
   "id": "ab22d32b-31f1-4333-929f-ac60695173bf",
   "metadata": {},
   "source": [
    "**Question 3.2:** Now, correct the relevant column names of the `dd_df` to fit the equation specified in (1.1). Your column names should be Treatment and Post and both take on binary values. This simplifies our coming analysis!"
   ]
  },
  {
   "cell_type": "raw",
   "id": "faf4e7f2-4c97-4136-8a78-e0e88cae1c2d",
   "metadata": {},
   "source": [
    "# BEGIN SOLUTION"
   ]
  },
  {
   "cell_type": "code",
   "execution_count": 243,
   "id": "b457596a-4ccd-4b3c-82d2-32bbe5f1f821",
   "metadata": {
    "tags": []
   },
   "outputs": [
    {
     "data": {
      "text/html": [
       "<div>\n",
       "<style scoped>\n",
       "    .dataframe tbody tr th:only-of-type {\n",
       "        vertical-align: middle;\n",
       "    }\n",
       "\n",
       "    .dataframe tbody tr th {\n",
       "        vertical-align: top;\n",
       "    }\n",
       "\n",
       "    .dataframe thead th {\n",
       "        text-align: right;\n",
       "    }\n",
       "</style>\n",
       "<table border=\"1\" class=\"dataframe\">\n",
       "  <thead>\n",
       "    <tr style=\"text-align: right;\">\n",
       "      <th></th>\n",
       "      <th>ID</th>\n",
       "      <th>SouthJ</th>\n",
       "      <th>CentralJ</th>\n",
       "      <th>NorthJ</th>\n",
       "      <th>PA1</th>\n",
       "      <th>PA2</th>\n",
       "      <th>Shore</th>\n",
       "      <th>Treatment</th>\n",
       "      <th>Empl</th>\n",
       "      <th>C.Owned</th>\n",
       "      <th>Hours.Opening</th>\n",
       "      <th>Soda</th>\n",
       "      <th>Fries</th>\n",
       "      <th>Post</th>\n",
       "      <th>BK</th>\n",
       "      <th>KFC</th>\n",
       "      <th>Wendys</th>\n",
       "    </tr>\n",
       "  </thead>\n",
       "  <tbody>\n",
       "    <tr>\n",
       "      <th>0</th>\n",
       "      <td>46</td>\n",
       "      <td>0</td>\n",
       "      <td>0</td>\n",
       "      <td>0</td>\n",
       "      <td>1</td>\n",
       "      <td>0</td>\n",
       "      <td>0</td>\n",
       "      <td>0</td>\n",
       "      <td>30.0</td>\n",
       "      <td>0</td>\n",
       "      <td>16.5</td>\n",
       "      <td>1.03</td>\n",
       "      <td>1.03</td>\n",
       "      <td>0</td>\n",
       "      <td>1</td>\n",
       "      <td>0</td>\n",
       "      <td>0</td>\n",
       "    </tr>\n",
       "    <tr>\n",
       "      <th>1</th>\n",
       "      <td>49</td>\n",
       "      <td>0</td>\n",
       "      <td>0</td>\n",
       "      <td>0</td>\n",
       "      <td>1</td>\n",
       "      <td>0</td>\n",
       "      <td>0</td>\n",
       "      <td>0</td>\n",
       "      <td>6.5</td>\n",
       "      <td>0</td>\n",
       "      <td>13.0</td>\n",
       "      <td>1.01</td>\n",
       "      <td>0.90</td>\n",
       "      <td>0</td>\n",
       "      <td>0</td>\n",
       "      <td>1</td>\n",
       "      <td>0</td>\n",
       "    </tr>\n",
       "    <tr>\n",
       "      <th>2</th>\n",
       "      <td>506</td>\n",
       "      <td>0</td>\n",
       "      <td>0</td>\n",
       "      <td>0</td>\n",
       "      <td>1</td>\n",
       "      <td>0</td>\n",
       "      <td>0</td>\n",
       "      <td>0</td>\n",
       "      <td>3.0</td>\n",
       "      <td>1</td>\n",
       "      <td>10.0</td>\n",
       "      <td>0.95</td>\n",
       "      <td>0.74</td>\n",
       "      <td>0</td>\n",
       "      <td>0</td>\n",
       "      <td>1</td>\n",
       "      <td>0</td>\n",
       "    </tr>\n",
       "    <tr>\n",
       "      <th>3</th>\n",
       "      <td>56</td>\n",
       "      <td>0</td>\n",
       "      <td>0</td>\n",
       "      <td>0</td>\n",
       "      <td>1</td>\n",
       "      <td>0</td>\n",
       "      <td>0</td>\n",
       "      <td>0</td>\n",
       "      <td>20.0</td>\n",
       "      <td>1</td>\n",
       "      <td>12.0</td>\n",
       "      <td>0.87</td>\n",
       "      <td>0.82</td>\n",
       "      <td>0</td>\n",
       "      <td>0</td>\n",
       "      <td>0</td>\n",
       "      <td>1</td>\n",
       "    </tr>\n",
       "    <tr>\n",
       "      <th>4</th>\n",
       "      <td>61</td>\n",
       "      <td>0</td>\n",
       "      <td>0</td>\n",
       "      <td>0</td>\n",
       "      <td>1</td>\n",
       "      <td>0</td>\n",
       "      <td>0</td>\n",
       "      <td>0</td>\n",
       "      <td>6.0</td>\n",
       "      <td>1</td>\n",
       "      <td>12.0</td>\n",
       "      <td>0.87</td>\n",
       "      <td>0.77</td>\n",
       "      <td>0</td>\n",
       "      <td>0</td>\n",
       "      <td>0</td>\n",
       "      <td>1</td>\n",
       "    </tr>\n",
       "    <tr>\n",
       "      <th>...</th>\n",
       "      <td>...</td>\n",
       "      <td>...</td>\n",
       "      <td>...</td>\n",
       "      <td>...</td>\n",
       "      <td>...</td>\n",
       "      <td>...</td>\n",
       "      <td>...</td>\n",
       "      <td>...</td>\n",
       "      <td>...</td>\n",
       "      <td>...</td>\n",
       "      <td>...</td>\n",
       "      <td>...</td>\n",
       "      <td>...</td>\n",
       "      <td>...</td>\n",
       "      <td>...</td>\n",
       "      <td>...</td>\n",
       "      <td>...</td>\n",
       "    </tr>\n",
       "    <tr>\n",
       "      <th>815</th>\n",
       "      <td>423</td>\n",
       "      <td>0</td>\n",
       "      <td>0</td>\n",
       "      <td>1</td>\n",
       "      <td>0</td>\n",
       "      <td>0</td>\n",
       "      <td>0</td>\n",
       "      <td>1</td>\n",
       "      <td>19.0</td>\n",
       "      <td>1</td>\n",
       "      <td>4.0</td>\n",
       "      <td>1.05</td>\n",
       "      <td>0.84</td>\n",
       "      <td>1</td>\n",
       "      <td>0</td>\n",
       "      <td>1</td>\n",
       "      <td>0</td>\n",
       "    </tr>\n",
       "    <tr>\n",
       "      <th>816</th>\n",
       "      <td>424</td>\n",
       "      <td>0</td>\n",
       "      <td>0</td>\n",
       "      <td>1</td>\n",
       "      <td>0</td>\n",
       "      <td>0</td>\n",
       "      <td>0</td>\n",
       "      <td>1</td>\n",
       "      <td>12.0</td>\n",
       "      <td>1</td>\n",
       "      <td>10.0</td>\n",
       "      <td>1.05</td>\n",
       "      <td>0.94</td>\n",
       "      <td>1</td>\n",
       "      <td>0</td>\n",
       "      <td>1</td>\n",
       "      <td>0</td>\n",
       "    </tr>\n",
       "    <tr>\n",
       "      <th>817</th>\n",
       "      <td>426</td>\n",
       "      <td>0</td>\n",
       "      <td>0</td>\n",
       "      <td>1</td>\n",
       "      <td>0</td>\n",
       "      <td>0</td>\n",
       "      <td>0</td>\n",
       "      <td>1</td>\n",
       "      <td>5.0</td>\n",
       "      <td>1</td>\n",
       "      <td>19.0</td>\n",
       "      <td>1.11</td>\n",
       "      <td>1.05</td>\n",
       "      <td>1</td>\n",
       "      <td>0</td>\n",
       "      <td>0</td>\n",
       "      <td>0</td>\n",
       "    </tr>\n",
       "    <tr>\n",
       "      <th>818</th>\n",
       "      <td>427</td>\n",
       "      <td>0</td>\n",
       "      <td>0</td>\n",
       "      <td>1</td>\n",
       "      <td>0</td>\n",
       "      <td>0</td>\n",
       "      <td>0</td>\n",
       "      <td>1</td>\n",
       "      <td>0.0</td>\n",
       "      <td>0</td>\n",
       "      <td>7.0</td>\n",
       "      <td>1.11</td>\n",
       "      <td>1.09</td>\n",
       "      <td>1</td>\n",
       "      <td>0</td>\n",
       "      <td>0</td>\n",
       "      <td>1</td>\n",
       "    </tr>\n",
       "    <tr>\n",
       "      <th>819</th>\n",
       "      <td>428</td>\n",
       "      <td>0</td>\n",
       "      <td>0</td>\n",
       "      <td>1</td>\n",
       "      <td>0</td>\n",
       "      <td>0</td>\n",
       "      <td>0</td>\n",
       "      <td>1</td>\n",
       "      <td>10.0</td>\n",
       "      <td>0</td>\n",
       "      <td>7.0</td>\n",
       "      <td>1.05</td>\n",
       "      <td>0.89</td>\n",
       "      <td>1</td>\n",
       "      <td>0</td>\n",
       "      <td>0</td>\n",
       "      <td>1</td>\n",
       "    </tr>\n",
       "  </tbody>\n",
       "</table>\n",
       "<p>820 rows × 17 columns</p>\n",
       "</div>"
      ],
      "text/plain": [
       "      ID  SouthJ  CentralJ  NorthJ  PA1  PA2  Shore  Treatment  Empl  C.Owned  \\\n",
       "0     46       0         0       0    1    0      0          0  30.0        0   \n",
       "1     49       0         0       0    1    0      0          0   6.5        0   \n",
       "2    506       0         0       0    1    0      0          0   3.0        1   \n",
       "3     56       0         0       0    1    0      0          0  20.0        1   \n",
       "4     61       0         0       0    1    0      0          0   6.0        1   \n",
       "..   ...     ...       ...     ...  ...  ...    ...        ...   ...      ...   \n",
       "815  423       0         0       1    0    0      0          1  19.0        1   \n",
       "816  424       0         0       1    0    0      0          1  12.0        1   \n",
       "817  426       0         0       1    0    0      0          1   5.0        1   \n",
       "818  427       0         0       1    0    0      0          1   0.0        0   \n",
       "819  428       0         0       1    0    0      0          1  10.0        0   \n",
       "\n",
       "     Hours.Opening  Soda  Fries  Post  BK  KFC  Wendys  \n",
       "0             16.5  1.03   1.03     0   1    0       0  \n",
       "1             13.0  1.01   0.90     0   0    1       0  \n",
       "2             10.0  0.95   0.74     0   0    1       0  \n",
       "3             12.0  0.87   0.82     0   0    0       1  \n",
       "4             12.0  0.87   0.77     0   0    0       1  \n",
       "..             ...   ...    ...   ...  ..  ...     ...  \n",
       "815            4.0  1.05   0.84     1   0    1       0  \n",
       "816           10.0  1.05   0.94     1   0    1       0  \n",
       "817           19.0  1.11   1.05     1   0    0       0  \n",
       "818            7.0  1.11   1.09     1   0    0       1  \n",
       "819            7.0  1.05   0.89     1   0    0       1  \n",
       "\n",
       "[820 rows x 17 columns]"
      ]
     },
     "execution_count": 243,
     "metadata": {},
     "output_type": "execute_result"
    }
   ],
   "source": [
    "\"\"\" # BEGIN PROMPT\n",
    "#dd_df = dd_df_encoded...\n",
    "\"\"\" # END PROMPT\n",
    "# BEGIN SOLUTION NO PROMPT\n",
    "dd_df = dd_df_encoded.rename({'Group':'Treatment', 'Treatment':'Post'},axis=1)\n",
    "dd_df\n",
    "# END SOLUTION"
   ]
  },
  {
   "cell_type": "raw",
   "id": "872e5f6f-3e2b-4f3a-89b6-28a437cfd708",
   "metadata": {},
   "source": [
    "# END SOLUTION"
   ]
  },
  {
   "cell_type": "raw",
   "id": "5033232a-e58e-43bc-8622-61d05a956d19",
   "metadata": {},
   "source": [
    "# BEGIN TESTS"
   ]
  },
  {
   "cell_type": "code",
   "execution_count": 244,
   "id": "d123b6d8-47a3-4780-b8e4-06c4ac725731",
   "metadata": {
    "tags": []
   },
   "outputs": [],
   "source": [
    "expected_columns_after_rename = ['Treatment', 'Post']\n",
    "assert all(column in dd_df.columns for column in expected_columns_after_rename), \"Columns were not renamed correctly\""
   ]
  },
  {
   "cell_type": "code",
   "execution_count": 245,
   "id": "b846e35b-89bc-440e-9afa-8fe22670c22d",
   "metadata": {
    "tags": []
   },
   "outputs": [],
   "source": [
    "original_columns = ['Group']\n",
    "assert all(column not in dd_df.columns for column in original_columns), \"Group column still present after rename\""
   ]
  },
  {
   "cell_type": "raw",
   "id": "8ab06a82-8fdc-40ca-a8af-4bb1d68690d3",
   "metadata": {},
   "source": [
    "# END TESTS"
   ]
  },
  {
   "cell_type": "raw",
   "id": "5914a671-a7f9-44a0-8eff-ea488a162135",
   "metadata": {},
   "source": [
    "# END QUESTION"
   ]
  },
  {
   "cell_type": "raw",
   "id": "5290f9ee-5a6a-4e34-8455-87b3771535ad",
   "metadata": {},
   "source": [
    "# BEGIN QUESTION\n",
    "name: q3_3\n",
    "points: 2"
   ]
  },
  {
   "cell_type": "markdown",
   "id": "f06b372f-7096-4a92-9e17-45475955d484",
   "metadata": {},
   "source": [
    "**Question 3.3:** Now, using `statsmodels` run the diff-in-diff from equation (1.1). Note: This is without your controls."
   ]
  },
  {
   "cell_type": "raw",
   "id": "754ade9d-2d1e-4afb-bdff-47d1b7aa2bc7",
   "metadata": {},
   "source": [
    "# BEGIN SOLUTION"
   ]
  },
  {
   "cell_type": "code",
   "execution_count": 246,
   "id": "389a1f94-c6f3-425d-9a81-970bf6273f22",
   "metadata": {
    "tags": []
   },
   "outputs": [
    {
     "name": "stdout",
     "output_type": "stream",
     "text": [
      "                            OLS Regression Results                            \n",
      "==============================================================================\n",
      "Dep. Variable:                   Empl   R-squared:                         nan\n",
      "Model:                            OLS   Adj. R-squared:                    nan\n",
      "Method:                 Least Squares   F-statistic:                       nan\n",
      "Date:                Thu, 22 Feb 2024   Prob (F-statistic):                nan\n",
      "Time:                        20:44:53   Log-Likelihood:                    nan\n",
      "No. Observations:                 820   AIC:                               nan\n",
      "Df Residuals:                     816   BIC:                               nan\n",
      "Df Model:                           3                                         \n",
      "Covariance Type:            nonrobust                                         \n",
      "==================================================================================\n",
      "                     coef    std err          t      P>|t|      [0.025      0.975]\n",
      "----------------------------------------------------------------------------------\n",
      "const                 nan        nan        nan        nan         nan         nan\n",
      "Treatment             nan        nan        nan        nan         nan         nan\n",
      "Post                  nan        nan        nan        nan         nan         nan\n",
      "Treatment_Post        nan        nan        nan        nan         nan         nan\n",
      "==============================================================================\n",
      "Omnibus:                          nan   Durbin-Watson:                     nan\n",
      "Prob(Omnibus):                    nan   Jarque-Bera (JB):                  nan\n",
      "Skew:                             nan   Prob(JB):                          nan\n",
      "Kurtosis:                         nan   Cond. No.                         11.4\n",
      "==============================================================================\n",
      "\n",
      "Notes:\n",
      "[1] Standard Errors assume that the covariance matrix of the errors is correctly specified.\n"
     ]
    }
   ],
   "source": [
    "\"\"\" # BEGIN PROMPT\n",
    "\n",
    "# Create your Treatment*Post variable.\n",
    "dd_df['Treatment_Post'] = ...\n",
    "\n",
    "\n",
    "# Define your dependent variable.\n",
    "Y = dd_df[...] \n",
    "\n",
    "\n",
    "# Define your independent variables, including the interaction term\n",
    "X = dd_df[...]\n",
    "\n",
    "\n",
    "# Add a constant to the model (the intercept)\n",
    "X = sm.add_constant(X)\n",
    "\n",
    "# Create the OLS model\n",
    "model = sm.OLS(Y, X)\n",
    "\n",
    "\n",
    "# Fit the model\n",
    "results = model.fit()\n",
    "\n",
    "# Print the summary of the model\n",
    "print(results.summary())\n",
    "\n",
    "\n",
    "\"\"\" # END PROMPT\n",
    "# BEGIN SOLUTION NO PROMPT\n",
    "\n",
    "# Create your Treatment*Post variable.\n",
    "dd_df['Treatment_Post'] = dd_df['Treatment'] * dd_df['Post']\n",
    "\n",
    "\n",
    "# Define your dependent variable.\n",
    "Y = dd_df['Empl'] \n",
    "\n",
    "\n",
    "# Define your independent variables, including the interaction term\n",
    "X = dd_df[['Treatment', 'Post', 'Treatment_Post']]\n",
    "\n",
    "\n",
    "# Add a constant to the model (the intercept)\n",
    "X = sm.add_constant(X)\n",
    "\n",
    "# Create the OLS model\n",
    "model = sm.OLS(Y, X)\n",
    "\n",
    "\n",
    "# Fit the model\n",
    "results = model.fit()\n",
    "\n",
    "# Print the summary of the model\n",
    "print(results.summary())\n",
    "# END SOLUTION"
   ]
  },
  {
   "cell_type": "raw",
   "id": "0d7a6c18-db5b-4e95-8e3b-0b48eb504fe3",
   "metadata": {},
   "source": [
    "# END SOLUTION"
   ]
  },
  {
   "cell_type": "raw",
   "id": "40e4b97b-4170-4ab8-aa65-c29145b610e0",
   "metadata": {},
   "source": [
    "# BEGIN TESTS"
   ]
  },
  {
   "cell_type": "code",
   "execution_count": 247,
   "id": "ba968185-4b21-463c-a2dd-fbcad2ed231c",
   "metadata": {
    "tags": []
   },
   "outputs": [],
   "source": [
    "assert np.isnan(results.params.const)"
   ]
  },
  {
   "cell_type": "code",
   "execution_count": 248,
   "id": "0530247f-9270-4657-8ae6-4b930f12183f",
   "metadata": {
    "tags": []
   },
   "outputs": [],
   "source": [
    "assert len(results.params) == 4"
   ]
  },
  {
   "cell_type": "raw",
   "id": "f9e7f0ef-4bcf-4f8f-9aad-fe4b4610bf20",
   "metadata": {},
   "source": [
    "# END TESTS"
   ]
  },
  {
   "cell_type": "raw",
   "id": "d1905bb2-cd58-4cc6-b30b-b6dd69e80702",
   "metadata": {},
   "source": [
    "# END QUESTION"
   ]
  },
  {
   "cell_type": "raw",
   "id": "48b42594-2b9a-473e-9908-1fd5d31f1dff",
   "metadata": {},
   "source": [
    "# BEGIN QUESTION\n",
    "name: q3_4_1\n",
    "points: 1"
   ]
  },
  {
   "cell_type": "markdown",
   "id": "266085e9-2bfd-45d5-b174-e3429abde043",
   "metadata": {},
   "source": [
    "**Question 3.4.1:** You notice that your output from the `print(results.summary())` gives you all NaN's as cofficients and std errors, etc. This may be because of NaNs in the data. For the sake of simplicity, feel free to just drop all the NaNs for now."
   ]
  },
  {
   "cell_type": "raw",
   "id": "45dc16fc-bc8d-4ba0-9735-f81e1c50ec3c",
   "metadata": {
    "tags": []
   },
   "source": [
    "# BEGIN SOLUTION"
   ]
  },
  {
   "cell_type": "code",
   "execution_count": 249,
   "id": "9d2f3bb2-29aa-4e87-bd3b-5ea78dc3f4c0",
   "metadata": {
    "tags": []
   },
   "outputs": [
    {
     "data": {
      "text/html": [
       "<div>\n",
       "<style scoped>\n",
       "    .dataframe tbody tr th:only-of-type {\n",
       "        vertical-align: middle;\n",
       "    }\n",
       "\n",
       "    .dataframe tbody tr th {\n",
       "        vertical-align: top;\n",
       "    }\n",
       "\n",
       "    .dataframe thead th {\n",
       "        text-align: right;\n",
       "    }\n",
       "</style>\n",
       "<table border=\"1\" class=\"dataframe\">\n",
       "  <thead>\n",
       "    <tr style=\"text-align: right;\">\n",
       "      <th></th>\n",
       "      <th>ID</th>\n",
       "      <th>SouthJ</th>\n",
       "      <th>CentralJ</th>\n",
       "      <th>NorthJ</th>\n",
       "      <th>PA1</th>\n",
       "      <th>PA2</th>\n",
       "      <th>Shore</th>\n",
       "      <th>Treatment</th>\n",
       "      <th>Empl</th>\n",
       "      <th>C.Owned</th>\n",
       "      <th>Hours.Opening</th>\n",
       "      <th>Soda</th>\n",
       "      <th>Fries</th>\n",
       "      <th>Post</th>\n",
       "      <th>BK</th>\n",
       "      <th>KFC</th>\n",
       "      <th>Wendys</th>\n",
       "      <th>Treatment_Post</th>\n",
       "    </tr>\n",
       "  </thead>\n",
       "  <tbody>\n",
       "    <tr>\n",
       "      <th>0</th>\n",
       "      <td>46</td>\n",
       "      <td>0</td>\n",
       "      <td>0</td>\n",
       "      <td>0</td>\n",
       "      <td>1</td>\n",
       "      <td>0</td>\n",
       "      <td>0</td>\n",
       "      <td>0</td>\n",
       "      <td>30.0</td>\n",
       "      <td>0</td>\n",
       "      <td>16.5</td>\n",
       "      <td>1.03</td>\n",
       "      <td>1.03</td>\n",
       "      <td>0</td>\n",
       "      <td>1</td>\n",
       "      <td>0</td>\n",
       "      <td>0</td>\n",
       "      <td>0</td>\n",
       "    </tr>\n",
       "    <tr>\n",
       "      <th>1</th>\n",
       "      <td>49</td>\n",
       "      <td>0</td>\n",
       "      <td>0</td>\n",
       "      <td>0</td>\n",
       "      <td>1</td>\n",
       "      <td>0</td>\n",
       "      <td>0</td>\n",
       "      <td>0</td>\n",
       "      <td>6.5</td>\n",
       "      <td>0</td>\n",
       "      <td>13.0</td>\n",
       "      <td>1.01</td>\n",
       "      <td>0.90</td>\n",
       "      <td>0</td>\n",
       "      <td>0</td>\n",
       "      <td>1</td>\n",
       "      <td>0</td>\n",
       "      <td>0</td>\n",
       "    </tr>\n",
       "    <tr>\n",
       "      <th>2</th>\n",
       "      <td>506</td>\n",
       "      <td>0</td>\n",
       "      <td>0</td>\n",
       "      <td>0</td>\n",
       "      <td>1</td>\n",
       "      <td>0</td>\n",
       "      <td>0</td>\n",
       "      <td>0</td>\n",
       "      <td>3.0</td>\n",
       "      <td>1</td>\n",
       "      <td>10.0</td>\n",
       "      <td>0.95</td>\n",
       "      <td>0.74</td>\n",
       "      <td>0</td>\n",
       "      <td>0</td>\n",
       "      <td>1</td>\n",
       "      <td>0</td>\n",
       "      <td>0</td>\n",
       "    </tr>\n",
       "    <tr>\n",
       "      <th>3</th>\n",
       "      <td>56</td>\n",
       "      <td>0</td>\n",
       "      <td>0</td>\n",
       "      <td>0</td>\n",
       "      <td>1</td>\n",
       "      <td>0</td>\n",
       "      <td>0</td>\n",
       "      <td>0</td>\n",
       "      <td>20.0</td>\n",
       "      <td>1</td>\n",
       "      <td>12.0</td>\n",
       "      <td>0.87</td>\n",
       "      <td>0.82</td>\n",
       "      <td>0</td>\n",
       "      <td>0</td>\n",
       "      <td>0</td>\n",
       "      <td>1</td>\n",
       "      <td>0</td>\n",
       "    </tr>\n",
       "    <tr>\n",
       "      <th>4</th>\n",
       "      <td>61</td>\n",
       "      <td>0</td>\n",
       "      <td>0</td>\n",
       "      <td>0</td>\n",
       "      <td>1</td>\n",
       "      <td>0</td>\n",
       "      <td>0</td>\n",
       "      <td>0</td>\n",
       "      <td>6.0</td>\n",
       "      <td>1</td>\n",
       "      <td>12.0</td>\n",
       "      <td>0.87</td>\n",
       "      <td>0.77</td>\n",
       "      <td>0</td>\n",
       "      <td>0</td>\n",
       "      <td>0</td>\n",
       "      <td>1</td>\n",
       "      <td>0</td>\n",
       "    </tr>\n",
       "    <tr>\n",
       "      <th>...</th>\n",
       "      <td>...</td>\n",
       "      <td>...</td>\n",
       "      <td>...</td>\n",
       "      <td>...</td>\n",
       "      <td>...</td>\n",
       "      <td>...</td>\n",
       "      <td>...</td>\n",
       "      <td>...</td>\n",
       "      <td>...</td>\n",
       "      <td>...</td>\n",
       "      <td>...</td>\n",
       "      <td>...</td>\n",
       "      <td>...</td>\n",
       "      <td>...</td>\n",
       "      <td>...</td>\n",
       "      <td>...</td>\n",
       "      <td>...</td>\n",
       "      <td>...</td>\n",
       "    </tr>\n",
       "    <tr>\n",
       "      <th>815</th>\n",
       "      <td>423</td>\n",
       "      <td>0</td>\n",
       "      <td>0</td>\n",
       "      <td>1</td>\n",
       "      <td>0</td>\n",
       "      <td>0</td>\n",
       "      <td>0</td>\n",
       "      <td>1</td>\n",
       "      <td>19.0</td>\n",
       "      <td>1</td>\n",
       "      <td>4.0</td>\n",
       "      <td>1.05</td>\n",
       "      <td>0.84</td>\n",
       "      <td>1</td>\n",
       "      <td>0</td>\n",
       "      <td>1</td>\n",
       "      <td>0</td>\n",
       "      <td>1</td>\n",
       "    </tr>\n",
       "    <tr>\n",
       "      <th>816</th>\n",
       "      <td>424</td>\n",
       "      <td>0</td>\n",
       "      <td>0</td>\n",
       "      <td>1</td>\n",
       "      <td>0</td>\n",
       "      <td>0</td>\n",
       "      <td>0</td>\n",
       "      <td>1</td>\n",
       "      <td>12.0</td>\n",
       "      <td>1</td>\n",
       "      <td>10.0</td>\n",
       "      <td>1.05</td>\n",
       "      <td>0.94</td>\n",
       "      <td>1</td>\n",
       "      <td>0</td>\n",
       "      <td>1</td>\n",
       "      <td>0</td>\n",
       "      <td>1</td>\n",
       "    </tr>\n",
       "    <tr>\n",
       "      <th>817</th>\n",
       "      <td>426</td>\n",
       "      <td>0</td>\n",
       "      <td>0</td>\n",
       "      <td>1</td>\n",
       "      <td>0</td>\n",
       "      <td>0</td>\n",
       "      <td>0</td>\n",
       "      <td>1</td>\n",
       "      <td>5.0</td>\n",
       "      <td>1</td>\n",
       "      <td>19.0</td>\n",
       "      <td>1.11</td>\n",
       "      <td>1.05</td>\n",
       "      <td>1</td>\n",
       "      <td>0</td>\n",
       "      <td>0</td>\n",
       "      <td>0</td>\n",
       "      <td>1</td>\n",
       "    </tr>\n",
       "    <tr>\n",
       "      <th>818</th>\n",
       "      <td>427</td>\n",
       "      <td>0</td>\n",
       "      <td>0</td>\n",
       "      <td>1</td>\n",
       "      <td>0</td>\n",
       "      <td>0</td>\n",
       "      <td>0</td>\n",
       "      <td>1</td>\n",
       "      <td>0.0</td>\n",
       "      <td>0</td>\n",
       "      <td>7.0</td>\n",
       "      <td>1.11</td>\n",
       "      <td>1.09</td>\n",
       "      <td>1</td>\n",
       "      <td>0</td>\n",
       "      <td>0</td>\n",
       "      <td>1</td>\n",
       "      <td>1</td>\n",
       "    </tr>\n",
       "    <tr>\n",
       "      <th>819</th>\n",
       "      <td>428</td>\n",
       "      <td>0</td>\n",
       "      <td>0</td>\n",
       "      <td>1</td>\n",
       "      <td>0</td>\n",
       "      <td>0</td>\n",
       "      <td>0</td>\n",
       "      <td>1</td>\n",
       "      <td>10.0</td>\n",
       "      <td>0</td>\n",
       "      <td>7.0</td>\n",
       "      <td>1.05</td>\n",
       "      <td>0.89</td>\n",
       "      <td>1</td>\n",
       "      <td>0</td>\n",
       "      <td>0</td>\n",
       "      <td>1</td>\n",
       "      <td>1</td>\n",
       "    </tr>\n",
       "  </tbody>\n",
       "</table>\n",
       "<p>757 rows × 18 columns</p>\n",
       "</div>"
      ],
      "text/plain": [
       "      ID  SouthJ  CentralJ  NorthJ  PA1  PA2  Shore  Treatment  Empl  C.Owned  \\\n",
       "0     46       0         0       0    1    0      0          0  30.0        0   \n",
       "1     49       0         0       0    1    0      0          0   6.5        0   \n",
       "2    506       0         0       0    1    0      0          0   3.0        1   \n",
       "3     56       0         0       0    1    0      0          0  20.0        1   \n",
       "4     61       0         0       0    1    0      0          0   6.0        1   \n",
       "..   ...     ...       ...     ...  ...  ...    ...        ...   ...      ...   \n",
       "815  423       0         0       1    0    0      0          1  19.0        1   \n",
       "816  424       0         0       1    0    0      0          1  12.0        1   \n",
       "817  426       0         0       1    0    0      0          1   5.0        1   \n",
       "818  427       0         0       1    0    0      0          1   0.0        0   \n",
       "819  428       0         0       1    0    0      0          1  10.0        0   \n",
       "\n",
       "     Hours.Opening  Soda  Fries  Post  BK  KFC  Wendys  Treatment_Post  \n",
       "0             16.5  1.03   1.03     0   1    0       0               0  \n",
       "1             13.0  1.01   0.90     0   0    1       0               0  \n",
       "2             10.0  0.95   0.74     0   0    1       0               0  \n",
       "3             12.0  0.87   0.82     0   0    0       1               0  \n",
       "4             12.0  0.87   0.77     0   0    0       1               0  \n",
       "..             ...   ...    ...   ...  ..  ...     ...             ...  \n",
       "815            4.0  1.05   0.84     1   0    1       0               1  \n",
       "816           10.0  1.05   0.94     1   0    1       0               1  \n",
       "817           19.0  1.11   1.05     1   0    0       0               1  \n",
       "818            7.0  1.11   1.09     1   0    0       1               1  \n",
       "819            7.0  1.05   0.89     1   0    0       1               1  \n",
       "\n",
       "[757 rows x 18 columns]"
      ]
     },
     "execution_count": 249,
     "metadata": {},
     "output_type": "execute_result"
    }
   ],
   "source": [
    "\"\"\" # BEGIN PROMPT\n",
    "dd_df = \n",
    "\"\"\" # END PROMPT\n",
    "# BEGIN SOLUTION NO PROMPT\n",
    "dd_df = dd_df.dropna()\n",
    "dd_df\n",
    "# END SOLUTION"
   ]
  },
  {
   "cell_type": "raw",
   "id": "261d6282-9a9f-4d93-bd00-fb0a69906446",
   "metadata": {},
   "source": [
    "# END SOLUTION"
   ]
  },
  {
   "cell_type": "raw",
   "id": "d8537e82-9788-48bd-b233-5cf08c9fedc6",
   "metadata": {},
   "source": [
    "# BEGIN TESTS"
   ]
  },
  {
   "cell_type": "code",
   "execution_count": 250,
   "id": "1ae66a2f-bed8-4abb-a4ca-a468d6a1cad3",
   "metadata": {
    "tags": []
   },
   "outputs": [],
   "source": [
    "expected_shape = (757, 18)\n",
    "assert dd_df.shape == expected_shape, f\"DataFrame shape mismatch: expected {expected_shape}, got {dd_df.shape}\""
   ]
  },
  {
   "cell_type": "code",
   "execution_count": 251,
   "id": "0693e550-6779-45be-8e83-491164f4dec0",
   "metadata": {
    "tags": []
   },
   "outputs": [],
   "source": [
    "assert not dd_df.isna().any().any(), \"DataFrame contains NaN values\""
   ]
  },
  {
   "cell_type": "raw",
   "id": "f7c15bf8-c0f8-48aa-9794-54416bcf1733",
   "metadata": {},
   "source": [
    "# END TESTS"
   ]
  },
  {
   "cell_type": "raw",
   "id": "147b6ccc-9f51-4344-88f0-eb16f19da8d0",
   "metadata": {},
   "source": [
    "# END QUESTION"
   ]
  },
  {
   "cell_type": "raw",
   "id": "3f63a5cf-dbcd-43e3-9461-4cbac13e81f4",
   "metadata": {},
   "source": [
    "# BEGIN QUESTION\n",
    "name: q3_4_2\n",
    "points: 1\n",
    "manual: true "
   ]
  },
  {
   "cell_type": "markdown",
   "id": "5a1c89da-14bc-4dcb-9c51-59b1d2357993",
   "metadata": {},
   "source": [
    "**Question 3.4.2:** Describe in 1-2 sentences below what you did and how it might affect your later analysis. Also note how many observations you lost. "
   ]
  },
  {
   "cell_type": "raw",
   "id": "d08dbfdf-72a1-4af2-9c0b-8ebd51c531f4",
   "metadata": {},
   "source": [
    "# BEGIN SOLUTION"
   ]
  },
  {
   "cell_type": "markdown",
   "id": "a38fb4a6-39b1-46a5-8b90-3cfe1f38b85b",
   "metadata": {},
   "source": [
    "<div class=\"alert alert-block alert-danger\">\n",
    "\n",
    "<b>SOLUTION:</b> Dropped all rows that contained any form of nans. This may bias our findings, if there are certain patterns to groups that had more prevalence of nans. Lost 820 - 757 = 63 observations.</div>"
   ]
  },
  {
   "cell_type": "raw",
   "id": "b3f58543-b557-482e-937c-8a3f1e46e82b",
   "metadata": {},
   "source": [
    "# END SOLUTION"
   ]
  },
  {
   "cell_type": "raw",
   "id": "ac5e7e94-402b-408f-9f97-e286cee3835e",
   "metadata": {},
   "source": [
    "# END QUESTION"
   ]
  },
  {
   "cell_type": "raw",
   "id": "2f41ee27-2d7c-4b53-9161-9e94bc9cdd0e",
   "metadata": {},
   "source": [
    "# BEGIN QUESTION\n",
    "name: q3_5\n",
    "points: 2"
   ]
  },
  {
   "cell_type": "markdown",
   "id": "f6bacf9a-bd3a-400b-bf03-a2527bf73c16",
   "metadata": {},
   "source": [
    "**Question 3.5:** Repeat the analysis from 3.3 and estimate the diff-in-diff estimator."
   ]
  },
  {
   "cell_type": "raw",
   "id": "fc4c37f6-5f86-4b5e-8355-7396c80ffecc",
   "metadata": {},
   "source": [
    "# BEGIN SOLUTION"
   ]
  },
  {
   "cell_type": "code",
   "execution_count": 252,
   "id": "a23bb369-fb31-43b9-8b1a-3b1b3e5e8472",
   "metadata": {
    "tags": []
   },
   "outputs": [
    {
     "name": "stdout",
     "output_type": "stream",
     "text": [
      "                            OLS Regression Results                            \n",
      "==============================================================================\n",
      "Dep. Variable:                   Empl   R-squared:                       0.011\n",
      "Model:                            OLS   Adj. R-squared:                  0.007\n",
      "Method:                 Least Squares   F-statistic:                     2.695\n",
      "Date:                Thu, 22 Feb 2024   Prob (F-statistic):             0.0450\n",
      "Time:                        20:44:55   Log-Likelihood:                -2655.9\n",
      "No. Observations:                 757   AIC:                             5320.\n",
      "Df Residuals:                     753   BIC:                             5338.\n",
      "Df Model:                           3                                         \n",
      "Covariance Type:            nonrobust                                         \n",
      "==================================================================================\n",
      "                     coef    std err          t      P>|t|      [0.025      0.975]\n",
      "----------------------------------------------------------------------------------\n",
      "const             10.4408      0.929     11.233      0.000       8.616      12.265\n",
      "Treatment         -2.8472      1.037     -2.745      0.006      -4.883      -0.811\n",
      "Post              -2.6943      1.337     -2.015      0.044      -5.320      -0.069\n",
      "Treatment_Post     3.5708      1.490      2.397      0.017       0.646       6.495\n",
      "==============================================================================\n",
      "Omnibus:                      174.779   Durbin-Watson:                   1.955\n",
      "Prob(Omnibus):                  0.000   Jarque-Bera (JB):              333.989\n",
      "Skew:                           1.338   Prob(JB):                     2.99e-73\n",
      "Kurtosis:                       4.852   Cond. No.                         11.2\n",
      "==============================================================================\n",
      "\n",
      "Notes:\n",
      "[1] Standard Errors assume that the covariance matrix of the errors is correctly specified.\n"
     ]
    }
   ],
   "source": [
    "\"\"\" # BEGIN PROMPT\n",
    "...\n",
    "\"\"\" # END PROMPT\n",
    "# BEGIN SOLUTION NO PROMPT\n",
    "# Create your Treatment*Post variable.\n",
    "dd_df['Treatment_Post'] = dd_df['Treatment'] * dd_df['Post']\n",
    "\n",
    "\n",
    "# Define your dependent variable.\n",
    "Y = dd_df['Empl'] \n",
    "\n",
    "\n",
    "# Define your independent variables, including the interaction term\n",
    "X = dd_df[['Treatment', 'Post', 'Treatment_Post']]\n",
    "\n",
    "\n",
    "# Add a constant to the model (the intercept)\n",
    "X = sm.add_constant(X)\n",
    "\n",
    "# Create the OLS model\n",
    "model = sm.OLS(Y, X)\n",
    "\n",
    "\n",
    "# Fit the model\n",
    "results = model.fit()\n",
    "\n",
    "# Print the summary of the model\n",
    "print(results.summary())\n",
    "# END SOLUTION"
   ]
  },
  {
   "cell_type": "raw",
   "id": "6103ff46-12aa-4add-bc21-933e5f228630",
   "metadata": {},
   "source": [
    "# END SOLUTION"
   ]
  },
  {
   "cell_type": "raw",
   "id": "c8842a51-9564-4e19-9bbf-e5dac7d01566",
   "metadata": {},
   "source": [
    "# BEGIN TESTS"
   ]
  },
  {
   "cell_type": "code",
   "execution_count": 253,
   "id": "12303363-6f4a-4ad8-b3be-a7a00517242f",
   "metadata": {
    "tags": []
   },
   "outputs": [],
   "source": [
    "# Expected coefficients and their respective standard errors and confidence intervals\n",
    "expected_coefficients = {\n",
    "    'const': {'coef': 10.4408, 'se': 0.929, 'ci_lower': 8.616, 'ci_upper': 12.265},\n",
    "    'Treatment': {'coef': -2.8472, 'se': 1.037, 'ci_lower': -4.883, 'ci_upper': -0.811},\n",
    "    'Post': {'coef': -2.6943, 'se': 1.337, 'ci_lower': -5.320, 'ci_upper': -0.069},\n",
    "    'Treatment_Post': {'coef': 3.5708, 'se': 1.490, 'ci_lower': 0.646, 'ci_upper': 6.495}\n",
    "}\n",
    "\n",
    "# Tolerance for comparing floating point numbers\n",
    "tolerance = 1e-3\n",
    "\n",
    "# Checking coefficients, standard errors, and confidence intervals\n",
    "for var, expected in expected_coefficients.items():\n",
    "    coef, se = results.params[var], results.bse[var]\n",
    "    ci_lower, ci_upper = results.conf_int().loc[var]\n",
    "\n",
    "    assert abs(coef - expected['coef']) < tolerance, f\"Coefficient for {var} is incorrect: expected {expected['coef']}, got {coef}\"\n",
    "    assert abs(se - expected['se']) < tolerance, f\"Standard error for {var} is incorrect: expected {expected['se']}, got {se}\"\n",
    "    assert abs(ci_lower - expected['ci_lower']) < tolerance, f\"Lower CI for {var} is incorrect: expected {expected['ci_lower']}, got {ci_lower}\"\n",
    "    assert abs(ci_upper - expected['ci_upper']) < tolerance, f\"Upper CI for {var} is incorrect: expected {expected['ci_upper']}, got {ci_upper}\"\n"
   ]
  },
  {
   "cell_type": "raw",
   "id": "e5b2ceb4-c2db-4ceb-95a9-8bdce48d1f63",
   "metadata": {},
   "source": [
    "# END TESTS"
   ]
  },
  {
   "cell_type": "raw",
   "id": "ac5af97d-c13a-4258-abc6-d9a4d8513d1b",
   "metadata": {},
   "source": [
    "# END QUESTION "
   ]
  },
  {
   "cell_type": "raw",
   "id": "fb29302e-e3bc-4ac0-be57-6453a7958fe5",
   "metadata": {
    "tags": []
   },
   "source": [
    "# BEGIN QUESTION\n",
    "name: q3_6\n",
    "points: 2\n",
    "manual: true"
   ]
  },
  {
   "cell_type": "markdown",
   "id": "e5a68d7b-e22c-40f0-822f-21340092eda8",
   "metadata": {},
   "source": [
    "**Question 3.6:** Using the Sign, Size, and Significance framework as described below, interpret your findings. Please format your markdown nicely (like the following cell) to aid readability."
   ]
  },
  {
   "cell_type": "markdown",
   "id": "4243663e-8624-4da5-876c-67548347692a",
   "metadata": {},
   "source": [
    "### Sign, Size, and Significance (SSS) framework for interpreting regression outputs\n",
    "\n",
    "#### 1. Sign\n",
    "\n",
    "- **Expected Sign**: What sign did you expect the estimated parameter(s) to have? Why?\n",
    "- **Actual Sign**: Does your estimate(s) have this sign (i.e., are you surprised or reassured by your results)?\n",
    "\n",
    "#### 2. Significance\n",
    "\n",
    "- **Statistical Significance**: Is the estimate(s) statistically different from zero?\n",
    "- **T-Statistic**: What is the t-statistic of this hypothesis?\n",
    "\n",
    "#### 3. Size\n",
    "\n",
    "- **Effect on Dependent Variable**: How do changes in this variable affect the dependent variable according to your estimation?\n",
    "- **Economic Significance**: Is this an economically meaningful effect size?\n",
    "\n",
    "This framework is borrowed from Berkeley's EEP C118 course. See more [here.](https://are.berkeley.edu/courses/EEP118/spring2014/section/Handout4_2014.pdf)"
   ]
  },
  {
   "cell_type": "raw",
   "id": "5c92bb91-aa6e-453e-ba1d-784fa0e6e23c",
   "metadata": {},
   "source": [
    "# BEGIN SOLUTION"
   ]
  },
  {
   "cell_type": "markdown",
   "id": "26af0d2e-bebd-4ae0-afea-8a8119dbf059",
   "metadata": {},
   "source": [
    "<div class=\"alert alert-block alert-danger\">\n",
    "\n",
    "<b>SOLUTION:</b> \n",
    "\n",
    "### Long answer.\n",
    "\n",
    "### 1. Sign\n",
    "\n",
    "- **Expected Sign**:\n",
    "    - **Treatment**: We might expect a negative coefficient if being in New Jersey (as opposed to Pennsylvania) negatively impacts the number of employees due to higher labor costs from the minimum wage increase.\n",
    "    - **Post**: Similarly, a negative coefficient might be expected if the introduction of a higher minimum wage generally leads to a reduction in employment.\n",
    "    - **Treatment_Post**: The interaction term's expected sign could go either way, but if the policy effectively increased employment or had a lesser negative impact than expected, a positive sign would be anticipated.\n",
    "- **Actual Sign**:\n",
    "    - The coefficients for both `Treatment` and `Post` are negative, as might be anticipated if the introduction of a minimum wage negatively impacted employment levels. The `Treatment_Post` coefficient is positive, suggesting that the post-treatment effect in New Jersey (the interaction of being in New Jersey after the minimum wage increase) had a positive impact on employment, contrary to the negative impacts of each factor individually.\n",
    "\n",
    "### 2. Significance\n",
    "\n",
    "- **Statistical Significance**:\n",
    "    - All variables (`Treatment`, `Post`, and `Treatment_Post`) are statistically significant, given their p-values are below the conventional threshold of 0.05.\n",
    "- **T-Statistic**:\n",
    "    - The t-statistics for `Treatment`, `Post`, and `Treatment_Post` are -2.745, -2.015, and 2.397, respectively, indicating that all estimates are significantly different from zero at conventional significance levels.\n",
    "\n",
    "### 3. Size\n",
    "\n",
    "- **Effect on Dependent Variable**:\n",
    "    - `Treatment` has a negative effect on employment, reducing the number of employees by about 2.847 units.\n",
    "    - `Post` also has a negative effect, reducing employment by 2.694 units.\n",
    "    - However, the `Treatment_Post` interaction shows a positive effect on employment, increasing it by 3.570 units in New Jersey post-minimum wage introduction compared to Pennsylvania or the period before the wage increase.\n",
    "- **Economic Significance**:\n",
    "    - The economic significance depends on the context, such as the average number of employees per store. The negative impacts of `Treatment` and `Post` suggest that the minimum wage might initially reduce employment, but the positive `Treatment_Post` effect suggests a potential recovery or improvement in New Jersey relative to Pennsylvania or the pre-policy scenario. The sizes of these coefficients indicate a measurable impact on employment, though the overall R-squared is low (0.011), suggesting that these factors explain a small portion of the variation in employment.\n",
    "\n",
    "In summary, while the policy's introduction in New Jersey has a negative impact on employment both as a standalone factor and in the immediate aftermath, the positive interaction term suggests a complex dynamic where the negative effects might be mitigated over time or under specific conditions related to the treatment group (New Jersey post-policy introduction). However, the low R-squared value indicates that other variables not included in the model may play a significant role in determining employment levels.</div>"
   ]
  },
  {
   "cell_type": "raw",
   "id": "ab0212fb-77f8-4201-b78d-90b8fd867dde",
   "metadata": {},
   "source": [
    "# END SOLUTION"
   ]
  },
  {
   "cell_type": "raw",
   "id": "2ab9f0d7-253a-4c26-88b1-84c0f8bcf27a",
   "metadata": {},
   "source": [
    "# END QUESTION"
   ]
  },
  {
   "cell_type": "raw",
   "id": "07f81442-93b6-4847-a8af-5a00871b18f1",
   "metadata": {
    "tags": []
   },
   "source": [
    "# BEGIN QUESTION\n",
    "name: q3_7\n",
    "points: 2"
   ]
  },
  {
   "cell_type": "markdown",
   "id": "005bf7b6-16b6-4235-b3ff-03f05045792c",
   "metadata": {},
   "source": [
    "**Question 3.7:** We notice that our $R^2$ (one of many goodness-of-fit parameters we can use) is very low. To aid our analysis, Include the controls you specified in the $\\LaTeX$ equation above."
   ]
  },
  {
   "cell_type": "raw",
   "id": "ba8c9a7e-48a6-4661-9b9e-3061167d69d9",
   "metadata": {},
   "source": [
    "# BEGIN SOLUTION"
   ]
  },
  {
   "cell_type": "code",
   "execution_count": 255,
   "id": "7327244f-112a-45e8-b1e8-6f6925261274",
   "metadata": {
    "tags": []
   },
   "outputs": [
    {
     "name": "stdout",
     "output_type": "stream",
     "text": [
      "                            OLS Regression Results                            \n",
      "==============================================================================\n",
      "Dep. Variable:                   Empl   R-squared:                       0.088\n",
      "Model:                            OLS   Adj. R-squared:                  0.081\n",
      "Method:                 Least Squares   F-statistic:                     12.12\n",
      "Date:                Thu, 22 Feb 2024   Prob (F-statistic):           5.02e-13\n",
      "Time:                        20:44:59   Log-Likelihood:                -2625.0\n",
      "No. Observations:                 757   AIC:                             5264.\n",
      "Df Residuals:                     750   BIC:                             5296.\n",
      "Df Model:                           6                                         \n",
      "Covariance Type:            nonrobust                                         \n",
      "==================================================================================\n",
      "                     coef    std err          t      P>|t|      [0.025      0.975]\n",
      "----------------------------------------------------------------------------------\n",
      "const              1.2470      3.451      0.361      0.718      -5.528       8.022\n",
      "Treatment         -2.9825      1.056     -2.825      0.005      -5.055      -0.910\n",
      "Post              -1.4365      1.300     -1.105      0.270      -3.989       1.116\n",
      "Treatment_Post     4.1275      1.435      2.877      0.004       1.311       6.944\n",
      "Hours.Opening      0.5209      0.071      7.380      0.000       0.382       0.659\n",
      "Fries             -0.3659      3.549     -0.103      0.918      -7.333       6.602\n",
      "Soda               2.0506      4.222      0.486      0.627      -6.238      10.339\n",
      "==============================================================================\n",
      "Omnibus:                      186.131   Durbin-Watson:                   2.042\n",
      "Prob(Omnibus):                  0.000   Jarque-Bera (JB):              397.265\n",
      "Skew:                           1.351   Prob(JB):                     5.43e-87\n",
      "Kurtosis:                       5.301   Cond. No.                         254.\n",
      "==============================================================================\n",
      "\n",
      "Notes:\n",
      "[1] Standard Errors assume that the covariance matrix of the errors is correctly specified.\n"
     ]
    }
   ],
   "source": [
    "\"\"\" # BEGIN PROMPT\n",
    "...\n",
    "\"\"\" # END PROMPT\n",
    "# BEGIN SOLUTION NO PROMPT\n",
    "\n",
    "# Define your independent variables, including the interaction term\n",
    "X = dd_df[['Treatment', 'Post', 'Treatment_Post', 'Hours.Opening', 'Fries', 'Soda']]\n",
    "\n",
    "\n",
    "# Add a constant to the model (the intercept)\n",
    "X = sm.add_constant(X)\n",
    "\n",
    "# Create the OLS model\n",
    "model = sm.OLS(Y, X)\n",
    "\n",
    "\n",
    "# Fit the model\n",
    "results = model.fit()\n",
    "\n",
    "# Print the summary of the model\n",
    "print(results.summary())\n",
    "# END SOLUTION"
   ]
  },
  {
   "cell_type": "raw",
   "id": "53b0dd70-2054-49b6-b3fa-4dd096b060de",
   "metadata": {},
   "source": [
    "# END SOLUTION"
   ]
  },
  {
   "cell_type": "raw",
   "id": "4c8606a3-566d-48b2-b3e0-b00ac97fd566",
   "metadata": {},
   "source": [
    "# BEGIN TESTS"
   ]
  },
  {
   "cell_type": "code",
   "execution_count": 256,
   "id": "f6dd7fb9-467c-4085-8985-f3474310fb52",
   "metadata": {
    "tags": []
   },
   "outputs": [],
   "source": [
    "# Expected coefficients and their details\n",
    "expected_coefficients = {\n",
    "    'const': {'coef': 1.2470, 'se': 3.451, 'ci_lower': -5.528, 'ci_upper': 8.022},\n",
    "    'Treatment': {'coef': -2.9825, 'se': 1.056, 'ci_lower': -5.055, 'ci_upper': -0.910},\n",
    "    'Post': {'coef': -1.4365, 'se': 1.300, 'ci_lower': -3.989, 'ci_upper': 1.116},\n",
    "    'Treatment_Post': {'coef': 4.1275, 'se': 1.435, 'ci_lower': 1.311, 'ci_upper': 6.944},\n",
    "    'Hours.Opening': {'coef': 0.5209, 'se': 0.071, 'ci_lower': 0.382, 'ci_upper': 0.659},\n",
    "    'Fries': {'coef': -0.3659, 'se': 3.549, 'ci_lower': -7.333, 'ci_upper': 6.602},\n",
    "    'Soda': {'coef': 2.0506, 'se': 4.222, 'ci_lower': -6.238, 'ci_upper': 10.339},\n",
    "}\n",
    "\n",
    "# Tolerance for comparing floating point numbers, consider adjusting based on the precision you need\n",
    "tolerance = 1e-3\n",
    "\n",
    "# Checking coefficients, standard errors, and confidence intervals with adjusted tolerance\n",
    "for var, expected in expected_coefficients.items():\n",
    "    coef, se = results.params[var], results.bse[var]\n",
    "    ci_lower, ci_upper = results.conf_int().loc[var]\n",
    "\n",
    "    assert abs(coef - expected['coef']) < tolerance, f\"Coefficient for {var} is incorrect: expected {expected['coef']}, got {coef}\"\n",
    "    assert abs(se - expected['se']) < tolerance, f\"Standard error for {var} is incorrect: expected {expected['se']}, got {se}\"\n",
    "    assert abs(ci_lower - expected['ci_lower']) < tolerance, f\"Lower CI for {var} is incorrect: expected {expected['ci_lower']}, got {ci_lower}\"\n",
    "    assert abs(ci_upper - expected['ci_upper']) < tolerance, f\"Upper CI for {var} is incorrect: expected {expected['ci_upper']}, got {ci_upper}\"\n"
   ]
  },
  {
   "cell_type": "raw",
   "id": "5ec89879-b497-42a9-a9e7-c93599e52c40",
   "metadata": {},
   "source": [
    "# END TESTS"
   ]
  },
  {
   "cell_type": "raw",
   "id": "0fb0dd39-49d3-474f-ad20-c50b62dee83c",
   "metadata": {},
   "source": [
    "# END QUESTION"
   ]
  },
  {
   "cell_type": "raw",
   "id": "698bbfd5-7ae1-4b72-afd8-ce30b148bb60",
   "metadata": {
    "tags": []
   },
   "source": [
    "# BEGIN QUESTION\n",
    "name: q3_8\n",
    "points: 2\n",
    "manual: true"
   ]
  },
  {
   "cell_type": "markdown",
   "id": "87f3171d-0644-42e8-be5d-003e548e70b6",
   "metadata": {},
   "source": [
    "**Question 3.8:** Controlling for opening hours, and prices of soda & fries - What is the diff-in-diff estimator for the impact on introducing a minimum wage in New Jersey? Remember to include units and give a brief interpretation of our findings following the SSS framework from above. Be sure to mention how your $R^2$ changed, and it's practical implications. "
   ]
  },
  {
   "cell_type": "raw",
   "id": "39a03aa8-aa40-4e5e-bc16-09f490ad6c98",
   "metadata": {},
   "source": [
    "# BEGIN SOLUTION"
   ]
  },
  {
   "cell_type": "markdown",
   "id": "8c3067ac-7ed5-4bc2-86bf-a82d34d47634",
   "metadata": {},
   "source": [
    "<div class=\"alert alert-block alert-danger\">\n",
    "\n",
    "<b>SOLUTION:</b>\n",
    "    \n",
    "### Long answer:\n",
    "\n",
    "- **Treatment_Post Coefficient**: The diff-in-diff estimator, represented by the `Treatment_Post` coefficient, is 4.1275. This implies that, controlling for opening hours, and the prices of soda and fries, the introduction of a minimum wage in New Jersey increased the number of employees by approximately 4.13 units (employees) in the treatment group relative to the control group.\n",
    "- **R-squared**: The R-squared value increased to 0.088 from the previous model. This indicates that our model, including the control variables for opening hours, soda prices, and fries prices, explains 8.8% of the variability in employment levels, an improvement from the earlier model.\n",
    "\n",
    "### Interpretation Following the SSS Framework\n",
    "\n",
    "1. **Sign**: \n",
    "   - The positive sign of the `Treatment_Post` coefficient is consistent with the hypothesis that the introduction of a minimum wage had a positive impact on employment in New Jersey fast-food chains, after controlling for other factors.\n",
    "   \n",
    "2. **Significance**: \n",
    "   - The `Treatment_Post` interaction is statistically significant (p-value = 0.004), indicating a robust difference-in-differences estimate. This suggests that the observed effect is unlikely to be due to random chance.\n",
    "   \n",
    "3. **Size**:\n",
    "   - The effect size of 4.13 employees is economically meaningful, especially in the context of small fast-food establishments. This suggests that the policy change had a tangible impact on employment levels.\n",
    "\n",
    "### Practical Implications of the R-squared Change\n",
    "\n",
    "- The increase in R-squared, while modest, indicates that including control variables such as opening hours, and the prices of soda and fries, enhances our model's explanatory power. It suggests that these factors also influence employment levels and should be considered when analyzing the impact of policy changes on employment.\n",
    "- Despite the improvement, the R-squared value remains relatively low, indicating that other unobserved factors not included in the model may also significantly influence employment. This highlights the importance of considering additional variables and potential confounders in future analyses.\n",
    "\n",
    "In summary, our findings suggest a positive impact of the minimum wage introduction in New Jersey on employment levels in fast-food chains, after controlling for opening hours and product prices. The increased R-squared value underscores the relevance of these control variables to the analysis, though it also points to the need for a broader investigation into other influencing factors.\n",
    "</div>"
   ]
  },
  {
   "cell_type": "raw",
   "id": "baf41d2d-7286-4726-aa3d-928d1d631e82",
   "metadata": {},
   "source": [
    "# END SOLUTION"
   ]
  },
  {
   "cell_type": "raw",
   "id": "517886b3-1cac-4692-9d5a-feeeefb42a5b",
   "metadata": {},
   "source": [
    "# END QUESTION"
   ]
  },
  {
   "cell_type": "markdown",
   "id": "2c174483-9e8b-43ce-b3de-ba8f9f524737",
   "metadata": {},
   "source": [
    "## Part 4: Visualizing the diff-in-diff estimator"
   ]
  },
  {
   "cell_type": "markdown",
   "id": "2d58ea61-73e3-4959-8ef2-f41867505964",
   "metadata": {},
   "source": [
    "Below, we plot the difference in difference estimates from question 3.5 and embark on a visual interpretation of our findings."
   ]
  },
  {
   "cell_type": "code",
   "execution_count": 257,
   "id": "ea0e2830-41e0-4c2b-8c40-b376414f6ab2",
   "metadata": {
    "tags": []
   },
   "outputs": [
    {
     "data": {
      "image/png": "[encoded data removed]",
      "text/plain": [
       "<Figure size 1400x700 with 1 Axes>"
      ]
     },
     "metadata": {},
     "output_type": "display_data"
    }
   ],
   "source": [
    "# First, calculate mean employment by group and time\n",
    "mean_empl = dd_df.groupby(['Treatment', 'Post'])['Empl'].mean().reset_index()\n",
    "\n",
    "# Now, plot these averages with lines to show the change from pre to post for each group\n",
    "plt.figure(figsize=(14, 7))\n",
    "sns.lineplot(x='Post', y='Empl', hue='Treatment', data=mean_empl, marker='o', palette='viridis', ci=None)\n",
    "\n",
    "plt.title('Difference-in-Differences: Employment Pre and Post Treatment')\n",
    "plt.xlabel('Period (0 = Pre-Treatment, 1 = Post-Treatment)')\n",
    "plt.ylabel('Average Employment')\n",
    "plt.xticks(ticks=[0, 1], labels=['Pre-Treatment', 'Post-Treatment'])\n",
    "plt.legend(title='Group / State', labels=['Control / PA', 'Treatment / NJ'])\n",
    "\n",
    "# Adding annotations for clarity\n",
    "for line in range(mean_empl.shape[0]):\n",
    "    plt.text(mean_empl.Post[line]+0.02, mean_empl.Empl[line], \n",
    "             f\"{mean_empl.Empl[line]:.2f}\", horizontalalignment='left', \n",
    "             size='medium', color='black', weight='semibold')\n",
    "\n",
    "plt.tight_layout()\n",
    "plt.show();"
   ]
  },
  {
   "cell_type": "raw",
   "id": "691204b7-5096-4f3b-a2ec-b7edf396029c",
   "metadata": {},
   "source": [
    "# BEGIN QUESTION\n",
    "name: q4_1\n",
    "points: 1"
   ]
  },
  {
   "cell_type": "markdown",
   "id": "02090ee3-1150-4d79-91ad-d6fd7a0562e4",
   "metadata": {
    "tags": []
   },
   "source": [
    "**Question 4.1:** Now, let's make sure we can visually interpret our findings. Use the regression output numbers below and match them to the appropriate regression equation.\n",
    "\n",
    "**Equations:**\n",
    "\n",
    "a) $const$\n",
    "\n",
    "b) $const + \\text{Treatment}$\n",
    "\n",
    "c) $const + \\text{Post}$\n",
    "\n",
    "d) $const + \\text{Treatment} + \\text{Post} + \\text{Treatment_Post}$\n",
    "\n",
    "**Regression Numbers:**\n",
    "\n",
    "1. $10.44$\n",
    "2. $7.59$\n",
    "3. $7.75$\n",
    "4. $8.49$\n"
   ]
  },
  {
   "cell_type": "raw",
   "id": "e6174ddf-dd4f-437c-a912-a33c8c6ac07f",
   "metadata": {},
   "source": [
    "# BEGIN SOLUTION"
   ]
  },
  {
   "cell_type": "code",
   "execution_count": 258,
   "id": "f2340181-359a-43a0-baf3-49f9fa2ca7c7",
   "metadata": {
    "tags": []
   },
   "outputs": [],
   "source": [
    "\"\"\" # BEGIN PROMPT\n",
    "\n",
    "a = ...\n",
    "b = ...\n",
    "c = ...\n",
    "d = ...\n",
    "\n",
    "\n",
    "\"\"\" # END PROMPT\n",
    "# BEGIN SOLUTION NO PROMPT\n",
    "a = 10.44\n",
    "b = 7.59\n",
    "c = 7.75\n",
    "d = 8.49\n",
    "# END SOLUTION\n"
   ]
  },
  {
   "cell_type": "raw",
   "id": "93c9bc0c-106f-4eaf-b06b-63d4cda56e1b",
   "metadata": {},
   "source": [
    "# END SOLUTION"
   ]
  },
  {
   "cell_type": "raw",
   "id": "90c5a209-e467-4259-9898-c67b2ec20e60",
   "metadata": {},
   "source": [
    "# BEGIN TESTS"
   ]
  },
  {
   "cell_type": "code",
   "execution_count": 259,
   "id": "db6c7fcb-3af7-4c08-8cdb-1504fdd86df3",
   "metadata": {
    "tags": []
   },
   "outputs": [],
   "source": [
    "assert np.isclose(np.mean([a, b]), 9.015)\n",
    "assert np.isclose(np.mean([b, c]), 7.67)\n",
    "assert np.isclose(np.mean([c, d]), 8.120000000000001)"
   ]
  },
  {
   "cell_type": "raw",
   "id": "f50c74b2-f3ee-4fb1-bd2b-de3d53e869a2",
   "metadata": {},
   "source": [
    "# END TESTS"
   ]
  },
  {
   "cell_type": "raw",
   "id": "a901a9dd-befc-4ac6-b7fb-e43a6cde10d1",
   "metadata": {},
   "source": [
    "# END QUESTION"
   ]
  },
  {
   "cell_type": "raw",
   "id": "701c82cc-d1c2-44ee-b495-8f5497173b45",
   "metadata": {
    "tags": []
   },
   "source": [
    "# BEGIN QUESTION\n",
    "name: q4_2\n",
    "points: 1"
   ]
  },
  {
   "cell_type": "markdown",
   "id": "b15014ae-efcb-44aa-a4de-32768a1348b8",
   "metadata": {},
   "source": [
    "**Question 4.2:** Using the numbers from the visualization above, calculate the difference in difference estimate. It should match your estimate from question 3.5."
   ]
  },
  {
   "cell_type": "raw",
   "id": "14911c54-62c3-4d3c-94d9-b1c6ee627c34",
   "metadata": {},
   "source": [
    "# BEGIN SOLUTION"
   ]
  },
  {
   "cell_type": "code",
   "execution_count": 262,
   "id": "b7925cf8-17e2-4fa3-8b0a-04368a369a43",
   "metadata": {
    "tags": []
   },
   "outputs": [
    {
     "data": {
      "text/plain": [
       "3.5700000000000003"
      ]
     },
     "execution_count": 262,
     "metadata": {},
     "output_type": "execute_result"
    }
   ],
   "source": [
    "\"\"\" # BEGIN PROMPT\n",
    "DD_estimate = ...\n",
    "DD_estimate\n",
    "\"\"\" # END PROMPT\n",
    "# BEGIN SOLUTION NO PROMPT\n",
    "DD_estimate = (8.47 - 7.59) - (7.75-10.44)\n",
    "DD_estimate\n",
    "# END SOLUTION"
   ]
  },
  {
   "cell_type": "raw",
   "id": "5d0ff6e5-0093-4128-b2f4-1d309f615069",
   "metadata": {},
   "source": [
    "# END SOLUTION"
   ]
  },
  {
   "cell_type": "raw",
   "id": "d767deb7-8e23-4368-ba15-4415de23f6e8",
   "metadata": {},
   "source": [
    "# BEGIN TESTS"
   ]
  },
  {
   "cell_type": "code",
   "execution_count": 263,
   "id": "e211efbe-1f93-4c13-97cc-4b2154c0a428",
   "metadata": {
    "tags": []
   },
   "outputs": [],
   "source": [
    "assert np.isclose(DD_estimate, 3.5708, 0.001)"
   ]
  },
  {
   "cell_type": "raw",
   "id": "7eb373cc-1289-45eb-839a-9382687b1d1e",
   "metadata": {},
   "source": [
    "# END TESTS"
   ]
  },
  {
   "cell_type": "raw",
   "id": "363e9867-c9e4-494e-9c6f-e8a538659fff",
   "metadata": {},
   "source": [
    "# END QUESTION"
   ]
  },
  {
   "cell_type": "raw",
   "id": "0d5b4ea0-157c-4b03-ace1-d5b42a3b0df7",
   "metadata": {},
   "source": [
    "# BEGIN QUESTION\n",
    "name: q4_3\n",
    "points: 1\n",
    "manual: true"
   ]
  },
  {
   "cell_type": "markdown",
   "id": "b08a7af2-f6e3-41de-b308-fc0cb97d73c9",
   "metadata": {},
   "source": [
    "**Question 4.3:** Looking back to your response to question 1.1 and the plot from above, what is a central piece of evidence we're lacking from dataset that would strengthen the validity of our diff-in-diff analysis?"
   ]
  },
  {
   "cell_type": "raw",
   "id": "ff3e65c2-60cd-43a6-b636-5c211cdf21df",
   "metadata": {},
   "source": [
    "# BEGIN SOLUTION"
   ]
  },
  {
   "cell_type": "markdown",
   "id": "e59ad15c-a472-4433-81cd-56329be4b2ce",
   "metadata": {},
   "source": [
    "<div class=\"alert alert-block alert-danger\">\n",
    "\n",
    "<b>SOLUTION:</b>More data back in time for each state to support our parallell trends assumption.</div>"
   ]
  },
  {
   "cell_type": "raw",
   "id": "c76e13af-724a-4c04-a0f6-6bfc044f61b9",
   "metadata": {},
   "source": [
    "# END SOLUTION"
   ]
  },
  {
   "cell_type": "raw",
   "id": "cd6a7d4e-719c-4dc8-aab0-6dcec4bb5974",
   "metadata": {},
   "source": [
    "# END QUESTION"
   ]
  },
  {
   "cell_type": "markdown",
   "id": "80bba1f9-f4dc-4575-bc45-3611cb3b44f4",
   "metadata": {},
   "source": [
    "### Conclusion\n",
    "Congratulations, you have finished lab 7! We hope you enjoyed the lab - you're one step closer in becoming a master replicator of economics papers...\n",
    "\n",
    "Have a great week(end)!\n",
    "\n",
    "Peter.\n"
   ]
  },
  {
   "cell_type": "markdown",
   "id": "609a43b4-caf7-4330-bfb3-c3730878002e",
   "metadata": {
    "tags": []
   },
   "source": [
    "---\n",
    "## Feedback"
   ]
  },
  {
   "cell_type": "code",
   "execution_count": null,
   "id": "bb16c287-36d4-4400-9c15-7977b02b73fb",
   "metadata": {},
   "outputs": [],
   "source": []
  },
  {
   "cell_type": "markdown",
   "id": "4eea028d-923e-47fe-8df5-a59fd27653be",
   "metadata": {
    "tags": []
   },
   "source": [
    "---\n",
    "## Sources\n",
    "\n",
    "*FOUNDATIONS OF PROGRAM EVALUATION III REGRESSION TOOLS FOR CAUSAL ANALYSIS* by Data Science for \n",
    "Public Service (https://ds4ps.org/PROG-EVAL-III/index.html), retrieved 22 Feb 2024."
   ]
  },
  {
   "cell_type": "markdown",
   "id": "c2f74111-f8b5-4827-9d8d-5c7031cfd151",
   "metadata": {},
   "source": [
    "This notebook will use credit card default data from Taiwan. You can find the original data and a description of the data [here.](https://archive.ics.uci.edu/dataset/350/default+of+credit+card+clients)"
   ]
  },
  {
   "cell_type": "code",
   "execution_count": null,
   "id": "809412df-b451-440f-9fb3-440a1794a8bf",
   "metadata": {
    "tags": []
   },
   "outputs": [
    {
     "data": {
      "text/html": [
       "<div>\n",
       "<style scoped>\n",
       "    .dataframe tbody tr th:only-of-type {\n",
       "        vertical-align: middle;\n",
       "    }\n",
       "\n",
       "    .dataframe tbody tr th {\n",
       "        vertical-align: top;\n",
       "    }\n",
       "\n",
       "    .dataframe thead th {\n",
       "        text-align: right;\n",
       "    }\n",
       "</style>\n",
       "<table border=\"1\" class=\"dataframe\">\n",
       "  <thead>\n",
       "    <tr style=\"text-align: right;\">\n",
       "      <th></th>\n",
       "      <th>Unnamed: 0</th>\n",
       "      <th>X1</th>\n",
       "      <th>X2</th>\n",
       "      <th>X3</th>\n",
       "      <th>X4</th>\n",
       "      <th>X5</th>\n",
       "      <th>X6</th>\n",
       "      <th>X7</th>\n",
       "      <th>X8</th>\n",
       "      <th>X9</th>\n",
       "      <th>...</th>\n",
       "      <th>X15</th>\n",
       "      <th>X16</th>\n",
       "      <th>X17</th>\n",
       "      <th>X18</th>\n",
       "      <th>X19</th>\n",
       "      <th>X20</th>\n",
       "      <th>X21</th>\n",
       "      <th>X22</th>\n",
       "      <th>X23</th>\n",
       "      <th>Y</th>\n",
       "    </tr>\n",
       "  </thead>\n",
       "  <tbody>\n",
       "    <tr>\n",
       "      <th>0</th>\n",
       "      <td>ID</td>\n",
       "      <td>LIMIT_BAL</td>\n",
       "      <td>SEX</td>\n",
       "      <td>EDUCATION</td>\n",
       "      <td>MARRIAGE</td>\n",
       "      <td>AGE</td>\n",
       "      <td>PAY_0</td>\n",
       "      <td>PAY_2</td>\n",
       "      <td>PAY_3</td>\n",
       "      <td>PAY_4</td>\n",
       "      <td>...</td>\n",
       "      <td>BILL_AMT4</td>\n",
       "      <td>BILL_AMT5</td>\n",
       "      <td>BILL_AMT6</td>\n",
       "      <td>PAY_AMT1</td>\n",
       "      <td>PAY_AMT2</td>\n",
       "      <td>PAY_AMT3</td>\n",
       "      <td>PAY_AMT4</td>\n",
       "      <td>PAY_AMT5</td>\n",
       "      <td>PAY_AMT6</td>\n",
       "      <td>default payment next month</td>\n",
       "    </tr>\n",
       "    <tr>\n",
       "      <th>1</th>\n",
       "      <td>1</td>\n",
       "      <td>20000</td>\n",
       "      <td>2</td>\n",
       "      <td>2</td>\n",
       "      <td>1</td>\n",
       "      <td>24</td>\n",
       "      <td>2</td>\n",
       "      <td>2</td>\n",
       "      <td>-1</td>\n",
       "      <td>-1</td>\n",
       "      <td>...</td>\n",
       "      <td>0</td>\n",
       "      <td>0</td>\n",
       "      <td>0</td>\n",
       "      <td>0</td>\n",
       "      <td>689</td>\n",
       "      <td>0</td>\n",
       "      <td>0</td>\n",
       "      <td>0</td>\n",
       "      <td>0</td>\n",
       "      <td>1</td>\n",
       "    </tr>\n",
       "    <tr>\n",
       "      <th>2</th>\n",
       "      <td>2</td>\n",
       "      <td>120000</td>\n",
       "      <td>2</td>\n",
       "      <td>2</td>\n",
       "      <td>2</td>\n",
       "      <td>26</td>\n",
       "      <td>-1</td>\n",
       "      <td>2</td>\n",
       "      <td>0</td>\n",
       "      <td>0</td>\n",
       "      <td>...</td>\n",
       "      <td>3272</td>\n",
       "      <td>3455</td>\n",
       "      <td>3261</td>\n",
       "      <td>0</td>\n",
       "      <td>1000</td>\n",
       "      <td>1000</td>\n",
       "      <td>1000</td>\n",
       "      <td>0</td>\n",
       "      <td>2000</td>\n",
       "      <td>1</td>\n",
       "    </tr>\n",
       "    <tr>\n",
       "      <th>3</th>\n",
       "      <td>3</td>\n",
       "      <td>90000</td>\n",
       "      <td>2</td>\n",
       "      <td>2</td>\n",
       "      <td>2</td>\n",
       "      <td>34</td>\n",
       "      <td>0</td>\n",
       "      <td>0</td>\n",
       "      <td>0</td>\n",
       "      <td>0</td>\n",
       "      <td>...</td>\n",
       "      <td>14331</td>\n",
       "      <td>14948</td>\n",
       "      <td>15549</td>\n",
       "      <td>1518</td>\n",
       "      <td>1500</td>\n",
       "      <td>1000</td>\n",
       "      <td>1000</td>\n",
       "      <td>1000</td>\n",
       "      <td>5000</td>\n",
       "      <td>0</td>\n",
       "    </tr>\n",
       "  </tbody>\n",
       "</table>\n",
       "<p>4 rows × 25 columns</p>\n",
       "</div>"
      ],
      "text/plain": [
       "  Unnamed: 0         X1   X2         X3        X4   X5     X6     X7     X8  \\\n",
       "0         ID  LIMIT_BAL  SEX  EDUCATION  MARRIAGE  AGE  PAY_0  PAY_2  PAY_3   \n",
       "1          1      20000    2          2         1   24      2      2     -1   \n",
       "2          2     120000    2          2         2   26     -1      2      0   \n",
       "3          3      90000    2          2         2   34      0      0      0   \n",
       "\n",
       "      X9  ...        X15        X16        X17       X18       X19       X20  \\\n",
       "0  PAY_4  ...  BILL_AMT4  BILL_AMT5  BILL_AMT6  PAY_AMT1  PAY_AMT2  PAY_AMT3   \n",
       "1     -1  ...          0          0          0         0       689         0   \n",
       "2      0  ...       3272       3455       3261         0      1000      1000   \n",
       "3      0  ...      14331      14948      15549      1518      1500      1000   \n",
       "\n",
       "        X21       X22       X23                           Y  \n",
       "0  PAY_AMT4  PAY_AMT5  PAY_AMT6  default payment next month  \n",
       "1         0         0         0                           1  \n",
       "2      1000         0      2000                           1  \n",
       "3      1000      1000      5000                           0  \n",
       "\n",
       "[4 rows x 25 columns]"
      ]
     },
     "execution_count": 11,
     "metadata": {},
     "output_type": "execute_result"
    }
   ],
   "source": [
    "data = pd.read_excel(\"data/credit_card_defaults.xls\")\n",
    "data.head(4)"
   ]
  },
  {
   "cell_type": "markdown",
   "id": "72f2abdc-cbc4-408f-852f-7f0ba25a23d8",
   "metadata": {},
   "source": [
    "### Cleaning the Dataset"
   ]
  },
  {
   "cell_type": "markdown",
   "id": "76cd57a9-bc45-4f47-b4aa-f68ee7c33914",
   "metadata": {},
   "source": [
    "You might have noted that the first column and the first row of our original data look a little funky. In the next few cells, we remedy this by dropping the column \"Unnamed: 0\" and replacing the current column names with the values in the first row.\n",
    "\n",
    "First, we drop the first column, which was the original index."
   ]
  },
  {
   "cell_type": "code",
   "execution_count": null,
   "id": "32121453-c30b-49c4-9913-151120a248c9",
   "metadata": {
    "tags": []
   },
   "outputs": [
    {
     "data": {
      "text/html": [
       "<div>\n",
       "<style scoped>\n",
       "    .dataframe tbody tr th:only-of-type {\n",
       "        vertical-align: middle;\n",
       "    }\n",
       "\n",
       "    .dataframe tbody tr th {\n",
       "        vertical-align: top;\n",
       "    }\n",
       "\n",
       "    .dataframe thead th {\n",
       "        text-align: right;\n",
       "    }\n",
       "</style>\n",
       "<table border=\"1\" class=\"dataframe\">\n",
       "  <thead>\n",
       "    <tr style=\"text-align: right;\">\n",
       "      <th></th>\n",
       "      <th>X1</th>\n",
       "      <th>X2</th>\n",
       "      <th>X3</th>\n",
       "      <th>X4</th>\n",
       "      <th>X5</th>\n",
       "      <th>X6</th>\n",
       "      <th>X7</th>\n",
       "      <th>X8</th>\n",
       "      <th>X9</th>\n",
       "      <th>X10</th>\n",
       "      <th>...</th>\n",
       "      <th>X15</th>\n",
       "      <th>X16</th>\n",
       "      <th>X17</th>\n",
       "      <th>X18</th>\n",
       "      <th>X19</th>\n",
       "      <th>X20</th>\n",
       "      <th>X21</th>\n",
       "      <th>X22</th>\n",
       "      <th>X23</th>\n",
       "      <th>Y</th>\n",
       "    </tr>\n",
       "  </thead>\n",
       "  <tbody>\n",
       "    <tr>\n",
       "      <th>0</th>\n",
       "      <td>LIMIT_BAL</td>\n",
       "      <td>SEX</td>\n",
       "      <td>EDUCATION</td>\n",
       "      <td>MARRIAGE</td>\n",
       "      <td>AGE</td>\n",
       "      <td>PAY_0</td>\n",
       "      <td>PAY_2</td>\n",
       "      <td>PAY_3</td>\n",
       "      <td>PAY_4</td>\n",
       "      <td>PAY_5</td>\n",
       "      <td>...</td>\n",
       "      <td>BILL_AMT4</td>\n",
       "      <td>BILL_AMT5</td>\n",
       "      <td>BILL_AMT6</td>\n",
       "      <td>PAY_AMT1</td>\n",
       "      <td>PAY_AMT2</td>\n",
       "      <td>PAY_AMT3</td>\n",
       "      <td>PAY_AMT4</td>\n",
       "      <td>PAY_AMT5</td>\n",
       "      <td>PAY_AMT6</td>\n",
       "      <td>default payment next month</td>\n",
       "    </tr>\n",
       "    <tr>\n",
       "      <th>1</th>\n",
       "      <td>20000</td>\n",
       "      <td>2</td>\n",
       "      <td>2</td>\n",
       "      <td>1</td>\n",
       "      <td>24</td>\n",
       "      <td>2</td>\n",
       "      <td>2</td>\n",
       "      <td>-1</td>\n",
       "      <td>-1</td>\n",
       "      <td>-2</td>\n",
       "      <td>...</td>\n",
       "      <td>0</td>\n",
       "      <td>0</td>\n",
       "      <td>0</td>\n",
       "      <td>0</td>\n",
       "      <td>689</td>\n",
       "      <td>0</td>\n",
       "      <td>0</td>\n",
       "      <td>0</td>\n",
       "      <td>0</td>\n",
       "      <td>1</td>\n",
       "    </tr>\n",
       "  </tbody>\n",
       "</table>\n",
       "<p>2 rows × 24 columns</p>\n",
       "</div>"
      ],
      "text/plain": [
       "          X1   X2         X3        X4   X5     X6     X7     X8     X9  \\\n",
       "0  LIMIT_BAL  SEX  EDUCATION  MARRIAGE  AGE  PAY_0  PAY_2  PAY_3  PAY_4   \n",
       "1      20000    2          2         1   24      2      2     -1     -1   \n",
       "\n",
       "     X10  ...        X15        X16        X17       X18       X19       X20  \\\n",
       "0  PAY_5  ...  BILL_AMT4  BILL_AMT5  BILL_AMT6  PAY_AMT1  PAY_AMT2  PAY_AMT3   \n",
       "1     -2  ...          0          0          0         0       689         0   \n",
       "\n",
       "        X21       X22       X23                           Y  \n",
       "0  PAY_AMT4  PAY_AMT5  PAY_AMT6  default payment next month  \n",
       "1         0         0         0                           1  \n",
       "\n",
       "[2 rows x 24 columns]"
      ]
     },
     "execution_count": 12,
     "metadata": {},
     "output_type": "execute_result"
    }
   ],
   "source": [
    "# drop the first column\n",
    "clean = data.drop(\"Unnamed: 0\", axis=1, inplace=False)\n",
    "clean.head(2)"
   ]
  },
  {
   "cell_type": "markdown",
   "id": "b6359265-f1df-43ba-8c97-9a6233b510f6",
   "metadata": {},
   "source": [
    "Then, we can collect all of the variable names in the first row and drop the row."
   ]
  },
  {
   "cell_type": "code",
   "execution_count": null,
   "id": "8d37562a-d788-445b-9cb4-f559c8e347b5",
   "metadata": {
    "tags": []
   },
   "outputs": [
    {
     "name": "stdout",
     "output_type": "stream",
     "text": [
      "Some Keys:  ['X1', 'X2', 'X3', 'X4', 'X5']\n",
      "Some Values:  ['LIMIT_BAL', 'SEX', 'EDUCATION', 'MARRIAGE', 'AGE']\n"
     ]
    },
    {
     "data": {
      "text/html": [
       "<div>\n",
       "<style scoped>\n",
       "    .dataframe tbody tr th:only-of-type {\n",
       "        vertical-align: middle;\n",
       "    }\n",
       "\n",
       "    .dataframe tbody tr th {\n",
       "        vertical-align: top;\n",
       "    }\n",
       "\n",
       "    .dataframe thead th {\n",
       "        text-align: right;\n",
       "    }\n",
       "</style>\n",
       "<table border=\"1\" class=\"dataframe\">\n",
       "  <thead>\n",
       "    <tr style=\"text-align: right;\">\n",
       "      <th></th>\n",
       "      <th>X1</th>\n",
       "      <th>X2</th>\n",
       "      <th>X3</th>\n",
       "      <th>X4</th>\n",
       "      <th>X5</th>\n",
       "      <th>X6</th>\n",
       "      <th>X7</th>\n",
       "      <th>X8</th>\n",
       "      <th>X9</th>\n",
       "      <th>X10</th>\n",
       "      <th>...</th>\n",
       "      <th>X15</th>\n",
       "      <th>X16</th>\n",
       "      <th>X17</th>\n",
       "      <th>X18</th>\n",
       "      <th>X19</th>\n",
       "      <th>X20</th>\n",
       "      <th>X21</th>\n",
       "      <th>X22</th>\n",
       "      <th>X23</th>\n",
       "      <th>Y</th>\n",
       "    </tr>\n",
       "  </thead>\n",
       "  <tbody>\n",
       "    <tr>\n",
       "      <th>1</th>\n",
       "      <td>20000</td>\n",
       "      <td>2</td>\n",
       "      <td>2</td>\n",
       "      <td>1</td>\n",
       "      <td>24</td>\n",
       "      <td>2</td>\n",
       "      <td>2</td>\n",
       "      <td>-1</td>\n",
       "      <td>-1</td>\n",
       "      <td>-2</td>\n",
       "      <td>...</td>\n",
       "      <td>0</td>\n",
       "      <td>0</td>\n",
       "      <td>0</td>\n",
       "      <td>0</td>\n",
       "      <td>689</td>\n",
       "      <td>0</td>\n",
       "      <td>0</td>\n",
       "      <td>0</td>\n",
       "      <td>0</td>\n",
       "      <td>1</td>\n",
       "    </tr>\n",
       "    <tr>\n",
       "      <th>2</th>\n",
       "      <td>120000</td>\n",
       "      <td>2</td>\n",
       "      <td>2</td>\n",
       "      <td>2</td>\n",
       "      <td>26</td>\n",
       "      <td>-1</td>\n",
       "      <td>2</td>\n",
       "      <td>0</td>\n",
       "      <td>0</td>\n",
       "      <td>0</td>\n",
       "      <td>...</td>\n",
       "      <td>3272</td>\n",
       "      <td>3455</td>\n",
       "      <td>3261</td>\n",
       "      <td>0</td>\n",
       "      <td>1000</td>\n",
       "      <td>1000</td>\n",
       "      <td>1000</td>\n",
       "      <td>0</td>\n",
       "      <td>2000</td>\n",
       "      <td>1</td>\n",
       "    </tr>\n",
       "  </tbody>\n",
       "</table>\n",
       "<p>2 rows × 24 columns</p>\n",
       "</div>"
      ],
      "text/plain": [
       "       X1 X2 X3 X4  X5  X6 X7  X8  X9 X10  ...   X15   X16   X17 X18   X19  \\\n",
       "1   20000  2  2  1  24   2  2  -1  -1  -2  ...     0     0     0   0   689   \n",
       "2  120000  2  2  2  26  -1  2   0   0   0  ...  3272  3455  3261   0  1000   \n",
       "\n",
       "    X20   X21 X22   X23  Y  \n",
       "1     0     0   0     0  1  \n",
       "2  1000  1000   0  2000  1  \n",
       "\n",
       "[2 rows x 24 columns]"
      ]
     },
     "execution_count": 13,
     "metadata": {},
     "output_type": "execute_result"
    }
   ],
   "source": [
    "# store the values of the first row\n",
    "variables = clean.iloc[0].to_dict()\n",
    "\n",
    "print(\"Some Keys: \", list(variables.keys())[:5])\n",
    "print(\"Some Values: \", list(variables.values())[:5])\n",
    "\n",
    "# drop the first row\n",
    "clean = clean.drop(0, axis=0)\n",
    "clean.head(2)"
   ]
  },
  {
   "cell_type": "markdown",
   "id": "713b7f9d-c815-4ec2-8b3d-eb64fd416dc7",
   "metadata": {
    "tags": []
   },
   "source": [
    "**Question 1.1** Finally, relabel our column names with the variables that were originally in the first row of our data using the `variables` from above."
   ]
  },
  {
   "cell_type": "code",
   "execution_count": null,
   "id": "01c1d1de-3253-4208-9ea3-ae16774be7dc",
   "metadata": {
    "tags": []
   },
   "outputs": [],
   "source": [
    "# BEGIN QUESTION\n",
    "# name: q1_1\n",
    "# points: 2\n",
    "\n",
    "# YOUR CODE HERE\n",
    "# raise NotImplementedError() # Students will replace this line with their solution\n",
    "dictionary = {}\n",
    "\n",
    "for i in range(len(variables)):\n",
    "    dictionary[list(variables.keys())[i]] = list(variables.values())[i]\n",
    "\n",
    "clean = clean.rename(dictionary, axis=1)\n",
    "# END QUESTION\n"
   ]
  },
  {
   "cell_type": "markdown",
   "id": "e5baac75-d326-41ec-b695-20a15c502dbc",
   "metadata": {},
   "source": [
    "### Working with a Subset of Our Data"
   ]
  },
  {
   "cell_type": "markdown",
   "id": "cdcb2a7a-e088-49dd-a24b-19a8a3774a9d",
   "metadata": {},
   "source": [
    "Our dataset looks a little cleaner now. Next, take a look at how many entries are in our dataset. There are a large number of entries, which is great! However, DataHub can only do so much computation, so we'll take a random sample of 10,000 entries for this lab.\n"
   ]
  },
  {
   "cell_type": "code",
   "execution_count": null,
   "id": "f6ec7417-8787-4b8d-a370-eea739b22207",
   "metadata": {
    "tags": []
   },
   "outputs": [
    {
     "data": {
      "text/plain": [
       "30001"
      ]
     },
     "execution_count": 15,
     "metadata": {},
     "output_type": "execute_result"
    }
   ],
   "source": [
    "# look at the number of entries in our dataset\n",
    "data.shape[0]"
   ]
  },
  {
   "cell_type": "raw",
   "id": "64e29367-001a-4586-8b79-92b204efda5d",
   "metadata": {},
   "source": []
  },
  {
   "cell_type": "markdown",
   "id": "b5c12ab7-f48d-4685-ae43-79c69fdafe79",
   "metadata": {},
   "source": [
    "**Question 1.2:** Select a random sample of `n=10000` from our `clean` dataset. Make sure to set `random_state` equal to 42."
   ]
  },
  {
   "cell_type": "code",
   "execution_count": null,
   "id": "fb337d57-9674-4b1d-a313-1ebb532beeed",
   "metadata": {
    "tags": []
   },
   "outputs": [],
   "source": [
    "# BEGIN QUESTION\n",
    "# name: q1_2\n",
    "# points: 1\n",
    "\n",
    "# YOUR CODE HERE\n",
    "# raise NotImplementedError()\n",
    "model_data = clean.sample(n=10000, random_state=42)\n",
    "# END QUESTION\n"
   ]
  },
  {
   "cell_type": "code",
   "execution_count": null,
   "id": "a0080472-2df7-434d-baf5-0832f1579e6f",
   "metadata": {
    "tags": []
   },
   "outputs": [
    {
     "data": {
      "text/html": [
       "<div>\n",
       "<style scoped>\n",
       "    .dataframe tbody tr th:only-of-type {\n",
       "        vertical-align: middle;\n",
       "    }\n",
       "\n",
       "    .dataframe tbody tr th {\n",
       "        vertical-align: top;\n",
       "    }\n",
       "\n",
       "    .dataframe thead th {\n",
       "        text-align: right;\n",
       "    }\n",
       "</style>\n",
       "<table border=\"1\" class=\"dataframe\">\n",
       "  <thead>\n",
       "    <tr style=\"text-align: right;\">\n",
       "      <th></th>\n",
       "      <th>LIMIT_BAL</th>\n",
       "      <th>SEX</th>\n",
       "      <th>EDUCATION</th>\n",
       "      <th>MARRIAGE</th>\n",
       "      <th>AGE</th>\n",
       "      <th>PAY_0</th>\n",
       "      <th>PAY_2</th>\n",
       "      <th>PAY_3</th>\n",
       "      <th>PAY_4</th>\n",
       "      <th>PAY_5</th>\n",
       "      <th>...</th>\n",
       "      <th>BILL_AMT4</th>\n",
       "      <th>BILL_AMT5</th>\n",
       "      <th>BILL_AMT6</th>\n",
       "      <th>PAY_AMT1</th>\n",
       "      <th>PAY_AMT2</th>\n",
       "      <th>PAY_AMT3</th>\n",
       "      <th>PAY_AMT4</th>\n",
       "      <th>PAY_AMT5</th>\n",
       "      <th>PAY_AMT6</th>\n",
       "      <th>default payment next month</th>\n",
       "    </tr>\n",
       "  </thead>\n",
       "  <tbody>\n",
       "    <tr>\n",
       "      <th>2309</th>\n",
       "      <td>30000</td>\n",
       "      <td>1</td>\n",
       "      <td>2</td>\n",
       "      <td>2</td>\n",
       "      <td>25</td>\n",
       "      <td>0</td>\n",
       "      <td>0</td>\n",
       "      <td>0</td>\n",
       "      <td>0</td>\n",
       "      <td>0</td>\n",
       "      <td>...</td>\n",
       "      <td>12580</td>\n",
       "      <td>13716</td>\n",
       "      <td>14828</td>\n",
       "      <td>1500</td>\n",
       "      <td>2000</td>\n",
       "      <td>1500</td>\n",
       "      <td>1500</td>\n",
       "      <td>1500</td>\n",
       "      <td>2000</td>\n",
       "      <td>0</td>\n",
       "    </tr>\n",
       "    <tr>\n",
       "      <th>22405</th>\n",
       "      <td>150000</td>\n",
       "      <td>2</td>\n",
       "      <td>1</td>\n",
       "      <td>2</td>\n",
       "      <td>26</td>\n",
       "      <td>0</td>\n",
       "      <td>0</td>\n",
       "      <td>0</td>\n",
       "      <td>0</td>\n",
       "      <td>0</td>\n",
       "      <td>...</td>\n",
       "      <td>101581</td>\n",
       "      <td>77741</td>\n",
       "      <td>77264</td>\n",
       "      <td>4486</td>\n",
       "      <td>4235</td>\n",
       "      <td>3161</td>\n",
       "      <td>2647</td>\n",
       "      <td>2669</td>\n",
       "      <td>2669</td>\n",
       "      <td>0</td>\n",
       "    </tr>\n",
       "    <tr>\n",
       "      <th>23398</th>\n",
       "      <td>70000</td>\n",
       "      <td>2</td>\n",
       "      <td>3</td>\n",
       "      <td>1</td>\n",
       "      <td>32</td>\n",
       "      <td>0</td>\n",
       "      <td>0</td>\n",
       "      <td>0</td>\n",
       "      <td>0</td>\n",
       "      <td>0</td>\n",
       "      <td>...</td>\n",
       "      <td>69753</td>\n",
       "      <td>70111</td>\n",
       "      <td>70212</td>\n",
       "      <td>2431</td>\n",
       "      <td>3112</td>\n",
       "      <td>3000</td>\n",
       "      <td>2438</td>\n",
       "      <td>2500</td>\n",
       "      <td>2554</td>\n",
       "      <td>0</td>\n",
       "    </tr>\n",
       "    <tr>\n",
       "      <th>25059</th>\n",
       "      <td>130000</td>\n",
       "      <td>1</td>\n",
       "      <td>3</td>\n",
       "      <td>2</td>\n",
       "      <td>49</td>\n",
       "      <td>0</td>\n",
       "      <td>0</td>\n",
       "      <td>0</td>\n",
       "      <td>0</td>\n",
       "      <td>0</td>\n",
       "      <td>...</td>\n",
       "      <td>16898</td>\n",
       "      <td>11236</td>\n",
       "      <td>6944</td>\n",
       "      <td>1610</td>\n",
       "      <td>1808</td>\n",
       "      <td>7014</td>\n",
       "      <td>27</td>\n",
       "      <td>7011</td>\n",
       "      <td>4408</td>\n",
       "      <td>0</td>\n",
       "    </tr>\n",
       "    <tr>\n",
       "      <th>2665</th>\n",
       "      <td>50000</td>\n",
       "      <td>2</td>\n",
       "      <td>2</td>\n",
       "      <td>2</td>\n",
       "      <td>36</td>\n",
       "      <td>0</td>\n",
       "      <td>0</td>\n",
       "      <td>0</td>\n",
       "      <td>0</td>\n",
       "      <td>0</td>\n",
       "      <td>...</td>\n",
       "      <td>19574</td>\n",
       "      <td>20295</td>\n",
       "      <td>19439</td>\n",
       "      <td>2000</td>\n",
       "      <td>1500</td>\n",
       "      <td>1000</td>\n",
       "      <td>1800</td>\n",
       "      <td>0</td>\n",
       "      <td>1000</td>\n",
       "      <td>1</td>\n",
       "    </tr>\n",
       "  </tbody>\n",
       "</table>\n",
       "<p>5 rows × 24 columns</p>\n",
       "</div>"
      ],
      "text/plain": [
       "      LIMIT_BAL SEX EDUCATION MARRIAGE AGE PAY_0 PAY_2 PAY_3 PAY_4 PAY_5  ...  \\\n",
       "2309      30000   1         2        2  25     0     0     0     0     0  ...   \n",
       "22405    150000   2         1        2  26     0     0     0     0     0  ...   \n",
       "23398     70000   2         3        1  32     0     0     0     0     0  ...   \n",
       "25059    130000   1         3        2  49     0     0     0     0     0  ...   \n",
       "2665      50000   2         2        2  36     0     0     0     0     0  ...   \n",
       "\n",
       "      BILL_AMT4 BILL_AMT5 BILL_AMT6 PAY_AMT1 PAY_AMT2 PAY_AMT3 PAY_AMT4  \\\n",
       "2309      12580     13716     14828     1500     2000     1500     1500   \n",
       "22405    101581     77741     77264     4486     4235     3161     2647   \n",
       "23398     69753     70111     70212     2431     3112     3000     2438   \n",
       "25059     16898     11236      6944     1610     1808     7014       27   \n",
       "2665      19574     20295     19439     2000     1500     1000     1800   \n",
       "\n",
       "      PAY_AMT5 PAY_AMT6 default payment next month  \n",
       "2309      1500     2000                          0  \n",
       "22405     2669     2669                          0  \n",
       "23398     2500     2554                          0  \n",
       "25059     7011     4408                          0  \n",
       "2665         0     1000                          1  \n",
       "\n",
       "[5 rows x 24 columns]"
      ]
     },
     "execution_count": 18,
     "metadata": {},
     "output_type": "execute_result"
    }
   ],
   "source": [
    "model_data.head()"
   ]
  }
 ],
 "metadata": {
  "kernelspec": {
   "display_name": "Python 3 (ipykernel)",
   "language": "python",
   "name": "python3"
  },
  "language_info": {
   "codemirror_mode": {
    "name": "ipython",
    "version": 3
   },
   "file_extension": ".py",
   "mimetype": "text/x-python",
   "name": "python",
   "nbconvert_exporter": "python",
   "pygments_lexer": "ipython3",
   "version": "3.8.16"
  }
 },
 "nbformat": 4,
 "nbformat_minor": 5
}
