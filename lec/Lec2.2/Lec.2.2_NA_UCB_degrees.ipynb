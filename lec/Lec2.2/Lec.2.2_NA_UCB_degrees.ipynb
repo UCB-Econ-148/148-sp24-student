{
 "cells": [
  {
   "cell_type": "markdown",
   "metadata": {},
   "source": [
    "## Lecture Notebook\n",
    "### UCB Degrees data - repurposing for missing values NaN demo"
   ]
  },
  {
   "cell_type": "code",
   "execution_count": null,
   "metadata": {},
   "outputs": [],
   "source": [
    "import pandas as pd\n",
    "import numpy as np\n",
    "import matplotlib.pyplot as plt\n",
    "import seaborn as sns"
   ]
  },
  {
   "cell_type": "markdown",
   "metadata": {},
   "source": [
    "Data Source - UC Berkeley \"Our Berkeley\" Office of Planning and Analysis\n",
    "\n",
    "[Degree Recipiencts by Major](https://pages.github.berkeley.edu/OPA/our-berkeley/degree-recipients-by-major.html)"
   ]
  },
  {
   "cell_type": "code",
   "execution_count": null,
   "metadata": {},
   "outputs": [],
   "source": [
    "UCBDR= pd.read_csv('UCB Students - Degree Recipients by Major - Degree Recipients by Major.csv')\n",
    "UCBDR"
   ]
  },
  {
   "cell_type": "code",
   "execution_count": null,
   "metadata": {},
   "outputs": [],
   "source": [
    "UCBDR.isna().sum()"
   ]
  },
  {
   "cell_type": "code",
   "execution_count": null,
   "metadata": {},
   "outputs": [],
   "source": [
    "UCBDR.isna().sum(axis=1)"
   ]
  },
  {
   "cell_type": "code",
   "execution_count": null,
   "metadata": {},
   "outputs": [],
   "source": [
    "UCBDR.isna().sum().sum()"
   ]
  },
  {
   "cell_type": "code",
   "execution_count": null,
   "metadata": {},
   "outputs": [],
   "source": [
    "missing_per_row = UCBDR.isna().sum(axis=1)\n",
    "missing_per_row\n"
   ]
  },
  {
   "cell_type": "code",
   "execution_count": null,
   "metadata": {},
   "outputs": [],
   "source": [
    "rows_with_missing = UCBDR[UCBDR.isna().any(axis=1)]\n",
    "rows_with_missing"
   ]
  },
  {
   "cell_type": "code",
   "execution_count": null,
   "metadata": {},
   "outputs": [],
   "source": [
    "rows_to_check=[853,1283]"
   ]
  },
  {
   "cell_type": "code",
   "execution_count": null,
   "metadata": {},
   "outputs": [],
   "source": [
    "UCBDR_zeros = UCBDR.copy()\n",
    "UCBDR_zeros['MajorShort']=UCBDR_zeros['MajorShort'].fillna(0)\n",
    "UCBDR_zeros.iloc[rows_to_check]"
   ]
  },
  {
   "cell_type": "code",
   "execution_count": null,
   "metadata": {},
   "outputs": [],
   "source": [
    "UCBDR_string = UCBDR.copy()\n",
    "UCBDR_string['MajorShort'] = UCBDR_string['MajorShort'].fillna(\"uncategorized\")\n",
    "UCBDR_string.iloc[rows_to_check]"
   ]
  },
  {
   "cell_type": "code",
   "execution_count": null,
   "metadata": {},
   "outputs": [],
   "source": [
    "UCBDR_string2 = UCBDR.copy()\n",
    "UCBDR_string2.loc[UCBDR_string2['MajorShort'].isna(), 'MajorShort'] = UCBDR_string2['Major'].str[:5]\n",
    "UCBDR_string2.iloc[rows_to_check] \n"
   ]
  },
  {
   "cell_type": "markdown",
   "metadata": {},
   "source": [
    "## Return to exploring Majors"
   ]
  },
  {
   "cell_type": "code",
   "execution_count": null,
   "metadata": {},
   "outputs": [],
   "source": [
    "UCB2022 = UCBDR[UCBDR['Academic Yr'] == '2021-22']\n",
    "UCB2022"
   ]
  },
  {
   "cell_type": "code",
   "execution_count": null,
   "metadata": {},
   "outputs": [],
   "source": [
    "UCB2022UG = UCB2022[UCB2022['Degree Level Desc'] == 'Bachelor']\n",
    "UCB2022UG"
   ]
  },
  {
   "cell_type": "code",
   "execution_count": null,
   "metadata": {},
   "outputs": [],
   "source": []
  },
  {
   "cell_type": "code",
   "execution_count": null,
   "metadata": {},
   "outputs": [],
   "source": [
    "UCB2022UG.groupby(\"College/School\")[\"Headcount\"].sum().sort_values(ascending=False).plot(kind=\"bar\", title=\"Total Degrees Awarded by College/School\")"
   ]
  },
  {
   "cell_type": "code",
   "execution_count": null,
   "metadata": {},
   "outputs": [],
   "source": [
    "UCB2022UG.groupby(\"College/School\")[\"Headcount\"].sum()"
   ]
  },
  {
   "cell_type": "code",
   "execution_count": null,
   "metadata": {},
   "outputs": [],
   "source": [
    "HCXMajor22= UCB2022UG.groupby(\"MajorShort\")[\"Headcount\"].sum().sort_values(ascending=False)\n",
    "HCXMajor22.head(30)"
   ]
  },
  {
   "cell_type": "code",
   "execution_count": null,
   "metadata": {},
   "outputs": [],
   "source": [
    "# sum of values in headcount column\n",
    "TotalHC = UCB2022UG['Headcount'].sum()\n",
    "\n",
    "TotalHC "
   ]
  },
  {
   "cell_type": "code",
   "execution_count": null,
   "metadata": {},
   "outputs": [],
   "source": [
    "# pull out values in MajorShort column for \"Comp Sci\" and \"EECS\" and \"Data Science\"\n",
    "\n",
    "CSHC = UCB2022UG[UCB2022UG['MajorShort'] == 'Comp Sci']['Headcount'].sum()\n",
    "CSHC"
   ]
  },
  {
   "cell_type": "code",
   "execution_count": null,
   "metadata": {},
   "outputs": [],
   "source": [
    "CSHC/TotalHC"
   ]
  },
  {
   "cell_type": "code",
   "execution_count": null,
   "metadata": {},
   "outputs": [],
   "source": [
    "DSHC=HCXMajor22['Data Sci']\n",
    "DSHC"
   ]
  },
  {
   "cell_type": "code",
   "execution_count": null,
   "metadata": {},
   "outputs": [],
   "source": [
    "EECSHC=HCXMajor22['El Eng & CS']\n",
    "EECSHC\n"
   ]
  },
  {
   "cell_type": "code",
   "execution_count": null,
   "metadata": {},
   "outputs": [],
   "source": [
    "Computing22=CSHC+DSHC+EECSHC\n",
    "Computing22\n"
   ]
  },
  {
   "cell_type": "code",
   "execution_count": null,
   "metadata": {},
   "outputs": [],
   "source": [
    "Computing22/TotalHC"
   ]
  },
  {
   "cell_type": "code",
   "execution_count": null,
   "metadata": {},
   "outputs": [],
   "source": [
    "DSHC/TotalHC"
   ]
  },
  {
   "cell_type": "code",
   "execution_count": null,
   "metadata": {},
   "outputs": [],
   "source": [
    "EECSHC/TotalHC"
   ]
  },
  {
   "cell_type": "code",
   "execution_count": null,
   "metadata": {},
   "outputs": [],
   "source": []
  }
 ],
 "metadata": {
  "kernelspec": {
   "display_name": "Python 3 (ipykernel)",
   "language": "python",
   "name": "python3"
  },
  "language_info": {
   "codemirror_mode": {
    "name": "ipython",
    "version": 3
   },
   "file_extension": ".py",
   "mimetype": "text/x-python",
   "name": "python",
   "nbconvert_exporter": "python",
   "pygments_lexer": "ipython3",
   "version": "3.8.15"
  }
 },
 "nbformat": 4,
 "nbformat_minor": 4
}
