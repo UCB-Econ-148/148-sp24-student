{
 "cells": [
  {
   "cell_type": "markdown",
   "metadata": {},
   "source": [
    "## ACS Data for ML - \n"
   ]
  },
  {
   "cell_type": "markdown",
   "metadata": {
    "metadata": {}
   },
   "source": [
    "### \"Adult\"\n",
    " One of the most used default dataset is a 1994 ACS dataset use to predict whether an adult earned more than $50k per year\n",
    "\n",
    " [Adult ACS  Dataset on UCI Repository ](https://archive.ics.uci.edu/dataset/2/adult)\n"
   ]
  },
  {
   "cell_type": "code",
   "execution_count": null,
   "metadata": {
    "metadata": {}
   },
   "outputs": [],
   "source": [
    "import pandas as pd\n",
    "import numpy as np\n",
    "import matplotlib.pyplot as plt\n",
    "import seaborn as sns\n",
    "from sklearn.linear_model import LogisticRegression\n",
    "from sklearn.model_selection import train_test_split\n",
    "from sklearn.pipeline import make_pipeline\n",
    "from sklearn.preprocessing import StandardScaler\n"
   ]
  },
  {
   "cell_type": "code",
   "execution_count": null,
   "metadata": {
    "metadata": {}
   },
   "outputs": [],
   "source": [
    "try: from ucimlrepo import fetch_ucirepo \n",
    "except ImportError: \n",
    "    !pip install ucimlrepo\n",
    "    from ucimlrepo import fetch_ucirepo\n"
   ]
  },
  {
   "cell_type": "code",
   "execution_count": null,
   "metadata": {
    "metadata": {}
   },
   "outputs": [],
   "source": [
    "# load adult dataset\n",
    "adult = fetch_ucirepo(id=2) \n",
    "  \n",
    "# data (as pandas dataframes) \n",
    "X = adult.data.features \n",
    "y = adult.data.targets \n",
    "  \n",
    "# metadata \n",
    "print(adult.metadata) \n",
    "  \n",
    "# variable information \n",
    "print(adult.variables) \n"
   ]
  },
  {
   "cell_type": "code",
   "execution_count": null,
   "metadata": {
    "metadata": {}
   },
   "outputs": [],
   "source": [
    "#inspect the data for features\n",
    "\n",
    "adult.data.features.head()"
   ]
  },
  {
   "cell_type": "code",
   "execution_count": null,
   "metadata": {
    "metadata": {}
   },
   "outputs": [],
   "source": [
    "#or alternatively\n",
    "# url for adult dataset\n",
    "url = 'https://archive.ics.uci.edu/ml/machine-learning-databases/adult/adult.data'\n",
    "# column names for the dataset\n",
    "column_names = [\n",
    "    \"age\", \"workclass\", \"fnlwgt\", \"education\", \"education-num\", \"marital-status\",\n",
    "    \"occupation\", \"relationship\", \"race\", \"sex\", \"capital-gain\", \"capital-loss\",\n",
    "    \"hours-per-week\", \"native-country\", \"income\"\n",
    "]\n",
    "adultuci= pd.read_csv(url, names=column_names, sep=', ', engine='python')\n",
    "adultuci.head()"
   ]
  },
  {
   "cell_type": "code",
   "execution_count": null,
   "metadata": {
    "metadata": {}
   },
   "outputs": [],
   "source": [
    "\n",
    "# Replace '?' with NaN\n",
    "adultuci.replace('?', np.nan, inplace=True)\n",
    "\n",
    "# Drop rows with missing values\n",
    "print(\"Shape before drop \",  adultuci.shape)\n",
    "adultuci.dropna(inplace=True)\n",
    "print(\"Shape after drop \",  adultuci.shape)\n"
   ]
  },
  {
   "cell_type": "code",
   "execution_count": null,
   "metadata": {
    "metadata": {}
   },
   "outputs": [],
   "source": [
    "#one hot encoding for categorical variables\n",
    "adultuci = pd.get_dummies(adultuci, drop_first=True)\n",
    "adultuci.head()"
   ]
  },
  {
   "cell_type": "code",
   "execution_count": null,
   "metadata": {
    "metadata": {}
   },
   "outputs": [],
   "source": [
    "#assigning the target variable\n",
    "y = adultuci['income_>50K']\n",
    "X = adultuci.drop('income_>50K', axis=1)\n"
   ]
  },
  {
   "cell_type": "markdown",
   "metadata": {},
   "source": [
    "## Aside on mising values   \n",
    "`Simple Imputer` from `sklearn`\n",
    "other options are: \n",
    "\n",
    "mean: Replaces missing values using the mean of the column. This strategy is only applicable to numerical data.\n",
    "\n",
    "median: Replaces missing values using the median of the column. This strategy can be more robust than the mean, as it is less affected by outliers and is applicable to numerical data.\n",
    "\n",
    "most_frequent: Replaces missing values using the mode (the most frequent value) of the column. This strategy can be used with both numerical and categorical (including string or object) data.\n",
    "\n",
    "constant: Replaces missing values with a constant value that you specify through the fill_value parameter. This strategy can be used with both numerical and categorical data."
   ]
  },
  {
   "cell_type": "code",
   "execution_count": null,
   "metadata": {
    "metadata": {}
   },
   "outputs": [],
   "source": [
    "# split data into training and testing sets\n",
    "X_train, X_test, y_train, y_test = train_test_split(X, y, test_size=0.2, random_state=42)\n",
    "X_train"
   ]
  },
  {
   "cell_type": "code",
   "execution_count": null,
   "metadata": {
    "metadata": {}
   },
   "outputs": [],
   "source": [
    "# create a logistic regression model\n",
    "model = make_pipeline(StandardScaler(), LogisticRegression())\n",
    "model.fit(X_train, y_train)\n",
    "\n",
    "yhat = model.predict(X_test)"
   ]
  },
  {
   "cell_type": "code",
   "execution_count": null,
   "metadata": {
    "metadata": {}
   },
   "outputs": [],
   "source": [
    "# calculate confusion matrix\n",
    "from sklearn.metrics import confusion_matrix\n",
    "\n",
    "cm = confusion_matrix(y_test, yhat)\n",
    "cm"
   ]
  },
  {
   "cell_type": "code",
   "execution_count": null,
   "metadata": {
    "metadata": {}
   },
   "outputs": [],
   "source": [
    "cm_df = pd.DataFrame(cm, \n",
    "                     index=[\"Actual Negative\", \"Actual Positive\"], \n",
    "                     columns=[\"Predicted Negative\", \"Predicted Positive\"])\n",
    "\n",
    "print(cm_df)"
   ]
  },
  {
   "cell_type": "code",
   "execution_count": null,
   "metadata": {
    "metadata": {}
   },
   "outputs": [],
   "source": [
    "plt.figure(figsize=(7, 7))\n",
    "sns.heatmap(cm_df, annot=True, fmt=\"d\", cmap=\"Blues\", annot_kws={\"size\": 16})\n",
    "plt.title('Confusion Matrix')\n",
    "plt.ylabel('Actual Label')\n",
    "plt.xlabel('Predicted Label')\n",
    "plt.show()"
   ]
  },
  {
   "cell_type": "code",
   "execution_count": null,
   "metadata": {
    "metadata": {}
   },
   "outputs": [],
   "source": [
    "# calculate accuracy\n",
    "from sklearn.metrics import accuracy_score\n",
    "print (\"Accuracy Score\", accuracy_score(y_test, yhat))\n",
    "# calculate precision\n",
    "from sklearn.metrics import precision_score\n",
    "print (\"Precision Score\", precision_score(y_test, yhat))\n",
    "# calculate recall\n",
    "from sklearn.metrics import recall_score\n",
    "print (\"Recall Score\", recall_score(y_test, yhat))\n",
    "# calculate F1 score\n",
    "from sklearn.metrics import f1_score\n",
    "print (\"F1 Score\", f1_score(y_test, yhat))\n"
   ]
  },
  {
   "cell_type": "code",
   "execution_count": null,
   "metadata": {
    "metadata": {}
   },
   "outputs": [],
   "source": [
    "# get the coefficients of the model\n",
    "#add the sd of the coefficients\n",
    "#add the absolute value of the coefficients\n",
    "#sort the values by the absolute value of the coefficients\n",
    "\n",
    "coefficients = model.named_steps['logisticregression'].coef_[0]\n",
    "\n",
    "\n",
    "coefficients_df = pd.DataFrame({\n",
    "    'Variable': X.columns,\n",
    "    'Coefficient': coefficients,\n",
    "    'Standard Deviation': np.std(X_train, 0) * coefficients,\n",
    "    \"Absolute Coefficient\": np.abs(coefficients)\n",
    "})\n",
    "coefficients_df = coefficients_df.sort_values('Absolute Coefficient', ascending=False)\n",
    "coefficients_df\n",
    "\n"
   ]
  }
 ],
 "metadata": {
  "kernelspec": {
   "display_name": "Python 3",
   "language": "python",
   "name": "python3"
  },
  "language_info": {
   "codemirror_mode": {
    "name": "ipython",
    "version": 3
   },
   "file_extension": ".py",
   "mimetype": "text/x-python",
   "name": "python",
   "nbconvert_exporter": "python",
   "pygments_lexer": "ipython3",
   "version": "3.8.15"
  }
 },
 "nbformat": 4,
 "nbformat_minor": 2
}
