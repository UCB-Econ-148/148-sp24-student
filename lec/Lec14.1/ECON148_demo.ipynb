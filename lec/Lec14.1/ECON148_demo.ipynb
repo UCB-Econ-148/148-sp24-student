{
 "cells": [
  {
   "cell_type": "markdown",
   "id": "b80cf2dd",
   "metadata": {
    "ExecuteTime": {
     "end_time": "2023-03-24T01:57:42.717495Z",
     "start_time": "2023-03-24T01:57:42.710480Z"
    }
   },
   "source": [
    "### Predicting Illiquid Stock Prices using data "
   ]
  },
  {
   "cell_type": "markdown",
   "id": "4f6f630a",
   "metadata": {
    "ExecuteTime": {
     "end_time": "2023-03-24T02:03:12.401685Z",
     "start_time": "2023-03-24T02:03:12.383736Z"
    }
   },
   "source": [
    "1. Open Anaconda prompt\n",
    "2. cd into project folder\n",
    "3. conda env create --file environment.yaml\n",
    "4. conda activate berkeley_env\n",
    "\n"
   ]
  },
  {
   "cell_type": "code",
   "execution_count": null,
   "id": "b1bf49f7",
   "metadata": {
    "ExecuteTime": {
     "end_time": "2023-03-24T02:52:47.369371Z",
     "start_time": "2023-03-24T02:52:47.352382Z"
    }
   },
   "outputs": [],
   "source": [
    "import pandas as pd\n",
    "import numpy as np\n",
    "import os \n",
    "import glob\n",
    "import seaborn as sns\n",
    "import pickle\n",
    "import matplotlib.pyplot as plt\n",
    "import shap"
   ]
  },
  {
   "cell_type": "code",
   "execution_count": null,
   "id": "5405ed6f",
   "metadata": {
    "ExecuteTime": {
     "end_time": "2023-03-24T02:52:48.103501Z",
     "start_time": "2023-03-24T02:52:48.088540Z"
    }
   },
   "outputs": [],
   "source": [
    "from sklearn.ensemble import RandomForestRegressor\n",
    "from sklearn.preprocessing import MinMaxScaler, StandardScaler\n",
    "from sklearn.model_selection import train_test_split"
   ]
  },
  {
   "cell_type": "markdown",
   "id": "fabe9aea",
   "metadata": {},
   "source": [
    "### Load and Format Data\n"
   ]
  },
  {
   "cell_type": "code",
   "execution_count": null,
   "id": "f8feed42",
   "metadata": {
    "ExecuteTime": {
     "end_time": "2023-03-24T02:53:41.585541Z",
     "start_time": "2023-03-24T02:53:41.238469Z"
    }
   },
   "outputs": [],
   "source": [
    "# financial ratios data for energy companies\n",
    "# @S&P Global\n",
    "ratio = pd.read_csv(\"fundamental_data/energy_ratios.csv\")\n",
    "# historical stock prices - \n",
    "# @Yahoo Finance API via yfinance Python package\n",
    "prices_full = pd.read_csv('stock_prices/prices_y_finance_full.csv')\n"
   ]
  },
  {
   "cell_type": "code",
   "execution_count": null,
   "id": "23aa0e69",
   "metadata": {
    "ExecuteTime": {
     "end_time": "2023-03-24T02:53:41.632058Z",
     "start_time": "2023-03-24T02:53:41.588532Z"
    }
   },
   "outputs": [],
   "source": [
    "# historical ETF data for top market indexes\n",
    "# @https://www.kaggle.com/datasets/borismarjanovic/price-volume-data-for-all-us-stocks-etfs\n",
    "mkt_files = glob.glob(\"market_data/*.txt\")\n",
    "mkt_indexes = pd.concat((pd.read_csv(f).tail(1000).assign(Ticker = f.replace(\"market_data/\", '')\n",
    "                                                          .replace('.us.txt', '')) for f in mkt_files), \n",
    "                                                           ignore_index=True)"
   ]
  },
  {
   "cell_type": "code",
   "execution_count": null,
   "id": "3ee9db3c",
   "metadata": {
    "ExecuteTime": {
     "end_time": "2023-03-24T02:54:24.648152Z",
     "start_time": "2023-03-24T02:54:24.636189Z"
    }
   },
   "outputs": [],
   "source": [
    "mkt_indexes['Date'] = pd.to_datetime(mkt_indexes['Date']) "
   ]
  },
  {
   "cell_type": "code",
   "execution_count": null,
   "id": "a6a1ed6a",
   "metadata": {
    "ExecuteTime": {
     "end_time": "2023-03-24T02:54:25.043498Z",
     "start_time": "2023-03-24T02:54:24.982593Z"
    }
   },
   "outputs": [],
   "source": [
    "prices_full['Date'] = pd.to_datetime(prices_full['Date'], utc=True)\n",
    "prices_full['Date'] = prices_full['Date'].dt.floor('D')\n",
    "prices_full['Date']  = prices_full['Date'].dt.tz_localize(None)\n",
    "prices_full = prices_full.rename(columns={'Close':'price'})"
   ]
  },
  {
   "cell_type": "code",
   "execution_count": null,
   "id": "e7abb786",
   "metadata": {
    "ExecuteTime": {
     "end_time": "2023-03-24T02:54:38.116565Z",
     "start_time": "2023-03-24T02:54:38.109585Z"
    }
   },
   "outputs": [],
   "source": [
    "prices_cols = ['Date', 'Ticker', 'price']"
   ]
  },
  {
   "cell_type": "code",
   "execution_count": null,
   "id": "c71f7f1e",
   "metadata": {
    "ExecuteTime": {
     "end_time": "2023-03-24T02:54:39.309986Z",
     "start_time": "2023-03-24T02:54:39.264106Z"
    }
   },
   "outputs": [],
   "source": [
    "ratio = ratio.rename(columns={'EXCHANGE TICKER SYMBOL - HISTORICAL': 'Ticker'})\n",
    "ratio['Public Date'] = pd.to_datetime(ratio['Public Date'].astype('str'))\n",
    "ratio = ratio.drop(columns=['Unnamed: 0'])\n",
    "ratio = ratio.rename(columns={'Public Date':'quarter_date'})"
   ]
  },
  {
   "cell_type": "code",
   "execution_count": null,
   "id": "e279e259",
   "metadata": {
    "ExecuteTime": {
     "end_time": "2023-03-24T02:54:42.334722Z",
     "start_time": "2023-03-24T02:54:42.323752Z"
    }
   },
   "outputs": [],
   "source": [
    "ratio_dates = ratio.quarter_date.unique()"
   ]
  },
  {
   "cell_type": "markdown",
   "id": "a534f540",
   "metadata": {},
   "source": [
    "#### Inspect financial ratio data"
   ]
  },
  {
   "cell_type": "code",
   "execution_count": null,
   "id": "fdb998e7",
   "metadata": {
    "ExecuteTime": {
     "end_time": "2023-03-24T02:54:42.929788Z",
     "start_time": "2023-03-24T02:54:42.892850Z"
    }
   },
   "outputs": [],
   "source": [
    "ratio.head()"
   ]
  },
  {
   "cell_type": "code",
   "execution_count": null,
   "id": "19ad2995",
   "metadata": {
    "ExecuteTime": {
     "end_time": "2023-03-24T02:55:29.745922Z",
     "start_time": "2023-03-24T02:55:29.727937Z"
    }
   },
   "outputs": [],
   "source": [
    "def filter_max_dates(row):\n",
    "    return max(ratio_dates[np.where(row['Date'] > ratio_dates)])\n",
    "    "
   ]
  },
  {
   "cell_type": "markdown",
   "id": "989b63a0",
   "metadata": {},
   "source": [
    "#### Since financial ratio data is quarterly and market index data is daily, we want to match them up appropriately"
   ]
  },
  {
   "cell_type": "code",
   "execution_count": null,
   "id": "edb652a1",
   "metadata": {
    "ExecuteTime": {
     "end_time": "2023-03-24T02:55:32.059054Z",
     "start_time": "2023-03-24T02:55:31.230696Z"
    }
   },
   "outputs": [],
   "source": [
    "mkt_indexes['quarter_date'] = mkt_indexes.apply(filter_max_dates, axis=1)"
   ]
  },
  {
   "cell_type": "code",
   "execution_count": null,
   "id": "bb493e43",
   "metadata": {
    "ExecuteTime": {
     "end_time": "2023-03-24T02:55:32.701468Z",
     "start_time": "2023-03-24T02:55:32.668555Z"
    }
   },
   "outputs": [],
   "source": [
    "mkt_indexes = pd.pivot_table(mkt_indexes[['Date', 'Close', 'Ticker', 'quarter_date']], values='Close', columns=['Ticker'],\n",
    "              index=['Date', 'quarter_date']).reset_index()"
   ]
  },
  {
   "cell_type": "code",
   "execution_count": null,
   "id": "a9bfccc6",
   "metadata": {
    "ExecuteTime": {
     "end_time": "2023-03-24T02:55:35.214383Z",
     "start_time": "2023-03-24T02:55:35.128452Z"
    },
    "scrolled": true
   },
   "outputs": [],
   "source": [
    "financial = pd.merge(mkt_indexes, ratio, how='left', on=['quarter_date'])\n"
   ]
  },
  {
   "cell_type": "code",
   "execution_count": null,
   "id": "b390ef2e",
   "metadata": {
    "ExecuteTime": {
     "end_time": "2023-03-24T02:55:37.629625Z",
     "start_time": "2023-03-24T02:55:37.591728Z"
    }
   },
   "outputs": [],
   "source": [
    "financial.head()"
   ]
  },
  {
   "cell_type": "markdown",
   "id": "a3db405a",
   "metadata": {
    "ExecuteTime": {
     "end_time": "2023-02-14T04:43:08.659849Z",
     "start_time": "2023-02-14T04:43:08.627937Z"
    }
   },
   "source": [
    "#### Inspect a single stock's price over time"
   ]
  },
  {
   "cell_type": "code",
   "execution_count": null,
   "id": "dc6bff42",
   "metadata": {
    "ExecuteTime": {
     "end_time": "2023-03-24T02:56:02.571050Z",
     "start_time": "2023-03-24T02:56:02.329158Z"
    },
    "scrolled": false
   },
   "outputs": [],
   "source": [
    "ticker = 'APA'\n",
    "plt.plot(prices_full[prices_full.Ticker == ticker].Date,prices_full[prices_full.Ticker == ticker].price)\n",
    "plt.title('Historical Stock Price for {}'.format(ticker))\n",
    "plt.xticks(rotation=45)\n",
    "plt.show()\n"
   ]
  },
  {
   "cell_type": "code",
   "execution_count": null,
   "id": "9673e71e",
   "metadata": {
    "ExecuteTime": {
     "end_time": "2023-03-24T02:56:19.706008Z",
     "start_time": "2023-03-24T02:56:19.519371Z"
    }
   },
   "outputs": [],
   "source": [
    "full_dataset = pd.merge(financial, prices_full[prices_cols], how='left', on=['Ticker', 'Date']).dropna(subset=['price'])\n"
   ]
  },
  {
   "cell_type": "markdown",
   "id": "bf6da406",
   "metadata": {},
   "source": [
    "#### Inspect data types and missing values"
   ]
  },
  {
   "cell_type": "code",
   "execution_count": null,
   "id": "e8177899",
   "metadata": {
    "ExecuteTime": {
     "end_time": "2023-03-24T02:56:32.655909Z",
     "start_time": "2023-03-24T02:56:32.602455Z"
    },
    "scrolled": false
   },
   "outputs": [],
   "source": [
    "full_dataset.info()"
   ]
  },
  {
   "cell_type": "markdown",
   "id": "783bbbc5",
   "metadata": {
    "ExecuteTime": {
     "end_time": "2023-02-14T17:15:47.784941Z",
     "start_time": "2023-02-14T17:15:47.766988Z"
    }
   },
   "source": [
    "#### Drop sparse features"
   ]
  },
  {
   "cell_type": "code",
   "execution_count": null,
   "id": "427c0b59",
   "metadata": {
    "ExecuteTime": {
     "end_time": "2023-03-24T02:57:25.367826Z",
     "start_time": "2023-03-24T02:57:25.345852Z"
    }
   },
   "outputs": [],
   "source": [
    "full_dataset = full_dataset.drop(columns=['Trailing P/E to Growth (PEG) ratio', 'Dividend Yield'])"
   ]
  },
  {
   "cell_type": "code",
   "execution_count": null,
   "id": "c532fcb8",
   "metadata": {
    "ExecuteTime": {
     "end_time": "2023-03-24T02:57:27.780087Z",
     "start_time": "2023-03-24T02:57:27.688108Z"
    },
    "scrolled": true
   },
   "outputs": [],
   "source": [
    "full_dataset = full_dataset.dropna()\n",
    "full_dataset = full_dataset.sort_values(by='Date', ascending=True)\n",
    "full_dataset.shape"
   ]
  },
  {
   "cell_type": "code",
   "execution_count": null,
   "id": "43fe9aaf",
   "metadata": {
    "ExecuteTime": {
     "end_time": "2023-03-24T02:57:39.630006Z",
     "start_time": "2023-03-24T02:57:39.583128Z"
    }
   },
   "outputs": [],
   "source": [
    "full_dataset.head()"
   ]
  },
  {
   "cell_type": "markdown",
   "id": "b9657d40",
   "metadata": {
    "ExecuteTime": {
     "end_time": "2023-02-14T02:55:46.642528Z",
     "start_time": "2023-02-14T02:55:46.623528Z"
    }
   },
   "source": [
    "#### Filter out outlier stock prices"
   ]
  },
  {
   "cell_type": "code",
   "execution_count": null,
   "id": "f7c8711a",
   "metadata": {
    "ExecuteTime": {
     "end_time": "2023-03-24T02:57:56.486547Z",
     "start_time": "2023-03-24T02:57:56.460618Z"
    },
    "scrolled": true
   },
   "outputs": [],
   "source": [
    "full_dataset = full_dataset[full_dataset.price < 1000]"
   ]
  },
  {
   "cell_type": "code",
   "execution_count": null,
   "id": "4da621d6",
   "metadata": {
    "ExecuteTime": {
     "end_time": "2023-03-24T02:58:07.334712Z",
     "start_time": "2023-03-24T02:58:07.321783Z"
    }
   },
   "outputs": [],
   "source": [
    "mkt_features = ['qqq', 'spy', 'vgsh', 'vxx']"
   ]
  },
  {
   "cell_type": "code",
   "execution_count": null,
   "id": "98829469",
   "metadata": {
    "ExecuteTime": {
     "end_time": "2023-03-24T02:58:07.836387Z",
     "start_time": "2023-03-24T02:58:07.830400Z"
    },
    "code_folding": []
   },
   "outputs": [],
   "source": [
    "fundamental_features = ['Enterprise Value Multiple',\n",
    "       'P/E (Diluted, Excl. EI)', 'Price/Cash flow', 'Net Profit Margin',\n",
    "       'Operating Profit Margin Before Depreciation', 'Cash Flow Margin',\n",
    "       'Total Debt/Invested Capital', 'Interest/Average Total Debt',\n",
    "       'Cash Balance/Total Liabilities', 'Total Debt/EBITDA',\n",
    "       'Profit Before Depreciation/Current Liabilities',\n",
    "       'Operating CF/Current Liabilities', 'Cash Flow/Total Debt',\n",
    "       'Free Cash Flow/Operating Cash Flow',\n",
    "       'Total Liabilities/Total Tangible Assets', 'Total Debt/Capital',\n",
    "       'Total Debt/Equity', 'Cash Ratio', 'Quick Ratio (Acid Test)',\n",
    "       'Price/Book']"
   ]
  },
  {
   "cell_type": "code",
   "execution_count": null,
   "id": "d4e62042",
   "metadata": {
    "ExecuteTime": {
     "end_time": "2023-03-24T02:58:08.320892Z",
     "start_time": "2023-03-24T02:58:08.310920Z"
    }
   },
   "outputs": [],
   "source": [
    "features = mkt_features + fundamental_features\n"
   ]
  },
  {
   "cell_type": "code",
   "execution_count": null,
   "id": "3f0d487d",
   "metadata": {
    "ExecuteTime": {
     "end_time": "2023-03-24T02:58:08.679054Z",
     "start_time": "2023-03-24T02:58:08.671042Z"
    }
   },
   "outputs": [],
   "source": [
    "target = 'price'"
   ]
  },
  {
   "cell_type": "markdown",
   "id": "958483e7",
   "metadata": {
    "ExecuteTime": {
     "end_time": "2023-02-14T16:52:30.828005Z",
     "start_time": "2023-02-14T16:52:30.815008Z"
    }
   },
   "source": [
    "### EDA"
   ]
  },
  {
   "cell_type": "markdown",
   "id": "40503482",
   "metadata": {},
   "source": [
    "#### Analyze market indexes"
   ]
  },
  {
   "cell_type": "code",
   "execution_count": null,
   "id": "18caaf8a",
   "metadata": {
    "ExecuteTime": {
     "end_time": "2023-03-24T02:58:29.483348Z",
     "start_time": "2023-03-24T02:58:29.073789Z"
    }
   },
   "outputs": [],
   "source": [
    "fig, ax1 = plt.subplots(figsize=(7, 5))\n",
    "ax2 = ax1.twinx()\n",
    "for mkt_col in ['qqq', 'spy']:\n",
    "    ax1.plot(full_dataset['Date'], full_dataset[mkt_col], label=mkt_col)\n",
    "ax2.plot(full_dataset['Date'], full_dataset['vxx'], label='vxx', c='r')\n",
    "plt.title('Historical performance of indexes')\n",
    "ax1.legend()\n",
    "ax2.legend()\n",
    "plt.show()"
   ]
  },
  {
   "cell_type": "markdown",
   "id": "7b6ce346",
   "metadata": {},
   "source": [
    "#### Appears that features 'spy' (S&P 500 index) and 'qqq' (NASDAQ 100 index) are correlated\n",
    "\n",
    "Removing correlated features is important to prevent the model from assigning too much importance to, in essence, the same variable."
   ]
  },
  {
   "cell_type": "code",
   "execution_count": null,
   "id": "2fc372cd",
   "metadata": {
    "ExecuteTime": {
     "end_time": "2023-03-24T02:59:12.773141Z",
     "start_time": "2023-03-24T02:59:12.036917Z"
    }
   },
   "outputs": [],
   "source": [
    "sns.heatmap(full_dataset[features].corr())"
   ]
  },
  {
   "cell_type": "code",
   "execution_count": null,
   "id": "0321b205",
   "metadata": {
    "ExecuteTime": {
     "end_time": "2023-03-24T03:00:59.242342Z",
     "start_time": "2023-03-24T03:00:59.222430Z"
    }
   },
   "outputs": [],
   "source": [
    "correlated_features = ['Enterprise Value Multiple', 'Quick Ratio (Acid Test)', 'qqq', 'Net Profit Margin', \n",
    "                       'Operating Profit Margin Before Depreciation']\n"
   ]
  },
  {
   "cell_type": "code",
   "execution_count": null,
   "id": "96fb8518",
   "metadata": {
    "ExecuteTime": {
     "end_time": "2023-03-24T03:01:09.219643Z",
     "start_time": "2023-03-24T03:01:09.198704Z"
    }
   },
   "outputs": [],
   "source": [
    "for i in range(len(correlated_features)):\n",
    "    features.remove(correlated_features[i])\n",
    "features_df = full_dataset[features]\n",
    "target_df = full_dataset[target]"
   ]
  },
  {
   "cell_type": "markdown",
   "id": "77b12e01",
   "metadata": {},
   "source": [
    "### Prepare data for modeling"
   ]
  },
  {
   "cell_type": "markdown",
   "id": "9e78d86d",
   "metadata": {},
   "source": [
    "#### Normal way to split data: random split"
   ]
  },
  {
   "cell_type": "code",
   "execution_count": null,
   "id": "7a7e00ac",
   "metadata": {
    "ExecuteTime": {
     "end_time": "2023-03-24T03:01:46.964461Z",
     "start_time": "2023-03-24T03:01:46.926560Z"
    }
   },
   "outputs": [],
   "source": [
    "X_train, X_test, y_train, y_test = train_test_split(features_df, target_df, test_size=0.2, random_state=5)\n",
    "print(\"Train set size: \", len(X_train), \"\\nTest set size: \", len(X_test))"
   ]
  },
  {
   "cell_type": "markdown",
   "id": "d4012411",
   "metadata": {
    "ExecuteTime": {
     "end_time": "2023-02-14T00:00:16.332149Z",
     "start_time": "2023-02-14T00:00:16.312203Z"
    }
   },
   "source": [
    "#### Why is this a problem?\n",
    "\n",
    "With time-dependent data, randomly splitting our train/test sets means we can have future data in the train set and past data in the test set.\n",
    "\n",
    "In our case, this could mean teaching our model to predict the price of stock ABC on a given day using future data. \n",
    "\n",
    "This presents a data leakage problem. We want a time series split of our data."
   ]
  },
  {
   "cell_type": "code",
   "execution_count": null,
   "id": "4e135aba",
   "metadata": {
    "ExecuteTime": {
     "end_time": "2023-03-24T03:02:49.339241Z",
     "start_time": "2023-03-24T03:02:49.317298Z"
    }
   },
   "outputs": [],
   "source": [
    "del X_train\n",
    "del X_test\n",
    "del y_train\n",
    "del y_test"
   ]
  },
  {
   "cell_type": "markdown",
   "id": "c885faba",
   "metadata": {
    "ExecuteTime": {
     "end_time": "2023-02-14T00:01:11.522048Z",
     "start_time": "2023-02-14T00:01:11.512075Z"
    }
   },
   "source": [
    "### Time Series data split\n",
    "\n",
    "Lets save the latest 20% of data for testing"
   ]
  },
  {
   "cell_type": "code",
   "execution_count": null,
   "id": "96c719d9",
   "metadata": {
    "ExecuteTime": {
     "end_time": "2023-03-24T03:03:10.098882Z",
     "start_time": "2023-03-24T03:03:10.078900Z"
    }
   },
   "outputs": [],
   "source": [
    "cutoff_index = int(0.8 * len(features_df))"
   ]
  },
  {
   "cell_type": "code",
   "execution_count": null,
   "id": "eb29ba88",
   "metadata": {
    "ExecuteTime": {
     "end_time": "2023-03-24T03:03:10.694576Z",
     "start_time": "2023-03-24T03:03:10.679579Z"
    }
   },
   "outputs": [],
   "source": [
    "X_train, X_test = features_df.iloc[:cutoff_index, :], features_df.iloc[cutoff_index:, :]\n",
    "y_train, y_test = target_df.iloc[:cutoff_index], target_df.iloc[cutoff_index:]"
   ]
  },
  {
   "cell_type": "markdown",
   "id": "ccea8198",
   "metadata": {
    "ExecuteTime": {
     "end_time": "2023-02-13T23:15:59.000568Z",
     "start_time": "2023-02-13T23:15:58.981586Z"
    }
   },
   "source": [
    "### Normalizing data for training\n",
    "\n",
    "We want to fit the normalizer only on the train set and apply that scaler to both. This prevents data leakage from train to test sets."
   ]
  },
  {
   "cell_type": "code",
   "execution_count": null,
   "id": "a1e52d7a",
   "metadata": {
    "ExecuteTime": {
     "end_time": "2023-03-24T03:03:17.975642Z",
     "start_time": "2023-03-24T03:03:17.940735Z"
    }
   },
   "outputs": [],
   "source": [
    "ss = StandardScaler()\n",
    "X_train = pd.DataFrame( # turning scaled output (np.Array) back into DataFrame\n",
    "          ss.fit_transform(X_train),\n",
    "          columns=X_train.columns,\n",
    "          index=X_train.index\n",
    "          )\n",
    "            "
   ]
  },
  {
   "cell_type": "code",
   "execution_count": null,
   "id": "e8e106b6",
   "metadata": {
    "ExecuteTime": {
     "end_time": "2023-03-24T03:03:18.288668Z",
     "start_time": "2023-03-24T03:03:18.270681Z"
    }
   },
   "outputs": [],
   "source": [
    "X_test = pd.DataFrame( # turning scaled output (np.Array) back into DataFrame\n",
    "         ss.transform(X_test),\n",
    "         columns=X_test.columns,\n",
    "         index=X_test.index\n",
    "         )"
   ]
  },
  {
   "cell_type": "markdown",
   "id": "2332f50c",
   "metadata": {
    "ExecuteTime": {
     "end_time": "2023-02-13T23:19:38.825045Z",
     "start_time": "2023-02-13T23:19:38.807057Z"
    }
   },
   "source": [
    "### Occam's Razor - can we solve this problem with a simpler model?"
   ]
  },
  {
   "cell_type": "code",
   "execution_count": null,
   "id": "424db4c7",
   "metadata": {
    "ExecuteTime": {
     "end_time": "2023-03-24T03:03:27.915500Z",
     "start_time": "2023-03-24T03:03:27.904531Z"
    }
   },
   "outputs": [],
   "source": [
    "class LinearRegressor:\n",
    "    \n",
    "    def __init__(self):\n",
    "        self.w = None\n",
    "        \n",
    "    def fit(self, X, y):\n",
    "       self.w = np.array(np.linalg.inv(X.T @ X) @ X.T @ y).reshape(-1,1)\n",
    "\n",
    "    \n",
    "    def predict(self, X):\n",
    "        return (X @ self.w)[0]\n",
    "    \n",
    "    def get_weights(self):\n",
    "        return self.w.round(4)\n",
    "    "
   ]
  },
  {
   "cell_type": "markdown",
   "id": "0f87f734",
   "metadata": {
    "ExecuteTime": {
     "end_time": "2023-02-13T23:47:52.178146Z",
     "start_time": "2023-02-13T23:47:52.160194Z"
    }
   },
   "source": [
    "#### Fit Linear Regression "
   ]
  },
  {
   "cell_type": "code",
   "execution_count": null,
   "id": "e23f0e47",
   "metadata": {
    "ExecuteTime": {
     "end_time": "2023-03-24T03:03:32.736909Z",
     "start_time": "2023-03-24T03:03:32.702970Z"
    }
   },
   "outputs": [],
   "source": [
    "linreg = LinearRegressor()\n",
    "linreg.fit(X_train, y_train)"
   ]
  },
  {
   "cell_type": "code",
   "execution_count": null,
   "id": "82c51d0a",
   "metadata": {
    "ExecuteTime": {
     "end_time": "2023-03-24T03:03:54.822906Z",
     "start_time": "2023-03-24T03:03:54.799967Z"
    }
   },
   "outputs": [],
   "source": [
    "# out-of-sample prediction\n",
    "lin_preds = linreg.predict(X_test)\n",
    "np.mean(abs(lin_preds - y_test))"
   ]
  },
  {
   "cell_type": "code",
   "execution_count": null,
   "id": "c2ba9afd",
   "metadata": {
    "ExecuteTime": {
     "end_time": "2023-03-24T02:29:35.372355Z",
     "start_time": "2023-03-24T02:29:35.343431Z"
    }
   },
   "outputs": [],
   "source": [
    "full_dataset[['Ticker', 'Date']]"
   ]
  },
  {
   "cell_type": "code",
   "execution_count": null,
   "id": "aaeb3d0f",
   "metadata": {
    "ExecuteTime": {
     "end_time": "2023-03-24T02:29:37.835867Z",
     "start_time": "2023-03-24T02:29:37.819911Z"
    }
   },
   "outputs": [],
   "source": [
    "full_dataset.iloc[cutoff_index:, :].loc[:, ['Ticker', 'Date']]"
   ]
  },
  {
   "cell_type": "markdown",
   "id": "45c3309d",
   "metadata": {},
   "source": [
    "#### Spot checking Linear Regression predictions"
   ]
  },
  {
   "cell_type": "code",
   "execution_count": null,
   "id": "94e05cbb",
   "metadata": {
    "ExecuteTime": {
     "end_time": "2023-03-24T03:04:14.865243Z",
     "start_time": "2023-03-24T03:04:14.845301Z"
    }
   },
   "outputs": [],
   "source": [
    "y_test_df = pd.DataFrame(y_test.round(3))"
   ]
  },
  {
   "cell_type": "code",
   "execution_count": null,
   "id": "859cb742",
   "metadata": {
    "ExecuteTime": {
     "end_time": "2023-03-24T03:04:15.133840Z",
     "start_time": "2023-03-24T03:04:15.096941Z"
    }
   },
   "outputs": [],
   "source": [
    "compare_preds = pd.concat([full_dataset.iloc[cutoff_index:, :].loc[:, ['Ticker', 'Date']], \n",
    "                           pd.DataFrame(lin_preds.round(3)), \n",
    "                           y_test_df], \n",
    "                           axis=1)\n",
    "compare_preds.columns = ['ticker', 'date', 'predicted price', 'true price']\n",
    "compare_preds"
   ]
  },
  {
   "cell_type": "markdown",
   "id": "82fd0cac",
   "metadata": {
    "ExecuteTime": {
     "end_time": "2023-02-14T04:19:56.912317Z",
     "start_time": "2023-02-14T04:19:56.892367Z"
    }
   },
   "source": [
    "#### Inspect linear regression weights"
   ]
  },
  {
   "cell_type": "code",
   "execution_count": null,
   "id": "5db31b27",
   "metadata": {
    "ExecuteTime": {
     "end_time": "2023-03-24T02:30:11.574126Z",
     "start_time": "2023-03-24T02:30:11.544205Z"
    },
    "scrolled": false
   },
   "outputs": [],
   "source": [
    "pd.DataFrame(zip(features, linreg.get_weights()), columns=['feature', 'weight'])"
   ]
  },
  {
   "cell_type": "markdown",
   "id": "139730b7",
   "metadata": {
    "ExecuteTime": {
     "end_time": "2023-02-13T23:19:50.461430Z",
     "start_time": "2023-02-13T23:19:50.447430Z"
    }
   },
   "source": [
    "### More powerful modeling"
   ]
  },
  {
   "cell_type": "code",
   "execution_count": null,
   "id": "bcdf5a87",
   "metadata": {
    "ExecuteTime": {
     "end_time": "2023-03-24T03:04:46.652633Z",
     "start_time": "2023-03-24T03:04:46.631691Z"
    }
   },
   "outputs": [],
   "source": [
    "params = {\"n_estimators\": 50,\n",
    "          \"max_depth\": 5,\n",
    "          \"max_features\": 0.7}"
   ]
  },
  {
   "cell_type": "code",
   "execution_count": null,
   "id": "a7f78b71",
   "metadata": {
    "ExecuteTime": {
     "end_time": "2023-03-24T03:04:51.013540Z",
     "start_time": "2023-03-24T03:04:47.128574Z"
    }
   },
   "outputs": [],
   "source": [
    "rf = RandomForestRegressor(**params)\n",
    "rf.fit(X_train, y_train)"
   ]
  },
  {
   "cell_type": "code",
   "execution_count": null,
   "id": "e0ac0f36",
   "metadata": {
    "ExecuteTime": {
     "end_time": "2023-03-24T03:04:54.083130Z",
     "start_time": "2023-03-24T03:04:54.042239Z"
    }
   },
   "outputs": [],
   "source": [
    "predictions_rf = rf.predict(X_test)"
   ]
  },
  {
   "cell_type": "code",
   "execution_count": null,
   "id": "11ca375a",
   "metadata": {
    "ExecuteTime": {
     "end_time": "2023-03-24T03:04:59.754379Z",
     "start_time": "2023-03-24T03:04:59.744406Z"
    }
   },
   "outputs": [],
   "source": [
    "# out-of-sample prediction\n",
    "np.mean(abs(predictions_rf - y_test))"
   ]
  },
  {
   "cell_type": "markdown",
   "id": "d5453a87",
   "metadata": {
    "ExecuteTime": {
     "end_time": "2023-02-14T04:31:00.153577Z",
     "start_time": "2023-02-14T04:31:00.133631Z"
    }
   },
   "source": [
    "#### Spot checking Random Forest predictions"
   ]
  },
  {
   "cell_type": "code",
   "execution_count": null,
   "id": "77d3ed91",
   "metadata": {
    "ExecuteTime": {
     "end_time": "2023-03-24T03:05:09.462000Z",
     "start_time": "2023-03-24T03:05:09.435076Z"
    }
   },
   "outputs": [],
   "source": [
    "compare_preds = pd.concat([full_dataset.iloc[cutoff_index:, :].loc[:, ['Ticker', 'Date']], \n",
    "                           pd.DataFrame(predictions_rf.round(3), index=y_test_df.index), \n",
    "                           y_test_df], \n",
    "                           axis=1)\n",
    "compare_preds.columns = ['ticker', 'date', 'predicted price', 'true price']\n",
    "compare_preds"
   ]
  },
  {
   "cell_type": "markdown",
   "id": "36a3d88e",
   "metadata": {
    "ExecuteTime": {
     "end_time": "2023-02-13T23:20:10.614900Z",
     "start_time": "2023-02-13T23:20:10.607920Z"
    }
   },
   "source": [
    "### Explainable ML"
   ]
  },
  {
   "cell_type": "markdown",
   "id": "52833395",
   "metadata": {
    "ExecuteTime": {
     "end_time": "2023-02-13T23:20:55.863452Z",
     "start_time": "2023-02-13T23:20:55.848453Z"
    }
   },
   "source": [
    "#### Random Forest feature importance\n",
    "\n",
    "Determines what features were most useful based on how often they were used to form decision trees in forest"
   ]
  },
  {
   "cell_type": "code",
   "execution_count": null,
   "id": "c8409766",
   "metadata": {
    "ExecuteTime": {
     "end_time": "2023-03-24T03:06:03.430265Z",
     "start_time": "2023-03-24T03:06:03.154856Z"
    }
   },
   "outputs": [],
   "source": [
    "plt.barh(rf.feature_names_in_, rf.feature_importances_)"
   ]
  },
  {
   "cell_type": "markdown",
   "id": "d1ea316e",
   "metadata": {
    "ExecuteTime": {
     "end_time": "2023-02-14T04:34:53.173746Z",
     "start_time": "2023-02-14T04:34:53.153787Z"
    }
   },
   "source": [
    "#### Random Forest Shapley Values"
   ]
  },
  {
   "cell_type": "code",
   "execution_count": null,
   "id": "6ba43f33",
   "metadata": {
    "ExecuteTime": {
     "end_time": "2023-03-24T01:46:43.253736Z",
     "start_time": "2023-03-24T01:46:33.514517Z"
    },
    "collapsed": true
   },
   "outputs": [],
   "source": [
    "# !! Warning: Takes a long time to run!! Better to read in Shapley from pickle below\n",
    "explainer = shap.Explainer(rf.predict, X_test)\n",
    "shap_values = explainer(X_test)"
   ]
  },
  {
   "cell_type": "code",
   "execution_count": null,
   "id": "e402f4a8",
   "metadata": {
    "ExecuteTime": {
     "end_time": "2023-03-24T03:06:26.683227Z",
     "start_time": "2023-03-24T03:06:26.662286Z"
    }
   },
   "outputs": [],
   "source": [
    "# read in Shapley values from Pickle\n",
    "shap_values = pickle.load(open('rf_shap.pkl', 'rb'))"
   ]
  },
  {
   "cell_type": "code",
   "execution_count": null,
   "id": "55fbdd83",
   "metadata": {
    "ExecuteTime": {
     "end_time": "2023-03-24T03:06:26.980431Z",
     "start_time": "2023-03-24T03:06:26.962478Z"
    }
   },
   "outputs": [],
   "source": [
    "sample_ind = 100"
   ]
  },
  {
   "cell_type": "markdown",
   "id": "404b4ce5",
   "metadata": {
    "ExecuteTime": {
     "end_time": "2023-03-24T01:55:57.899771Z",
     "start_time": "2023-03-24T01:55:57.887802Z"
    }
   },
   "source": [
    "#### Shap values are an intuitive way of representing the impact of features on individual predictions\n",
    "\n",
    "As a quant in trading, your end users are the traders. It is imperative to translate quantitative solutions and insights to the business problem they are trying to solve."
   ]
  },
  {
   "cell_type": "code",
   "execution_count": null,
   "id": "bdf5f9be",
   "metadata": {
    "ExecuteTime": {
     "end_time": "2023-03-24T03:06:28.266634Z",
     "start_time": "2023-03-24T03:06:27.802695Z"
    }
   },
   "outputs": [],
   "source": [
    "shap.plots.waterfall(shap_values[sample_ind])"
   ]
  },
  {
   "cell_type": "code",
   "execution_count": null,
   "id": "613d7977",
   "metadata": {},
   "outputs": [],
   "source": []
  }
 ],
 "metadata": {
  "kernelspec": {
   "display_name": "Python 3 (ipykernel)",
   "language": "python",
   "name": "python3"
  },
  "language_info": {
   "codemirror_mode": {
    "name": "ipython",
    "version": 3
   },
   "file_extension": ".py",
   "mimetype": "text/x-python",
   "name": "python",
   "nbconvert_exporter": "python",
   "pygments_lexer": "ipython3",
   "version": "3.8.15"
  },
  "toc": {
   "base_numbering": 1,
   "nav_menu": {},
   "number_sections": true,
   "sideBar": true,
   "skip_h1_title": false,
   "title_cell": "Table of Contents",
   "title_sidebar": "Contents",
   "toc_cell": false,
   "toc_position": {},
   "toc_section_display": true,
   "toc_window_display": false
  }
 },
 "nbformat": 4,
 "nbformat_minor": 5
}
