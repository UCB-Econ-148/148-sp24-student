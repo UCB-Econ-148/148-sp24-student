{
 "cells": [
  {
   "cell_type": "markdown",
   "id": "79912b18-ce32-4e66-81b3-267690c8b392",
   "metadata": {},
   "source": [
    "## Time Series Concepts \n",
    "### Generating processes from random \n",
    "\n",
    "Partly From\n",
    "\n",
    "https://machinelearningmastery.com/gentle-introduction-random-walk-times-series-forecasting-python"
   ]
  },
  {
   "cell_type": "code",
   "execution_count": null,
   "id": "cd154412-d782-485a-abf7-e6adc5469d79",
   "metadata": {},
   "outputs": [],
   "source": [
    "from random import seed\n",
    "from random import random\n",
    "from matplotlib import pyplot\n",
    "from pandas.plotting import autocorrelation_plot\n",
    "import numpy as np \n",
    "import pylab \n",
    "import pandas as pd\n",
    "import numpy as np\n",
    "import matplotlib.pyplot as plt\n",
    "import seaborn as sns\n",
    "import statsmodels.api as sm\n"
   ]
  },
  {
   "cell_type": "code",
   "execution_count": null,
   "id": "88e12313-a168-43bc-aebd-3001d8d53540",
   "metadata": {},
   "outputs": [],
   "source": [
    "seed(1)\n",
    "series = [random() for i in range(1000)]\n",
    "pyplot.plot(series)\n",
    "pyplot.show()"
   ]
  },
  {
   "cell_type": "markdown",
   "id": "cc624474-ae8a-4407-bfc7-0f33c21faa8e",
   "metadata": {},
   "source": [
    "## What is this?\n",
    "This is 1000 random numbers between 0 and 1\n",
    "Let's think about them as probabilities:\n",
    "- of a step forward or a step back\n",
    "- of success or failure at each time step\n",
    "- of stock moving up or down"
   ]
  },
  {
   "cell_type": "code",
   "execution_count": null,
   "id": "7b2bb49d-b209-4237-bc12-da7c415e0468",
   "metadata": {},
   "outputs": [],
   "source": [
    "seed(17) # Remember to remove or change this!\n",
    "random_walk = list()\n",
    "random_walk.append(-1 if random() < 0.5 else 1)\n",
    "for i in range(1, 1000):\n",
    " movement = -1 if random() < 0.5 else 1\n",
    " value = random_walk[i-1] + movement\n",
    " random_walk.append(value)\n",
    "\n",
    " \n",
    " "
   ]
  },
  {
   "cell_type": "code",
   "execution_count": null,
   "id": "4502ee14",
   "metadata": {},
   "outputs": [],
   "source": [
    "pyplot.plot(random_walk)\n",
    "pyplot.show()"
   ]
  },
  {
   "cell_type": "markdown",
   "id": "1afe0996-a8a9-4b2d-8699-c6f706b848fd",
   "metadata": {},
   "source": [
    "- If the probability is less than 0.5 then the stock goes down\n",
    "- If the probability is more than 0.5 then the stock goes up"
   ]
  },
  {
   "cell_type": "code",
   "execution_count": null,
   "id": "977c1d4d-59bd-47cd-9fc0-a64ea9bb2827",
   "metadata": {},
   "outputs": [],
   "source": [
    "autocorrelation_plot(random_walk)\n",
    "pyplot.show()"
   ]
  },
  {
   "cell_type": "markdown",
   "id": "256dd134",
   "metadata": {},
   "source": [
    "## Lets try a 2D Random Walk"
   ]
  },
  {
   "cell_type": "code",
   "execution_count": null,
   "id": "a5db3c2b-ac49-4bbd-a346-b6321ae92d81",
   "metadata": {},
   "outputs": [],
   "source": [
    "\n",
    "import random \n",
    "n = 100 #n is the number of steps(increase in the value of n increses the compelxity of graph) \n",
    "x = np.zeros(n) # x and y are arrays which store the coordinates of the position \n",
    "y = np.zeros(n) \n",
    "direction=[\"NORTH\",\"SOUTH\",\"EAST\",\"WEST\"] # Assuming the four directions of movement.\n",
    "for i in range(1, n): \n",
    "    step = random.choice(direction) #Randomly choosing the direction of movement. \n",
    "    if step == \"EAST\": #updating the direction with respect to the direction of motion choosen.\n",
    "        x[i] = x[i - 1] + 1\n",
    "        y[i] = y[i - 1] \n",
    "    elif step == \"WEST\": \n",
    "        x[i] = x[i - 1] - 1\n",
    "        y[i] = y[i - 1] \n",
    "    elif step == \"NORTH\": \n",
    "        x[i] = x[i - 1] \n",
    "        y[i] = y[i - 1] + 1\n",
    "    else: \n",
    "        x[i] = x[i - 1] \n",
    "        y[i] = y[i - 1] - 1\n",
    "pylab.title(\"Random Walk 2-D\")\n",
    "pylab.plot(x, y) #plotting the walk.\n",
    "pylab.show()"
   ]
  },
  {
   "cell_type": "markdown",
   "id": "0c0659cd-6e7c-402e-8045-5eb6ef44f0cf",
   "metadata": {},
   "source": [
    "##  Part 2 - Moving on to ARMA models"
   ]
  },
  {
   "cell_type": "markdown",
   "id": "6469685c-6c55-431b-b59f-89b24018b642",
   "metadata": {},
   "source": [
    "Source:\n",
    "\n",
    "https://goodboychan.github.io/python/datacamp/time_series_analysis/2020/06/08/01-Autoregressive-Models.html\n",
    "\n",
    "Which is a solution from Datacamp problem sets\n",
    "\n",
    "https://campus.datacamp.com/courses/time-series-analysis-in-python/autoregressive-ar-models?ex=2\n",
    "\n",
    "But best to look at Statsmodels Documentation\n",
    "\n",
    "https://www.statsmodels.org/dev/generated/statsmodels.tsa.arima_process.ArmaProcess.html#statsmodels.tsa.arima_process.ArmaProcess\n",
    "\n"
   ]
  },
  {
   "cell_type": "code",
   "execution_count": null,
   "id": "acb9aa03-e2ab-4a4d-95b9-a11e3234c1a4",
   "metadata": {},
   "outputs": [],
   "source": [
    "plt.rcParams['figure.figsize'] = (10, 5)"
   ]
  },
  {
   "cell_type": "code",
   "execution_count": null,
   "id": "8cd8d8db-d759-4f98-8da2-bc043ac48cd7",
   "metadata": {},
   "outputs": [],
   "source": [
    "from statsmodels.tsa.arima_process import ArmaProcess\n",
    "\n",
    "# Plot 1: AR parameter = +0.9\n",
    "plt.subplot(2, 1, 1)\n",
    "ar1 = np.array([1, -0.9])\n",
    "ma1 = np.array([1])\n",
    "AR_object1 = ArmaProcess(ar1, ma1)\n",
    "simulated_data_AR1 = AR_object1.generate_sample(nsample=1000)\n",
    "plt.plot(simulated_data_AR1);\n",
    "\n",
    "# Plot 2: AR parameter = -0.9\n",
    "plt.subplot(2, 1, 2)\n",
    "ar2 = np.array([1, +0.9])\n",
    "ma2 = np.array([1])\n",
    "AR_object2 = ArmaProcess(ar2, ma2)\n",
    "simulated_data_AR2 = AR_object2.generate_sample(nsample=1000)\n",
    "plt.plot(simulated_data_AR2);"
   ]
  },
  {
   "cell_type": "code",
   "execution_count": null,
   "id": "d5d8a9fe-20c0-4f7b-875a-7d98fe3d7f7f",
   "metadata": {},
   "outputs": [],
   "source": [
    "\n",
    "# Plot 1: MA parameter = +0.9\n",
    "plt.subplot(2, 1, 1)\n",
    "ar1 = np.array([1])\n",
    "ma1 = np.array([1, -0.9])\n",
    "AR_object1 = ArmaProcess(ar1, ma1)\n",
    "simulated_data_MA1 = AR_object1.generate_sample(nsample=1000)\n",
    "plt.plot(simulated_data_MA1);\n",
    "\n",
    "# Plot 2: MA parameter = -0.9\n",
    "plt.subplot(2, 1, 2)\n",
    "ar2 = np.array([1])\n",
    "ma2 = np.array([1, 0.9])\n",
    "AR_object2 = ArmaProcess(ar2, ma2)\n",
    "simulated_data_MA2 = AR_object2.generate_sample(nsample=1000)\n",
    "plt.plot(simulated_data_MA2);"
   ]
  },
  {
   "cell_type": "code",
   "execution_count": null,
   "id": "a92ca38a-12ec-4cf0-a05f-6d3ba8c51267",
   "metadata": {},
   "outputs": [],
   "source": [
    "from statsmodels.graphics.tsaplots import plot_acf\n",
    "\n",
    "# AR parameter = +0.3\n",
    "ar3 = np.array([1, -0.3])\n",
    "ma3 = np.array([1])\n",
    "AR_object3 = ArmaProcess(ar3, ma3)\n",
    "simulated_data_3 = AR_object3.generate_sample(nsample=1000)\n",
    "\n",
    "# Plot 1: AR parameter = +0.9\n",
    "plot_acf(simulated_data_AR1, alpha=1, lags=20);\n",
    "\n",
    "# Plot 2: AR parameter = -0.9\n",
    "plot_acf(simulated_data_AR2, alpha=1, lags=20);\n",
    "\n",
    "# Plot 3: AR parameter = +0.3\n",
    "plot_acf(simulated_data_3, alpha=1, lags=20);"
   ]
  },
  {
   "cell_type": "code",
   "execution_count": null,
   "id": "f9c9b6b1-0f82-4fe4-b0df-5d17b909883a",
   "metadata": {},
   "outputs": [],
   "source": [
    "np.random.seed(12345)\n",
    "arparams = np.array([.75, -.25])\n",
    "maparams = np.array([.65, .35])\n",
    "ar = np.r_[1, -arparams] # add zero-lag and negate\n",
    "ma = np.r_[1, maparams] # add zero-lag\n",
    "arma_process = sm.tsa.ArmaProcess(ar, ma)\n"
   ]
  },
  {
   "cell_type": "code",
   "execution_count": null,
   "id": "dcab0d64-7a01-4f47-a7a2-34856ce60b57",
   "metadata": {},
   "outputs": [],
   "source": [
    "arma_process.isstationary"
   ]
  },
  {
   "cell_type": "code",
   "execution_count": null,
   "id": "e3af5e66",
   "metadata": {},
   "outputs": [],
   "source": [
    "arma_process.isinvertible"
   ]
  },
  {
   "cell_type": "code",
   "execution_count": null,
   "id": "8374ab2c",
   "metadata": {},
   "outputs": [],
   "source": [
    "y = arma_process.generate_sample(250)\n",
    "fig, ax = plt.subplots()\n",
    "ax.plot(y);\n",
    "\n"
   ]
  },
  {
   "cell_type": "code",
   "execution_count": null,
   "id": "ebd1985c",
   "metadata": {},
   "outputs": [],
   "source": []
  },
  {
   "cell_type": "markdown",
   "id": "c54cd554",
   "metadata": {},
   "source": []
  }
 ],
 "metadata": {
  "kernelspec": {
   "display_name": "Python 3 (ipykernel)",
   "language": "python",
   "name": "python3"
  },
  "language_info": {
   "codemirror_mode": {
    "name": "ipython",
    "version": 3
   },
   "file_extension": ".py",
   "mimetype": "text/x-python",
   "name": "python",
   "nbconvert_exporter": "python",
   "pygments_lexer": "ipython3",
   "version": "3.8.15"
  }
 },
 "nbformat": 4,
 "nbformat_minor": 5
}
