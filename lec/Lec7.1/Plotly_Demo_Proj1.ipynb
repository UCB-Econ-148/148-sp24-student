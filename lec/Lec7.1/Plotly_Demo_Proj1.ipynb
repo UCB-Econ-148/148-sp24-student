{
 "cells": [
  {
   "cell_type": "markdown",
   "id": "dad2e223-292d-416b-a45d-a68150b57f22",
   "metadata": {},
   "source": [
    "Demo from Plotly Documentation \n",
    "https://plotly.com/python/mapbox-county-choropleth/"
   ]
  },
  {
   "cell_type": "markdown",
   "id": "136463bb",
   "metadata": {},
   "source": [
    "Starting with plotly demo - moving to Project 1 saved data\n",
    "\n",
    "Project 1 - FIPS to Lat Long\n",
    "This notebook - FIPS to Shapes \n",
    "\n",
    "Need to clean up county_fips from Projct 1 because some FIPS codes have leading zeros?\n"
   ]
  },
  {
   "cell_type": "code",
   "execution_count": null,
   "id": "d0c133ec-f044-4d11-8094-b241647108d8",
   "metadata": {},
   "outputs": [],
   "source": [
    "import pandas as pd\n",
    "from urllib.request import urlopen\n",
    "import json\n",
    "with urlopen('https://raw.githubusercontent.com/plotly/datasets/master/geojson-counties-fips.json') as response:\n",
    "    counties = json.load(response)\n",
    "\n",
    "counties[\"features\"][0]"
   ]
  },
  {
   "cell_type": "code",
   "execution_count": null,
   "id": "1c6fdce2",
   "metadata": {},
   "outputs": [],
   "source": [
    "#save counties to a dataframe\n",
    "counties_df = pd.DataFrame(counties[\"features\"])\n",
    "counties_df.head()"
   ]
  },
  {
   "cell_type": "code",
   "execution_count": null,
   "id": "d72e5b5a-63e1-4e75-8161-a96da6a615f1",
   "metadata": {},
   "outputs": [],
   "source": [
    "import pandas as pd\n",
    "df = pd.read_csv(\"https://raw.githubusercontent.com/plotly/datasets/master/fips-unemp-16.csv\",\n",
    "                   dtype={\"fips\": str})\n",
    "df.head()"
   ]
  },
  {
   "cell_type": "code",
   "execution_count": null,
   "id": "47c4ab7b-63c8-4eb2-adea-fa41fc6362e8",
   "metadata": {},
   "outputs": [],
   "source": [
    "import plotly.express as px\n",
    "\n",
    "fig = px.choropleth_mapbox(df, geojson=counties, locations='fips', color='unemp',\n",
    "                           color_continuous_scale=\"Viridis\",\n",
    "                           range_color=(0, 12),\n",
    "                           mapbox_style=\"carto-positron\",\n",
    "                           zoom=3, center = {\"lat\": 37.0902, \"lon\": -95.7129},\n",
    "                           opacity=0.5,\n",
    "                           labels={'unemp':'unemployment rate'}\n",
    "                          )\n",
    "fig.update_layout(margin={\"r\":0,\"t\":0,\"l\":0,\"b\":0})\n",
    "fig.show()"
   ]
  },
  {
   "cell_type": "code",
   "execution_count": null,
   "id": "d4e0d6a8-1404-4680-bd6a-f02d76b44de9",
   "metadata": {},
   "outputs": [],
   "source": [
    "proj1_df = pd.read_csv(\"data/proj1.csv\")\n",
    "proj1_df"
   ]
  },
  {
   "cell_type": "code",
   "execution_count": null,
   "id": "c179ea12",
   "metadata": {},
   "outputs": [],
   "source": [
    "proj1_df['county_fips'] = proj1_df['county_fips'].astype(str)\n"
   ]
  },
  {
   "cell_type": "code",
   "execution_count": null,
   "id": "3908463b",
   "metadata": {},
   "outputs": [],
   "source": [
    "#count the length of the county_fips code\n",
    "proj1_df['county_fips'].apply(len).value_counts()"
   ]
  },
  {
   "cell_type": "code",
   "execution_count": null,
   "id": "24a0f5f2",
   "metadata": {},
   "outputs": [],
   "source": [
    "# make a function to add a zero to the front of the fips code only for certain states\n",
    "def add_zero(county_fips):\n",
    "    if len(county_fips) == 4:\n",
    "        return \"0\" + county_fips\n",
    "    else:\n",
    "        return county_fips"
   ]
  },
  {
   "cell_type": "code",
   "execution_count": null,
   "id": "14a3de81",
   "metadata": {},
   "outputs": [],
   "source": [
    "proj1_df['county_fips'] = proj1_df['county_fips'].apply(add_zero)\n"
   ]
  },
  {
   "cell_type": "code",
   "execution_count": null,
   "id": "2fc56dc3",
   "metadata": {},
   "outputs": [],
   "source": [
    "proj1_df['county_fips'].apply(len).value_counts()"
   ]
  },
  {
   "cell_type": "code",
   "execution_count": null,
   "id": "ef2f2a41",
   "metadata": {},
   "outputs": [],
   "source": [
    "proj1_yr = proj1_df[proj1_df['year'] == 2019]\n",
    "proj1_yr\n"
   ]
  },
  {
   "cell_type": "code",
   "execution_count": null,
   "id": "6353ef47",
   "metadata": {},
   "outputs": [],
   "source": [
    "# redo the plotly map with proj1_yr\n",
    "fig = px.choropleth_mapbox(proj1_yr, geojson=counties, locations='county_fips', color='value',\n",
    "                           color_continuous_scale=\"Viridis\",\n",
    "                           #range_color=(0, 12),\n",
    "                           mapbox_style=\"carto-positron\",\n",
    "                           zoom=3, center = {\"lat\": 37.0902, \"lon\": -95.7129},\n",
    "                           opacity=0.5,\n",
    "                           labels={'rgdp growth':'pct change real gdp'}\n",
    "                          )\n",
    "fig.update_layout(margin={\"r\":0,\"t\":0,\"l\":0,\"b\":0})\n",
    "fig.show()"
   ]
  }
 ],
 "metadata": {
  "kernelspec": {
   "display_name": "Python 3 (ipykernel)",
   "language": "python",
   "name": "python3"
  },
  "language_info": {
   "codemirror_mode": {
    "name": "ipython",
    "version": 3
   },
   "file_extension": ".py",
   "mimetype": "text/x-python",
   "name": "python",
   "nbconvert_exporter": "python",
   "pygments_lexer": "ipython3",
   "version": "3.8.15"
  }
 },
 "nbformat": 4,
 "nbformat_minor": 5
}
